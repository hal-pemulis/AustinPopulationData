{
 "cells": [
  {
   "cell_type": "code",
   "execution_count": 45,
   "metadata": {},
   "outputs": [],
   "source": [
    "import pandas as pd\n",
    "import numpy as np\n",
    "import matplotlib.pyplot as plt\n",
    "import scipy.stats as st\n",
    "import gmaps\n",
    "# # Google developer API key\n",
    "# from config import gkey\n",
    "\n",
    "# # Access maps with unique API key\n",
    "# gmaps.configure(api_key=gkey)"
   ]
  },
  {
   "cell_type": "code",
   "execution_count": 2,
   "metadata": {},
   "outputs": [
    {
     "data": {
      "text/html": [
       "<div>\n",
       "<style scoped>\n",
       "    .dataframe tbody tr th:only-of-type {\n",
       "        vertical-align: middle;\n",
       "    }\n",
       "\n",
       "    .dataframe tbody tr th {\n",
       "        vertical-align: top;\n",
       "    }\n",
       "\n",
       "    .dataframe thead th {\n",
       "        text-align: right;\n",
       "    }\n",
       "</style>\n",
       "<table border=\"1\" class=\"dataframe\">\n",
       "  <thead>\n",
       "    <tr style=\"text-align: right;\">\n",
       "      <th></th>\n",
       "      <th>Zip</th>\n",
       "      <th>City</th>\n",
       "      <th>State</th>\n",
       "      <th>Latitude</th>\n",
       "      <th>Longitude</th>\n",
       "    </tr>\n",
       "  </thead>\n",
       "  <tbody>\n",
       "    <tr>\n",
       "      <td>0</td>\n",
       "      <td>71937</td>\n",
       "      <td>Cove</td>\n",
       "      <td>AR</td>\n",
       "      <td>34.398483</td>\n",
       "      <td>-94.39398</td>\n",
       "    </tr>\n",
       "    <tr>\n",
       "      <td>1</td>\n",
       "      <td>72044</td>\n",
       "      <td>Edgemont</td>\n",
       "      <td>AR</td>\n",
       "      <td>35.624351</td>\n",
       "      <td>-92.16056</td>\n",
       "    </tr>\n",
       "    <tr>\n",
       "      <td>2</td>\n",
       "      <td>56171</td>\n",
       "      <td>Sherburn</td>\n",
       "      <td>MN</td>\n",
       "      <td>43.660847</td>\n",
       "      <td>-94.74357</td>\n",
       "    </tr>\n",
       "    <tr>\n",
       "      <td>3</td>\n",
       "      <td>49430</td>\n",
       "      <td>Lamont</td>\n",
       "      <td>MI</td>\n",
       "      <td>43.010337</td>\n",
       "      <td>-85.89754</td>\n",
       "    </tr>\n",
       "    <tr>\n",
       "      <td>4</td>\n",
       "      <td>52585</td>\n",
       "      <td>Richland</td>\n",
       "      <td>IA</td>\n",
       "      <td>41.194129</td>\n",
       "      <td>-91.98027</td>\n",
       "    </tr>\n",
       "  </tbody>\n",
       "</table>\n",
       "</div>"
      ],
      "text/plain": [
       "     Zip      City State   Latitude  Longitude\n",
       "0  71937      Cove    AR  34.398483  -94.39398\n",
       "1  72044  Edgemont    AR  35.624351  -92.16056\n",
       "2  56171  Sherburn    MN  43.660847  -94.74357\n",
       "3  49430    Lamont    MI  43.010337  -85.89754\n",
       "4  52585  Richland    IA  41.194129  -91.98027"
      ]
     },
     "execution_count": 2,
     "metadata": {},
     "output_type": "execute_result"
    }
   ],
   "source": [
    "# A dataframe to get coordinates from zip codes\n",
    "# Lat, Lng data from https://public.opendatasoft.com\n",
    "path = '../../Resources/GeoData/us-zip-code-latitude-and-longitude.csv'\n",
    "zip_data = pd.DataFrame(pd.read_csv(path, index_col=False))\n",
    "zip_data = zip_data.drop(columns=['Timezone','Daylight savings time flag','geopoint'])\n",
    "zip_data.head()"
   ]
  },
  {
   "cell_type": "code",
   "execution_count": 3,
   "metadata": {},
   "outputs": [
    {
     "data": {
      "text/html": [
       "<div>\n",
       "<style scoped>\n",
       "    .dataframe tbody tr th:only-of-type {\n",
       "        vertical-align: middle;\n",
       "    }\n",
       "\n",
       "    .dataframe tbody tr th {\n",
       "        vertical-align: top;\n",
       "    }\n",
       "\n",
       "    .dataframe thead th {\n",
       "        text-align: right;\n",
       "    }\n",
       "</style>\n",
       "<table border=\"1\" class=\"dataframe\">\n",
       "  <thead>\n",
       "    <tr style=\"text-align: right;\">\n",
       "      <th></th>\n",
       "      <th>Zip</th>\n",
       "      <th>Permits Issued (2008-2018)</th>\n",
       "    </tr>\n",
       "  </thead>\n",
       "  <tbody>\n",
       "    <tr>\n",
       "      <td>0</td>\n",
       "      <td>78704.0</td>\n",
       "      <td>44889</td>\n",
       "    </tr>\n",
       "    <tr>\n",
       "      <td>1</td>\n",
       "      <td>78745.0</td>\n",
       "      <td>34643</td>\n",
       "    </tr>\n",
       "    <tr>\n",
       "      <td>2</td>\n",
       "      <td>78748.0</td>\n",
       "      <td>31675</td>\n",
       "    </tr>\n",
       "    <tr>\n",
       "      <td>3</td>\n",
       "      <td>78723.0</td>\n",
       "      <td>29773</td>\n",
       "    </tr>\n",
       "    <tr>\n",
       "      <td>4</td>\n",
       "      <td>78703.0</td>\n",
       "      <td>28982</td>\n",
       "    </tr>\n",
       "  </tbody>\n",
       "</table>\n",
       "</div>"
      ],
      "text/plain": [
       "       Zip  Permits Issued (2008-2018)\n",
       "0  78704.0                       44889\n",
       "1  78745.0                       34643\n",
       "2  78748.0                       31675\n",
       "3  78723.0                       29773\n",
       "4  78703.0                       28982"
      ]
     },
     "execution_count": 3,
     "metadata": {},
     "output_type": "execute_result"
    }
   ],
   "source": [
    "path2 = '../../Resources/permits_by_zip.csv'\n",
    "\n",
    "permits = pd.DataFrame(pd.read_csv(path2, header=None))\n",
    "\n",
    "permits = permits.rename(columns = {0:'Zip', 1:'Permits Issued (2008-2018)'})\n",
    "\n",
    "permits.head()"
   ]
  },
  {
   "cell_type": "code",
   "execution_count": 4,
   "metadata": {},
   "outputs": [
    {
     "data": {
      "text/html": [
       "<div>\n",
       "<style scoped>\n",
       "    .dataframe tbody tr th:only-of-type {\n",
       "        vertical-align: middle;\n",
       "    }\n",
       "\n",
       "    .dataframe tbody tr th {\n",
       "        vertical-align: top;\n",
       "    }\n",
       "\n",
       "    .dataframe thead th {\n",
       "        text-align: right;\n",
       "    }\n",
       "</style>\n",
       "<table border=\"1\" class=\"dataframe\">\n",
       "  <thead>\n",
       "    <tr style=\"text-align: right;\">\n",
       "      <th></th>\n",
       "      <th>Zip</th>\n",
       "      <th>Permits Issued (2008-2018)</th>\n",
       "      <th>City</th>\n",
       "      <th>State</th>\n",
       "      <th>Latitude</th>\n",
       "      <th>Longitude</th>\n",
       "    </tr>\n",
       "  </thead>\n",
       "  <tbody>\n",
       "    <tr>\n",
       "      <td>0</td>\n",
       "      <td>78704.0</td>\n",
       "      <td>44889</td>\n",
       "      <td>Austin</td>\n",
       "      <td>TX</td>\n",
       "      <td>30.246309</td>\n",
       "      <td>-97.76087</td>\n",
       "    </tr>\n",
       "    <tr>\n",
       "      <td>1</td>\n",
       "      <td>78745.0</td>\n",
       "      <td>34643</td>\n",
       "      <td>Austin</td>\n",
       "      <td>TX</td>\n",
       "      <td>30.207559</td>\n",
       "      <td>-97.79575</td>\n",
       "    </tr>\n",
       "    <tr>\n",
       "      <td>2</td>\n",
       "      <td>78748.0</td>\n",
       "      <td>31675</td>\n",
       "      <td>Austin</td>\n",
       "      <td>TX</td>\n",
       "      <td>30.172020</td>\n",
       "      <td>-97.82265</td>\n",
       "    </tr>\n",
       "    <tr>\n",
       "      <td>3</td>\n",
       "      <td>78723.0</td>\n",
       "      <td>29773</td>\n",
       "      <td>Austin</td>\n",
       "      <td>TX</td>\n",
       "      <td>30.306507</td>\n",
       "      <td>-97.68651</td>\n",
       "    </tr>\n",
       "    <tr>\n",
       "      <td>4</td>\n",
       "      <td>78703.0</td>\n",
       "      <td>28982</td>\n",
       "      <td>Austin</td>\n",
       "      <td>TX</td>\n",
       "      <td>30.290907</td>\n",
       "      <td>-97.76277</td>\n",
       "    </tr>\n",
       "  </tbody>\n",
       "</table>\n",
       "</div>"
      ],
      "text/plain": [
       "       Zip  Permits Issued (2008-2018)    City State   Latitude  Longitude\n",
       "0  78704.0                       44889  Austin    TX  30.246309  -97.76087\n",
       "1  78745.0                       34643  Austin    TX  30.207559  -97.79575\n",
       "2  78748.0                       31675  Austin    TX  30.172020  -97.82265\n",
       "3  78723.0                       29773  Austin    TX  30.306507  -97.68651\n",
       "4  78703.0                       28982  Austin    TX  30.290907  -97.76277"
      ]
     },
     "execution_count": 4,
     "metadata": {},
     "output_type": "execute_result"
    }
   ],
   "source": [
    "permits_zip = pd.merge(permits, zip_data, on='Zip',how='left')\n",
    "\n",
    "permits_zip.head()"
   ]
  },
  {
   "cell_type": "code",
   "execution_count": 5,
   "metadata": {},
   "outputs": [
    {
     "data": {
      "application/vnd.jupyter.widget-view+json": {
       "model_id": "7ecb5043d64a429e871417d06954acbb",
       "version_major": 2,
       "version_minor": 0
      },
      "text/plain": [
       "Figure(layout=FigureLayout(border='1px solid black', height='750px', margin='0 auto 0 auto', padding='1px', wi…"
      ]
     },
     "metadata": {},
     "output_type": "display_data"
    }
   ],
   "source": [
    "geocords = []\n",
    "permit_count = []\n",
    "\n",
    "for index, row in permits_zip.iterrows():\n",
    "    geocords.append((row['Latitude'], row['Longitude']))\n",
    "    permit_count.append(row['Permits Issued (2008-2018)'])\n",
    "\n",
    "# Plot Heatmap\n",
    "figure_layout = {\n",
    "    'width': '1000px',\n",
    "    'height': '750px',\n",
    "    'border': '1px solid black',\n",
    "    'padding': '1px',\n",
    "    'margin': '0 auto 0 auto'\n",
    "}\n",
    "fig = gmaps.figure(layout=figure_layout)\n",
    "\n",
    "fig.add_layer(gmaps.heatmap_layer(geocords,permit_count))\n",
    "fig"
   ]
  },
  {
   "cell_type": "code",
   "execution_count": 6,
   "metadata": {},
   "outputs": [
    {
     "data": {
      "text/html": [
       "<div>\n",
       "<style scoped>\n",
       "    .dataframe tbody tr th:only-of-type {\n",
       "        vertical-align: middle;\n",
       "    }\n",
       "\n",
       "    .dataframe tbody tr th {\n",
       "        vertical-align: top;\n",
       "    }\n",
       "\n",
       "    .dataframe thead th {\n",
       "        text-align: right;\n",
       "    }\n",
       "</style>\n",
       "<table border=\"1\" class=\"dataframe\">\n",
       "  <thead>\n",
       "    <tr style=\"text-align: right;\">\n",
       "      <th></th>\n",
       "      <th>Date</th>\n",
       "      <th>RegionName</th>\n",
       "      <th>State</th>\n",
       "      <th>Metro</th>\n",
       "      <th>County</th>\n",
       "      <th>City</th>\n",
       "      <th>SizeRank</th>\n",
       "      <th>Zri</th>\n",
       "      <th>MoM</th>\n",
       "      <th>QoQ</th>\n",
       "      <th>YoY</th>\n",
       "      <th>ZriRecordCnt</th>\n",
       "    </tr>\n",
       "  </thead>\n",
       "  <tbody>\n",
       "    <tr>\n",
       "      <td>0</td>\n",
       "      <td>2020-01-31</td>\n",
       "      <td>60657</td>\n",
       "      <td>IL</td>\n",
       "      <td>Chicago-Naperville-Elgin</td>\n",
       "      <td>Cook County</td>\n",
       "      <td>Chicago</td>\n",
       "      <td>0</td>\n",
       "      <td>1996</td>\n",
       "      <td>-0.0278</td>\n",
       "      <td>-0.0610</td>\n",
       "      <td>-0.0146</td>\n",
       "      <td>32023</td>\n",
       "    </tr>\n",
       "    <tr>\n",
       "      <td>1</td>\n",
       "      <td>2020-01-31</td>\n",
       "      <td>77494</td>\n",
       "      <td>TX</td>\n",
       "      <td>Houston-The Woodlands-Sugar Land</td>\n",
       "      <td>Harris County</td>\n",
       "      <td>Katy</td>\n",
       "      <td>1</td>\n",
       "      <td>1778</td>\n",
       "      <td>0.0013</td>\n",
       "      <td>0.0079</td>\n",
       "      <td>0.0022</td>\n",
       "      <td>43054</td>\n",
       "    </tr>\n",
       "    <tr>\n",
       "      <td>2</td>\n",
       "      <td>2020-01-31</td>\n",
       "      <td>77449</td>\n",
       "      <td>TX</td>\n",
       "      <td>Houston-The Woodlands-Sugar Land</td>\n",
       "      <td>Harris County</td>\n",
       "      <td>Katy</td>\n",
       "      <td>2</td>\n",
       "      <td>1443</td>\n",
       "      <td>-0.0071</td>\n",
       "      <td>0.0247</td>\n",
       "      <td>0.0179</td>\n",
       "      <td>41100</td>\n",
       "    </tr>\n",
       "    <tr>\n",
       "      <td>3</td>\n",
       "      <td>2020-01-31</td>\n",
       "      <td>10002</td>\n",
       "      <td>NY</td>\n",
       "      <td>New York-Newark-Jersey City</td>\n",
       "      <td>New York County</td>\n",
       "      <td>New York</td>\n",
       "      <td>3</td>\n",
       "      <td>3605</td>\n",
       "      <td>-0.0139</td>\n",
       "      <td>-0.0316</td>\n",
       "      <td>0.0223</td>\n",
       "      <td>12425</td>\n",
       "    </tr>\n",
       "    <tr>\n",
       "      <td>4</td>\n",
       "      <td>2020-01-31</td>\n",
       "      <td>77084</td>\n",
       "      <td>TX</td>\n",
       "      <td>Houston-The Woodlands-Sugar Land</td>\n",
       "      <td>Harris County</td>\n",
       "      <td>Houston</td>\n",
       "      <td>4</td>\n",
       "      <td>1438</td>\n",
       "      <td>0.0013</td>\n",
       "      <td>0.0122</td>\n",
       "      <td>0.0216</td>\n",
       "      <td>31001</td>\n",
       "    </tr>\n",
       "  </tbody>\n",
       "</table>\n",
       "</div>"
      ],
      "text/plain": [
       "         Date  RegionName State                             Metro  \\\n",
       "0  2020-01-31       60657    IL          Chicago-Naperville-Elgin   \n",
       "1  2020-01-31       77494    TX  Houston-The Woodlands-Sugar Land   \n",
       "2  2020-01-31       77449    TX  Houston-The Woodlands-Sugar Land   \n",
       "3  2020-01-31       10002    NY       New York-Newark-Jersey City   \n",
       "4  2020-01-31       77084    TX  Houston-The Woodlands-Sugar Land   \n",
       "\n",
       "            County      City  SizeRank   Zri     MoM     QoQ     YoY  \\\n",
       "0      Cook County   Chicago         0  1996 -0.0278 -0.0610 -0.0146   \n",
       "1    Harris County      Katy         1  1778  0.0013  0.0079  0.0022   \n",
       "2    Harris County      Katy         2  1443 -0.0071  0.0247  0.0179   \n",
       "3  New York County  New York         3  3605 -0.0139 -0.0316  0.0223   \n",
       "4    Harris County   Houston         4  1438  0.0013  0.0122  0.0216   \n",
       "\n",
       "   ZriRecordCnt  \n",
       "0         32023  \n",
       "1         43054  \n",
       "2         41100  \n",
       "3         12425  \n",
       "4         31001  "
      ]
     },
     "execution_count": 6,
     "metadata": {},
     "output_type": "execute_result"
    }
   ],
   "source": [
    "path3 = '../../Resources/Zip_Zri_AllHomesPlusMultifamily_Summary.csv'\n",
    "\n",
    "rent_df = pd.DataFrame(pd.read_csv(path3))\n",
    "\n",
    "rent_df.head()"
   ]
  },
  {
   "cell_type": "code",
   "execution_count": 7,
   "metadata": {},
   "outputs": [],
   "source": [
    "zips = permits_zip['Zip'].to_list()\n",
    "\n",
    "zris = {}\n",
    "\n",
    "for index, row in rent_df.iterrows():\n",
    "    for z in zips:\n",
    "        if z == row['RegionName']:\n",
    "            zris[z] = [row['Zri']]"
   ]
  },
  {
   "cell_type": "code",
   "execution_count": 8,
   "metadata": {},
   "outputs": [
    {
     "data": {
      "text/html": [
       "<div>\n",
       "<style scoped>\n",
       "    .dataframe tbody tr th:only-of-type {\n",
       "        vertical-align: middle;\n",
       "    }\n",
       "\n",
       "    .dataframe tbody tr th {\n",
       "        vertical-align: top;\n",
       "    }\n",
       "\n",
       "    .dataframe thead th {\n",
       "        text-align: right;\n",
       "    }\n",
       "</style>\n",
       "<table border=\"1\" class=\"dataframe\">\n",
       "  <thead>\n",
       "    <tr style=\"text-align: right;\">\n",
       "      <th></th>\n",
       "      <th>Zip</th>\n",
       "      <th>Zillow Rent Index (ZRI)</th>\n",
       "    </tr>\n",
       "  </thead>\n",
       "  <tbody>\n",
       "    <tr>\n",
       "      <td>0</td>\n",
       "      <td>78660.0</td>\n",
       "      <td>1521</td>\n",
       "    </tr>\n",
       "    <tr>\n",
       "      <td>1</td>\n",
       "      <td>78613.0</td>\n",
       "      <td>1552</td>\n",
       "    </tr>\n",
       "    <tr>\n",
       "      <td>2</td>\n",
       "      <td>78704.0</td>\n",
       "      <td>1894</td>\n",
       "    </tr>\n",
       "    <tr>\n",
       "      <td>3</td>\n",
       "      <td>78745.0</td>\n",
       "      <td>1551</td>\n",
       "    </tr>\n",
       "    <tr>\n",
       "      <td>4</td>\n",
       "      <td>78641.0</td>\n",
       "      <td>1546</td>\n",
       "    </tr>\n",
       "  </tbody>\n",
       "</table>\n",
       "</div>"
      ],
      "text/plain": [
       "       Zip  Zillow Rent Index (ZRI)\n",
       "0  78660.0                     1521\n",
       "1  78613.0                     1552\n",
       "2  78704.0                     1894\n",
       "3  78745.0                     1551\n",
       "4  78641.0                     1546"
      ]
     },
     "execution_count": 8,
     "metadata": {},
     "output_type": "execute_result"
    }
   ],
   "source": [
    "rent_zip = pd.DataFrame(data=zris).T\n",
    "\n",
    "rent_zip = rent_zip.reset_index()\n",
    "\n",
    "rent_zip = rent_zip.rename(columns = {'index':'Zip',0:'Zillow Rent Index (ZRI)'})\n",
    "\n",
    "rent_zip.head()"
   ]
  },
  {
   "cell_type": "code",
   "execution_count": 9,
   "metadata": {},
   "outputs": [
    {
     "data": {
      "text/html": [
       "<div>\n",
       "<style scoped>\n",
       "    .dataframe tbody tr th:only-of-type {\n",
       "        vertical-align: middle;\n",
       "    }\n",
       "\n",
       "    .dataframe tbody tr th {\n",
       "        vertical-align: top;\n",
       "    }\n",
       "\n",
       "    .dataframe thead th {\n",
       "        text-align: right;\n",
       "    }\n",
       "</style>\n",
       "<table border=\"1\" class=\"dataframe\">\n",
       "  <thead>\n",
       "    <tr style=\"text-align: right;\">\n",
       "      <th></th>\n",
       "      <th>Zip</th>\n",
       "      <th>Permits Issued (2008-2018)</th>\n",
       "      <th>City</th>\n",
       "      <th>State</th>\n",
       "      <th>Latitude</th>\n",
       "      <th>Longitude</th>\n",
       "      <th>Zillow Rent Index (ZRI)</th>\n",
       "    </tr>\n",
       "  </thead>\n",
       "  <tbody>\n",
       "    <tr>\n",
       "      <td>0</td>\n",
       "      <td>78704.0</td>\n",
       "      <td>44889</td>\n",
       "      <td>Austin</td>\n",
       "      <td>TX</td>\n",
       "      <td>30.246309</td>\n",
       "      <td>-97.76087</td>\n",
       "      <td>1894</td>\n",
       "    </tr>\n",
       "    <tr>\n",
       "      <td>1</td>\n",
       "      <td>78745.0</td>\n",
       "      <td>34643</td>\n",
       "      <td>Austin</td>\n",
       "      <td>TX</td>\n",
       "      <td>30.207559</td>\n",
       "      <td>-97.79575</td>\n",
       "      <td>1551</td>\n",
       "    </tr>\n",
       "    <tr>\n",
       "      <td>2</td>\n",
       "      <td>78748.0</td>\n",
       "      <td>31675</td>\n",
       "      <td>Austin</td>\n",
       "      <td>TX</td>\n",
       "      <td>30.172020</td>\n",
       "      <td>-97.82265</td>\n",
       "      <td>1617</td>\n",
       "    </tr>\n",
       "    <tr>\n",
       "      <td>3</td>\n",
       "      <td>78723.0</td>\n",
       "      <td>29773</td>\n",
       "      <td>Austin</td>\n",
       "      <td>TX</td>\n",
       "      <td>30.306507</td>\n",
       "      <td>-97.68651</td>\n",
       "      <td>1666</td>\n",
       "    </tr>\n",
       "    <tr>\n",
       "      <td>4</td>\n",
       "      <td>78703.0</td>\n",
       "      <td>28982</td>\n",
       "      <td>Austin</td>\n",
       "      <td>TX</td>\n",
       "      <td>30.290907</td>\n",
       "      <td>-97.76277</td>\n",
       "      <td>2246</td>\n",
       "    </tr>\n",
       "  </tbody>\n",
       "</table>\n",
       "</div>"
      ],
      "text/plain": [
       "       Zip  Permits Issued (2008-2018)    City State   Latitude  Longitude  \\\n",
       "0  78704.0                       44889  Austin    TX  30.246309  -97.76087   \n",
       "1  78745.0                       34643  Austin    TX  30.207559  -97.79575   \n",
       "2  78748.0                       31675  Austin    TX  30.172020  -97.82265   \n",
       "3  78723.0                       29773  Austin    TX  30.306507  -97.68651   \n",
       "4  78703.0                       28982  Austin    TX  30.290907  -97.76277   \n",
       "\n",
       "   Zillow Rent Index (ZRI)  \n",
       "0                     1894  \n",
       "1                     1551  \n",
       "2                     1617  \n",
       "3                     1666  \n",
       "4                     2246  "
      ]
     },
     "execution_count": 9,
     "metadata": {},
     "output_type": "execute_result"
    }
   ],
   "source": [
    "rent_permits = pd.merge(permits_zip,rent_zip,on='Zip',how='inner')\n",
    "rent_permits.head()"
   ]
  },
  {
   "cell_type": "code",
   "execution_count": 10,
   "metadata": {},
   "outputs": [
    {
     "data": {
      "application/vnd.jupyter.widget-view+json": {
       "model_id": "31c49275257c48fc86588efdab682344",
       "version_major": 2,
       "version_minor": 0
      },
      "text/plain": [
       "Figure(layout=FigureLayout(border='1px solid black', height='750px', margin='0 auto 0 auto', padding='1px', wi…"
      ]
     },
     "metadata": {},
     "output_type": "display_data"
    }
   ],
   "source": [
    "rent_geo = []\n",
    "zri = []\n",
    "\n",
    "for index, row in rent_permits.iterrows():\n",
    "    rent_geo.append((row['Latitude'], row['Longitude']))\n",
    "    zri.append(row['Zillow Rent Index (ZRI)'])\n",
    "\n",
    "# Plot Heatmap\n",
    "figure_layout = {\n",
    "    'width': '1000px',\n",
    "    'height': '750px',\n",
    "    'border': '1px solid black',\n",
    "    'padding': '1px',\n",
    "    'margin': '0 auto 0 auto'\n",
    "}\n",
    "fig = gmaps.figure(layout=figure_layout)\n",
    "\n",
    "fig.add_layer(gmaps.heatmap_layer(rent_geo,zri))\n",
    "fig"
   ]
  },
  {
   "cell_type": "code",
   "execution_count": 11,
   "metadata": {},
   "outputs": [
    {
     "data": {
      "text/html": [
       "<div>\n",
       "<style scoped>\n",
       "    .dataframe tbody tr th:only-of-type {\n",
       "        vertical-align: middle;\n",
       "    }\n",
       "\n",
       "    .dataframe tbody tr th {\n",
       "        vertical-align: top;\n",
       "    }\n",
       "\n",
       "    .dataframe thead th {\n",
       "        text-align: right;\n",
       "    }\n",
       "</style>\n",
       "<table border=\"1\" class=\"dataframe\">\n",
       "  <thead>\n",
       "    <tr style=\"text-align: right;\">\n",
       "      <th></th>\n",
       "      <th>ZIP code</th>\n",
       "      <th>Size of adjusted gross income</th>\n",
       "      <th>Number of returns</th>\n",
       "      <th>Number of joint returns</th>\n",
       "      <th>Number with paid preparer's signature</th>\n",
       "      <th>Number of exemptions</th>\n",
       "      <th>Number of dependents</th>\n",
       "      <th>Adjusted gross income (AGI)</th>\n",
       "    </tr>\n",
       "  </thead>\n",
       "  <tbody>\n",
       "    <tr>\n",
       "      <td>1</td>\n",
       "      <td>75001</td>\n",
       "      <td>$1 under $25,000</td>\n",
       "      <td>2644</td>\n",
       "      <td>220</td>\n",
       "      <td>1266</td>\n",
       "      <td>3778</td>\n",
       "      <td>1160</td>\n",
       "      <td>35921</td>\n",
       "    </tr>\n",
       "    <tr>\n",
       "      <td>2</td>\n",
       "      <td>75001</td>\n",
       "      <td>$25,000 under $50,000</td>\n",
       "      <td>2442</td>\n",
       "      <td>327</td>\n",
       "      <td>1018</td>\n",
       "      <td>3725</td>\n",
       "      <td>969</td>\n",
       "      <td>90058</td>\n",
       "    </tr>\n",
       "    <tr>\n",
       "      <td>3</td>\n",
       "      <td>75001</td>\n",
       "      <td>$50,000 under $75,000</td>\n",
       "      <td>1426</td>\n",
       "      <td>273</td>\n",
       "      <td>583</td>\n",
       "      <td>2046</td>\n",
       "      <td>353</td>\n",
       "      <td>87462</td>\n",
       "    </tr>\n",
       "    <tr>\n",
       "      <td>4</td>\n",
       "      <td>75001</td>\n",
       "      <td>$75,000 under $100,000</td>\n",
       "      <td>720</td>\n",
       "      <td>211</td>\n",
       "      <td>325</td>\n",
       "      <td>1080</td>\n",
       "      <td>151</td>\n",
       "      <td>62290</td>\n",
       "    </tr>\n",
       "    <tr>\n",
       "      <td>5</td>\n",
       "      <td>75001</td>\n",
       "      <td>$100,000 under $200,000</td>\n",
       "      <td>938</td>\n",
       "      <td>449</td>\n",
       "      <td>457</td>\n",
       "      <td>1668</td>\n",
       "      <td>281</td>\n",
       "      <td>126796</td>\n",
       "    </tr>\n",
       "  </tbody>\n",
       "</table>\n",
       "</div>"
      ],
      "text/plain": [
       "  ZIP code Size of adjusted gross income Number of returns  \\\n",
       "1    75001              $1 under $25,000              2644   \n",
       "2    75001         $25,000 under $50,000              2442   \n",
       "3    75001         $50,000 under $75,000              1426   \n",
       "4    75001        $75,000 under $100,000               720   \n",
       "5    75001       $100,000 under $200,000               938   \n",
       "\n",
       "  Number of joint returns Number with paid preparer's signature  \\\n",
       "1                     220                                  1266   \n",
       "2                     327                                  1018   \n",
       "3                     273                                   583   \n",
       "4                     211                                   325   \n",
       "5                     449                                   457   \n",
       "\n",
       "  Number of exemptions Number of dependents Adjusted gross income (AGI)  \n",
       "1                 3778                 1160                       35921  \n",
       "2                 3725                  969                       90058  \n",
       "3                 2046                  353                       87462  \n",
       "4                 1080                  151                       62290  \n",
       "5                 1668                  281                      126796  "
      ]
     },
     "execution_count": 11,
     "metadata": {},
     "output_type": "execute_result"
    }
   ],
   "source": [
    "path4 = '../../resources/IRS_TX.csv'\n",
    "\n",
    "tax_df = pd.DataFrame(pd.read_csv(path4))\n",
    "\n",
    "tax_df = tax_df.dropna(how='any')\n",
    "\n",
    "tax_df.head()"
   ]
  },
  {
   "cell_type": "code",
   "execution_count": 12,
   "metadata": {},
   "outputs": [
    {
     "data": {
      "text/html": [
       "<div>\n",
       "<style scoped>\n",
       "    .dataframe tbody tr th:only-of-type {\n",
       "        vertical-align: middle;\n",
       "    }\n",
       "\n",
       "    .dataframe tbody tr th {\n",
       "        vertical-align: top;\n",
       "    }\n",
       "\n",
       "    .dataframe thead th {\n",
       "        text-align: right;\n",
       "    }\n",
       "</style>\n",
       "<table border=\"1\" class=\"dataframe\">\n",
       "  <thead>\n",
       "    <tr style=\"text-align: right;\">\n",
       "      <th></th>\n",
       "      <th>ZIP code</th>\n",
       "      <th>Size of adjusted gross income</th>\n",
       "      <th>Number of returns</th>\n",
       "      <th>Number of joint returns</th>\n",
       "      <th>Number with paid preparer's signature</th>\n",
       "      <th>Number of exemptions</th>\n",
       "      <th>Number of dependents</th>\n",
       "      <th>Adjusted gross income (AGI)</th>\n",
       "    </tr>\n",
       "  </thead>\n",
       "  <tbody>\n",
       "    <tr>\n",
       "      <td>8751</td>\n",
       "      <td>78610</td>\n",
       "      <td>$1 under $25,000</td>\n",
       "      <td>3623</td>\n",
       "      <td>497</td>\n",
       "      <td>1270</td>\n",
       "      <td>5153</td>\n",
       "      <td>1690</td>\n",
       "      <td>44994</td>\n",
       "    </tr>\n",
       "    <tr>\n",
       "      <td>8752</td>\n",
       "      <td>78610</td>\n",
       "      <td>$25,000 under $50,000</td>\n",
       "      <td>2835</td>\n",
       "      <td>841</td>\n",
       "      <td>1015</td>\n",
       "      <td>6045</td>\n",
       "      <td>2375</td>\n",
       "      <td>103510</td>\n",
       "    </tr>\n",
       "    <tr>\n",
       "      <td>8753</td>\n",
       "      <td>78610</td>\n",
       "      <td>$50,000 under $75,000</td>\n",
       "      <td>1940</td>\n",
       "      <td>1141</td>\n",
       "      <td>734</td>\n",
       "      <td>4755</td>\n",
       "      <td>1674</td>\n",
       "      <td>120192</td>\n",
       "    </tr>\n",
       "    <tr>\n",
       "      <td>8754</td>\n",
       "      <td>78610</td>\n",
       "      <td>$75,000 under $100,000</td>\n",
       "      <td>1497</td>\n",
       "      <td>1221</td>\n",
       "      <td>536</td>\n",
       "      <td>4164</td>\n",
       "      <td>1446</td>\n",
       "      <td>129808</td>\n",
       "    </tr>\n",
       "    <tr>\n",
       "      <td>8755</td>\n",
       "      <td>78610</td>\n",
       "      <td>$100,000 under $200,000</td>\n",
       "      <td>1778</td>\n",
       "      <td>1646</td>\n",
       "      <td>740</td>\n",
       "      <td>5351</td>\n",
       "      <td>1928</td>\n",
       "      <td>232232</td>\n",
       "    </tr>\n",
       "  </tbody>\n",
       "</table>\n",
       "</div>"
      ],
      "text/plain": [
       "     ZIP code Size of adjusted gross income Number of returns  \\\n",
       "8751    78610              $1 under $25,000              3623   \n",
       "8752    78610         $25,000 under $50,000              2835   \n",
       "8753    78610         $50,000 under $75,000              1940   \n",
       "8754    78610        $75,000 under $100,000              1497   \n",
       "8755    78610       $100,000 under $200,000              1778   \n",
       "\n",
       "     Number of joint returns Number with paid preparer's signature  \\\n",
       "8751                     497                                  1270   \n",
       "8752                     841                                  1015   \n",
       "8753                    1141                                   734   \n",
       "8754                    1221                                   536   \n",
       "8755                    1646                                   740   \n",
       "\n",
       "     Number of exemptions Number of dependents Adjusted gross income (AGI)  \n",
       "8751                 5153                 1690                       44994  \n",
       "8752                 6045                 2375                      103510  \n",
       "8753                 4755                 1674                      120192  \n",
       "8754                 4164                 1446                      129808  \n",
       "8755                 5351                 1928                      232232  "
      ]
     },
     "execution_count": 12,
     "metadata": {},
     "output_type": "execute_result"
    }
   ],
   "source": [
    "new_zips = []\n",
    "\n",
    "unwanted = []\n",
    "\n",
    "for z in zips:\n",
    "    new_zips.append(str(int(z)))\n",
    "    \n",
    "for index, row in tax_df.iterrows():\n",
    "        \n",
    "    if row['Number of returns'] == '**':\n",
    "        row['Number of returns'] = 0\n",
    "        \n",
    "    if row['Adjusted gross income (AGI)'] == '**':\n",
    "        row['Adjusted gross income (AGI)'] = 0\n",
    "        \n",
    "    if row['Number of exemptions'] == '**':\n",
    "        row['Number of exemptions'] = '0'\n",
    "        \n",
    "    row['Number of returns'] = int(row['Number of returns'])\n",
    "    row['Adjusted gross income (AGI)'] = int(row['Adjusted gross income (AGI)'])\n",
    "    row['Number of exemptions'] = int(row['Number of exemptions'])\n",
    "    \n",
    "    \n",
    "    if row['ZIP code'] not in new_zips:\n",
    "        if row['ZIP code'] not in unwanted:\n",
    "            unwanted.append(row['ZIP code'])\n",
    "            \n",
    "for z in unwanted:\n",
    "    tax_df = tax_df.loc[tax_df['ZIP code'] != z]\n",
    "\n",
    "tax_df.head()"
   ]
  },
  {
   "cell_type": "code",
   "execution_count": 13,
   "metadata": {},
   "outputs": [
    {
     "data": {
      "text/html": [
       "<div>\n",
       "<style scoped>\n",
       "    .dataframe tbody tr th:only-of-type {\n",
       "        vertical-align: middle;\n",
       "    }\n",
       "\n",
       "    .dataframe tbody tr th {\n",
       "        vertical-align: top;\n",
       "    }\n",
       "\n",
       "    .dataframe thead th {\n",
       "        text-align: right;\n",
       "    }\n",
       "</style>\n",
       "<table border=\"1\" class=\"dataframe\">\n",
       "  <thead>\n",
       "    <tr style=\"text-align: right;\">\n",
       "      <th></th>\n",
       "      <th>Returns</th>\n",
       "      <th>AGI</th>\n",
       "    </tr>\n",
       "    <tr>\n",
       "      <th>Size of adjusted gross income</th>\n",
       "      <th></th>\n",
       "      <th></th>\n",
       "    </tr>\n",
       "  </thead>\n",
       "  <tbody>\n",
       "    <tr>\n",
       "      <td>$1 under $25,000</td>\n",
       "      <td>226018</td>\n",
       "      <td>2896887</td>\n",
       "    </tr>\n",
       "    <tr>\n",
       "      <td>$25,000 under $50,000</td>\n",
       "      <td>160021</td>\n",
       "      <td>5783934</td>\n",
       "    </tr>\n",
       "    <tr>\n",
       "      <td>$50,000 under $75,000</td>\n",
       "      <td>81298</td>\n",
       "      <td>4992632</td>\n",
       "    </tr>\n",
       "    <tr>\n",
       "      <td>$75,000 under $100,000</td>\n",
       "      <td>53409</td>\n",
       "      <td>4632824</td>\n",
       "    </tr>\n",
       "    <tr>\n",
       "      <td>$100,000 under $200,000</td>\n",
       "      <td>81529</td>\n",
       "      <td>11138976</td>\n",
       "    </tr>\n",
       "    <tr>\n",
       "      <td>$200,000 or more</td>\n",
       "      <td>32806</td>\n",
       "      <td>16801580</td>\n",
       "    </tr>\n",
       "  </tbody>\n",
       "</table>\n",
       "</div>"
      ],
      "text/plain": [
       "                               Returns       AGI\n",
       "Size of adjusted gross income                   \n",
       "$1 under $25,000                226018   2896887\n",
       "$25,000 under $50,000           160021   5783934\n",
       "$50,000 under $75,000            81298   4992632\n",
       "$75,000 under $100,000           53409   4632824\n",
       "$100,000 under $200,000          81529  11138976\n",
       "$200,000 or more                 32806  16801580"
      ]
     },
     "execution_count": 13,
     "metadata": {},
     "output_type": "execute_result"
    }
   ],
   "source": [
    "returns = tax_df.groupby('Size of adjusted gross income')['Number of returns'].sum()\n",
    "\n",
    "agi = tax_df.groupby('Size of adjusted gross income')['Adjusted gross income (AGI)'].sum()\n",
    "\n",
    "brackets = pd.DataFrame({'Returns':returns,'AGI':agi})\n",
    "\n",
    "brackets = brackets.reindex(index=['$1 under $25,000','$25,000 under $50,000',\n",
    "                                '$50,000 under $75,000','$75,000 under $100,000',\n",
    "                                '$100,000 under $200,000','$200,000 or more'])\n",
    "\n",
    "brackets"
   ]
  },
  {
   "cell_type": "code",
   "execution_count": 14,
   "metadata": {},
   "outputs": [
    {
     "data": {
      "image/png": "[encoded data removed]",
      "text/plain": [
       "<Figure size 720x576 with 1 Axes>"
      ]
     },
     "metadata": {
      "needs_background": "light"
     },
     "output_type": "display_data"
    }
   ],
   "source": [
    "brackets['Returns'].plot(kind='bar',title='Austin Tax Returns by Tax Bracket',figsize=(10,8))\n",
    "plt.ylabel('Number of Taxpayers')\n",
    "plt.savefig('../../Output_Data/Tax_Returns_by_Bracket.png',dpi=100)"
   ]
  },
  {
   "cell_type": "code",
   "execution_count": 15,
   "metadata": {},
   "outputs": [
    {
     "data": {
      "image/png": "[encoded data removed]",
      "text/plain": [
       "<Figure size 720x576 with 1 Axes>"
      ]
     },
     "metadata": {
      "needs_background": "light"
     },
     "output_type": "display_data"
    }
   ],
   "source": [
    "brackets['AGI'].plot(kind='bar',color='r',title='Austin Adjusted Gross Income by Tax Bracket',figsize=(10,8))\n",
    "plt.ylabel('AGI')\n",
    "plt.savefig('../../Output_Data/Adjusted_Gross_Income_by_Bracket.png',dpi=100)"
   ]
  },
  {
   "cell_type": "code",
   "execution_count": 16,
   "metadata": {},
   "outputs": [],
   "source": [
    "tax_bracks = {}\n",
    "\n",
    "# agis = []\n",
    "\n",
    "for index, row in tax_df.iterrows():\n",
    "\n",
    "#         agi = 0\n",
    "        \n",
    "    tax_bracks[row['ZIP code']] = {}\n",
    "\n",
    "    if row['Size of adjusted gross income'] == '$1 under $25,000':\n",
    "        tax_bracks[row['ZIP code']]['$1 under $25,000'] = int(row['Number of returns'])\n",
    "#                 agi += int(row['Adjusted gross income (AGI)'])\n",
    "\n",
    "    elif row['Size of adjusted gross income'] == '$25,000 under $50,000':\n",
    "        tax_bracks[row['ZIP code']]['$25,000 under $50,000'] = int(row['Number of returns'])\n",
    "#                 agi += int(row['Adjusted gross income (AGI)'])\n",
    "\n",
    "\n",
    "    elif row['Size of adjusted gross income'] == '$50,000 under $75,000':\n",
    "        tax_bracks[row['ZIP code']]['$50,000 under $75,000'] = int(row['Number of returns'])\n",
    "#                 agi += int(row['Adjusted gross income (AGI)'])\n",
    "\n",
    "\n",
    "    elif row['Size of adjusted gross income'] == '$75,000 under $100,000':\n",
    "        tax_bracks[row['ZIP code']]['$75,000 under $100,000'] = int(row['Number of returns'])\n",
    "#                 agi += int(row['Adjusted gross income (AGI)'])\n",
    "\n",
    "\n",
    "    elif row['Size of adjusted gross income'] == '$100,000 under $200,000':\n",
    "        tax_bracks[row['ZIP code']]['$100,000 under $200,000'] = int(row['Number of returns'])\n",
    "#                 agi += int(row['Adjusted gross income (AGI)'])\n",
    "\n",
    "\n",
    "    elif row['Size of adjusted gross income'] == '$200,000 or more':\n",
    "        tax_bracks[row['ZIP code']]['$200,000 or more'] = int(row['Number of returns'])\n",
    "#                 agi += int(row['Adjusted gross income (AGI)'])\n",
    "\n"
   ]
  },
  {
   "cell_type": "code",
   "execution_count": 17,
   "metadata": {},
   "outputs": [
    {
     "data": {
      "text/html": [
       "<div>\n",
       "<style scoped>\n",
       "    .dataframe tbody tr th:only-of-type {\n",
       "        vertical-align: middle;\n",
       "    }\n",
       "\n",
       "    .dataframe tbody tr th {\n",
       "        vertical-align: top;\n",
       "    }\n",
       "\n",
       "    .dataframe thead th {\n",
       "        text-align: right;\n",
       "    }\n",
       "</style>\n",
       "<table border=\"1\" class=\"dataframe\">\n",
       "  <thead>\n",
       "    <tr style=\"text-align: right;\">\n",
       "      <th></th>\n",
       "      <th>Zip</th>\n",
       "      <th>Permits Issued (2008-2018)</th>\n",
       "      <th>City</th>\n",
       "      <th>State</th>\n",
       "      <th>Latitude</th>\n",
       "      <th>Longitude</th>\n",
       "      <th>Zillow Rent Index (ZRI)</th>\n",
       "      <th>$200,000 or more</th>\n",
       "    </tr>\n",
       "  </thead>\n",
       "  <tbody>\n",
       "    <tr>\n",
       "      <td>11</td>\n",
       "      <td>78746.0</td>\n",
       "      <td>21367</td>\n",
       "      <td>Austin</td>\n",
       "      <td>TX</td>\n",
       "      <td>30.287739</td>\n",
       "      <td>-97.80220</td>\n",
       "      <td>2025</td>\n",
       "      <td>3591</td>\n",
       "    </tr>\n",
       "    <tr>\n",
       "      <td>8</td>\n",
       "      <td>78731.0</td>\n",
       "      <td>27494</td>\n",
       "      <td>Austin</td>\n",
       "      <td>TX</td>\n",
       "      <td>30.344305</td>\n",
       "      <td>-97.76380</td>\n",
       "      <td>1856</td>\n",
       "      <td>2160</td>\n",
       "    </tr>\n",
       "    <tr>\n",
       "      <td>4</td>\n",
       "      <td>78703.0</td>\n",
       "      <td>28982</td>\n",
       "      <td>Austin</td>\n",
       "      <td>TX</td>\n",
       "      <td>30.290907</td>\n",
       "      <td>-97.76277</td>\n",
       "      <td>2246</td>\n",
       "      <td>2037</td>\n",
       "    </tr>\n",
       "    <tr>\n",
       "      <td>9</td>\n",
       "      <td>78759.0</td>\n",
       "      <td>27343</td>\n",
       "      <td>Austin</td>\n",
       "      <td>TX</td>\n",
       "      <td>30.406169</td>\n",
       "      <td>-97.75743</td>\n",
       "      <td>1828</td>\n",
       "      <td>1602</td>\n",
       "    </tr>\n",
       "    <tr>\n",
       "      <td>41</td>\n",
       "      <td>78738.0</td>\n",
       "      <td>3843</td>\n",
       "      <td>Austin</td>\n",
       "      <td>TX</td>\n",
       "      <td>30.340111</td>\n",
       "      <td>-97.98869</td>\n",
       "      <td>1983</td>\n",
       "      <td>1496</td>\n",
       "    </tr>\n",
       "  </tbody>\n",
       "</table>\n",
       "</div>"
      ],
      "text/plain": [
       "        Zip  Permits Issued (2008-2018)    City State   Latitude  Longitude  \\\n",
       "11  78746.0                       21367  Austin    TX  30.287739  -97.80220   \n",
       "8   78731.0                       27494  Austin    TX  30.344305  -97.76380   \n",
       "4   78703.0                       28982  Austin    TX  30.290907  -97.76277   \n",
       "9   78759.0                       27343  Austin    TX  30.406169  -97.75743   \n",
       "41  78738.0                        3843  Austin    TX  30.340111  -97.98869   \n",
       "\n",
       "    Zillow Rent Index (ZRI)  $200,000 or more  \n",
       "11                     2025              3591  \n",
       "8                      1856              2160  \n",
       "4                      2246              2037  \n",
       "9                      1828              1602  \n",
       "41                     1983              1496  "
      ]
     },
     "execution_count": 17,
     "metadata": {},
     "output_type": "execute_result"
    }
   ],
   "source": [
    "tax_bracks_df = pd.DataFrame(data=(tax_bracks)).T\n",
    "tax_bracks_df = tax_bracks_df.reset_index()\n",
    "tax_bracks_df = tax_bracks_df.rename(columns={'index':'Zip'})\n",
    "\n",
    "tax_bracks_df['Zip'] = tax_bracks_df['Zip'].astype('int64', copy=False)\n",
    "\n",
    "\n",
    "over200_zip = pd.merge(rent_permits, tax_bracks_df, on='Zip',how='left')\n",
    "\n",
    "over200_zip.sort_values('$200,000 or more',ascending=False).head()"
   ]
  },
  {
   "cell_type": "code",
   "execution_count": 77,
   "metadata": {},
   "outputs": [],
   "source": [
    "# A function to create linear regression plots\n",
    "def regress(x, y, title, xlab, ylab):\n",
    "    \n",
    "    # Calculates linear regression\n",
    "    (slope, intercept, rvalue, pvalue, stderr) = st.linregress(x,y)\n",
    "    x = np.asarray(x, dtype=np.float64)\n",
    "    regress_values = x * slope + intercept\n",
    "\n",
    "    # Plots scatter plot and regresion\n",
    "    plt.figure(figsize=(8, 6))\n",
    "    plt.scatter(x,y)\n",
    "    plt.plot(x,regress_values,\"r-\")\n",
    "\n",
    "    # Annotates graph with equation\n",
    "    line_eq = \"y = \" + str(round(slope,2)) + \"x + \" + str(round(intercept,2))\n",
    "    plt.annotate(line_eq,xy=(0,0),fontsize=15,color=\"red\")\n",
    "    plt.xlabel(xlab)\n",
    "    plt.ylabel(ylab)\n",
    "    plt.title(title)\n",
    "\n",
    "    # Prints r squared value from linregress function\n",
    "    print(f'The r-squared is: {rvalue}')"
   ]
  },
  {
   "cell_type": "code",
   "execution_count": 18,
   "metadata": {},
   "outputs": [
    {
     "data": {
      "application/vnd.jupyter.widget-view+json": {
       "model_id": "5ec6ee832a27486e86b59f28165fc835",
       "version_major": 2,
       "version_minor": 0
      },
      "text/plain": [
       "Figure(layout=FigureLayout(border='1px solid black', height='750px', margin='0 auto 0 auto', padding='1px', wi…"
      ]
     },
     "metadata": {},
     "output_type": "display_data"
    }
   ],
   "source": [
    "rich_geo = []\n",
    "rich_count = []\n",
    "\n",
    "for index, row in over200_zip.iterrows():\n",
    "    rich_geo.append((row['Latitude'], row['Longitude']))\n",
    "    rich_count.append(row['$200,000 or more'])\n",
    "\n",
    "# Plot Heatmap\n",
    "figure_layout = {\n",
    "    'width': '1000px',\n",
    "    'height': '750px',\n",
    "    'border': '1px solid black',\n",
    "    'padding': '1px',\n",
    "    'margin': '0 auto 0 auto'\n",
    "}\n",
    "fig = gmaps.figure(layout=figure_layout)\n",
    "\n",
    "fig.add_layer(gmaps.heatmap_layer(rich_geo,rich_count))\n",
    "fig"
   ]
  },
  {
   "cell_type": "code",
   "execution_count": 24,
   "metadata": {},
   "outputs": [],
   "source": [
    "path_pop = '../../Resources/Census.gov/By_Year/Austin_population/Austin_population_2013.csv'\n",
    "demog_df = pd.DataFrame(pd.read_csv(path_pop))\n",
    "demog_df = demog_df.rename(columns={'Zipcode':'Zip'})\n",
    "\n",
    "\n",
    "path_pov = '../../Resources/Census.gov/By_Year/Austin_poverty/Austin_poverty_2013.csv'\n",
    "pov_df = pd.DataFrame(pd.read_csv(path_pov))\n",
    "pov_df = pov_df.rename(columns={'Zipcode':'Zip'})\n",
    "\n",
    "\n",
    "path_edu = '../../Resources/Census.gov/By_Year/Austin_education/Austin_education_2013.csv'\n",
    "edu_df = pd.DataFrame(pd.read_csv(path_edu))\n",
    "edu_df = edu_df.rename(columns={'Zipcode':'Zip'})\n",
    "\n",
    "housing_path = '../../Resources/Census.gov/By_Year/Austin_housing/Austin_housing_2013.csv'\n",
    "housing_df = pd.DataFrame(pd.read_csv(housing_path))\n",
    "housing_df = housing_df.rename(columns={'Zipcode':'Zip'})"
   ]
  },
  {
   "cell_type": "code",
   "execution_count": 25,
   "metadata": {},
   "outputs": [
    {
     "data": {
      "text/html": [
       "<div>\n",
       "<style scoped>\n",
       "    .dataframe tbody tr th:only-of-type {\n",
       "        vertical-align: middle;\n",
       "    }\n",
       "\n",
       "    .dataframe tbody tr th {\n",
       "        vertical-align: top;\n",
       "    }\n",
       "\n",
       "    .dataframe thead th {\n",
       "        text-align: right;\n",
       "    }\n",
       "</style>\n",
       "<table border=\"1\" class=\"dataframe\">\n",
       "  <thead>\n",
       "    <tr style=\"text-align: right;\">\n",
       "      <th></th>\n",
       "      <th>Zip</th>\n",
       "      <th>Permits Issued (2008-2018)</th>\n",
       "      <th>City</th>\n",
       "      <th>State</th>\n",
       "      <th>Latitude</th>\n",
       "      <th>Longitude</th>\n",
       "      <th>Zillow Rent Index (ZRI)</th>\n",
       "      <th>$200,000 or more</th>\n",
       "      <th>Median Age</th>\n",
       "      <th>Population</th>\n",
       "      <th>...</th>\n",
       "      <th>Education (Master's)</th>\n",
       "      <th>Education (Professional)</th>\n",
       "      <th>Education (Doctorate)</th>\n",
       "      <th>NAME_x</th>\n",
       "      <th>Median year housing units were built</th>\n",
       "      <th>Median contract rent</th>\n",
       "      <th>Median gross rent (contract rent plus utilities)</th>\n",
       "      <th>Median value (dollars) for Owner-Occupied housing units</th>\n",
       "      <th>Median Selected Monthly Owner Costs (Dollars) by Mortgage Status</th>\n",
       "      <th>NAME_y</th>\n",
       "    </tr>\n",
       "  </thead>\n",
       "  <tbody>\n",
       "    <tr>\n",
       "      <td>0</td>\n",
       "      <td>78704.0</td>\n",
       "      <td>44889</td>\n",
       "      <td>Austin</td>\n",
       "      <td>TX</td>\n",
       "      <td>30.246309</td>\n",
       "      <td>-97.76087</td>\n",
       "      <td>1894</td>\n",
       "      <td>1007</td>\n",
       "      <td>31.6</td>\n",
       "      <td>41999.0</td>\n",
       "      <td>...</td>\n",
       "      <td>3834.0</td>\n",
       "      <td>1584.0</td>\n",
       "      <td>759.0</td>\n",
       "      <td>ZCTA5 78704</td>\n",
       "      <td>1975.0</td>\n",
       "      <td>865.0</td>\n",
       "      <td>983.0</td>\n",
       "      <td>347500.0</td>\n",
       "      <td>2127.0</td>\n",
       "      <td>ZCTA5 78704</td>\n",
       "    </tr>\n",
       "    <tr>\n",
       "      <td>1</td>\n",
       "      <td>78745.0</td>\n",
       "      <td>34643</td>\n",
       "      <td>Austin</td>\n",
       "      <td>TX</td>\n",
       "      <td>30.207559</td>\n",
       "      <td>-97.79575</td>\n",
       "      <td>1551</td>\n",
       "      <td>223</td>\n",
       "      <td>35.3</td>\n",
       "      <td>57559.0</td>\n",
       "      <td>...</td>\n",
       "      <td>3204.0</td>\n",
       "      <td>587.0</td>\n",
       "      <td>359.0</td>\n",
       "      <td>ZCTA5 78745</td>\n",
       "      <td>1979.0</td>\n",
       "      <td>853.0</td>\n",
       "      <td>1020.0</td>\n",
       "      <td>170200.0</td>\n",
       "      <td>1395.0</td>\n",
       "      <td>ZCTA5 78745</td>\n",
       "    </tr>\n",
       "    <tr>\n",
       "      <td>2</td>\n",
       "      <td>78748.0</td>\n",
       "      <td>31675</td>\n",
       "      <td>Austin</td>\n",
       "      <td>TX</td>\n",
       "      <td>30.172020</td>\n",
       "      <td>-97.82265</td>\n",
       "      <td>1617</td>\n",
       "      <td>298</td>\n",
       "      <td>32.2</td>\n",
       "      <td>41710.0</td>\n",
       "      <td>...</td>\n",
       "      <td>2750.0</td>\n",
       "      <td>297.0</td>\n",
       "      <td>217.0</td>\n",
       "      <td>ZCTA5 78748</td>\n",
       "      <td>1996.0</td>\n",
       "      <td>942.0</td>\n",
       "      <td>1138.0</td>\n",
       "      <td>187900.0</td>\n",
       "      <td>1624.0</td>\n",
       "      <td>ZCTA5 78748</td>\n",
       "    </tr>\n",
       "    <tr>\n",
       "      <td>3</td>\n",
       "      <td>78723.0</td>\n",
       "      <td>29773</td>\n",
       "      <td>Austin</td>\n",
       "      <td>TX</td>\n",
       "      <td>30.306507</td>\n",
       "      <td>-97.68651</td>\n",
       "      <td>1666</td>\n",
       "      <td>178</td>\n",
       "      <td>30.9</td>\n",
       "      <td>31234.0</td>\n",
       "      <td>...</td>\n",
       "      <td>1605.0</td>\n",
       "      <td>324.0</td>\n",
       "      <td>315.0</td>\n",
       "      <td>ZCTA5 78723</td>\n",
       "      <td>1973.0</td>\n",
       "      <td>680.0</td>\n",
       "      <td>840.0</td>\n",
       "      <td>178500.0</td>\n",
       "      <td>1449.0</td>\n",
       "      <td>ZCTA5 78723</td>\n",
       "    </tr>\n",
       "    <tr>\n",
       "      <td>4</td>\n",
       "      <td>78703.0</td>\n",
       "      <td>28982</td>\n",
       "      <td>Austin</td>\n",
       "      <td>TX</td>\n",
       "      <td>30.290907</td>\n",
       "      <td>-97.76277</td>\n",
       "      <td>2246</td>\n",
       "      <td>2037</td>\n",
       "      <td>36.2</td>\n",
       "      <td>19860.0</td>\n",
       "      <td>...</td>\n",
       "      <td>3315.0</td>\n",
       "      <td>2016.0</td>\n",
       "      <td>611.0</td>\n",
       "      <td>ZCTA5 78703</td>\n",
       "      <td>1964.0</td>\n",
       "      <td>1086.0</td>\n",
       "      <td>1192.0</td>\n",
       "      <td>641200.0</td>\n",
       "      <td>3285.0</td>\n",
       "      <td>ZCTA5 78703</td>\n",
       "    </tr>\n",
       "  </tbody>\n",
       "</table>\n",
       "<p>5 rows × 46 columns</p>\n",
       "</div>"
      ],
      "text/plain": [
       "       Zip  Permits Issued (2008-2018)    City State   Latitude  Longitude  \\\n",
       "0  78704.0                       44889  Austin    TX  30.246309  -97.76087   \n",
       "1  78745.0                       34643  Austin    TX  30.207559  -97.79575   \n",
       "2  78748.0                       31675  Austin    TX  30.172020  -97.82265   \n",
       "3  78723.0                       29773  Austin    TX  30.306507  -97.68651   \n",
       "4  78703.0                       28982  Austin    TX  30.290907  -97.76277   \n",
       "\n",
       "   Zillow Rent Index (ZRI)  $200,000 or more  Median Age  Population  ...  \\\n",
       "0                     1894              1007        31.6     41999.0  ...   \n",
       "1                     1551               223        35.3     57559.0  ...   \n",
       "2                     1617               298        32.2     41710.0  ...   \n",
       "3                     1666               178        30.9     31234.0  ...   \n",
       "4                     2246              2037        36.2     19860.0  ...   \n",
       "\n",
       "   Education (Master's)  Education (Professional)  Education (Doctorate)  \\\n",
       "0                3834.0                    1584.0                  759.0   \n",
       "1                3204.0                     587.0                  359.0   \n",
       "2                2750.0                     297.0                  217.0   \n",
       "3                1605.0                     324.0                  315.0   \n",
       "4                3315.0                    2016.0                  611.0   \n",
       "\n",
       "        NAME_x  Median year housing units were built  Median contract rent  \\\n",
       "0  ZCTA5 78704                                1975.0                 865.0   \n",
       "1  ZCTA5 78745                                1979.0                 853.0   \n",
       "2  ZCTA5 78748                                1996.0                 942.0   \n",
       "3  ZCTA5 78723                                1973.0                 680.0   \n",
       "4  ZCTA5 78703                                1964.0                1086.0   \n",
       "\n",
       "   Median gross rent (contract rent plus utilities)  \\\n",
       "0                                             983.0   \n",
       "1                                            1020.0   \n",
       "2                                            1138.0   \n",
       "3                                             840.0   \n",
       "4                                            1192.0   \n",
       "\n",
       "   Median value (dollars) for Owner-Occupied housing units  \\\n",
       "0                                           347500.0         \n",
       "1                                           170200.0         \n",
       "2                                           187900.0         \n",
       "3                                           178500.0         \n",
       "4                                           641200.0         \n",
       "\n",
       "   Median Selected Monthly Owner Costs (Dollars) by Mortgage Status  \\\n",
       "0                                             2127.0                  \n",
       "1                                             1395.0                  \n",
       "2                                             1624.0                  \n",
       "3                                             1449.0                  \n",
       "4                                             3285.0                  \n",
       "\n",
       "        NAME_y  \n",
       "0  ZCTA5 78704  \n",
       "1  ZCTA5 78745  \n",
       "2  ZCTA5 78748  \n",
       "3  ZCTA5 78723  \n",
       "4  ZCTA5 78703  \n",
       "\n",
       "[5 rows x 46 columns]"
      ]
     },
     "execution_count": 25,
     "metadata": {},
     "output_type": "execute_result"
    }
   ],
   "source": [
    "austin_geo_df = pd.merge(over200_zip,demog_df,on='Zip',how='left')\n",
    "\n",
    "austin_geo_df = pd.merge(austin_geo_df,pov_df,on='Zip',how='left')\n",
    "\n",
    "austin_geo_df = pd.merge(austin_geo_df,edu_df,on='Zip',how='left')\n",
    "\n",
    "austin_geo_df = pd.merge(austin_geo_df,housing_df,on='Zip',how='left')\n",
    "\n",
    "\n",
    "austin_geo_df = austin_geo_df.dropna(how='any')\n",
    "\n",
    "austin_geo_df.to_csv('../../Resources/All_2013_Census_Data.csv')\n",
    "\n",
    "austin_geo_df.head()"
   ]
  },
  {
   "cell_type": "code",
   "execution_count": 26,
   "metadata": {},
   "outputs": [
    {
     "data": {
      "application/vnd.jupyter.widget-view+json": {
       "model_id": "e59f5e23b45048e89d77937a1df574d0",
       "version_major": 2,
       "version_minor": 0
      },
      "text/plain": [
       "Figure(layout=FigureLayout(border='1px solid black', height='750px', margin='0 auto 0 auto', padding='1px', wi…"
      ]
     },
     "metadata": {},
     "output_type": "display_data"
    }
   ],
   "source": [
    "austin_geocords = []\n",
    "house_income = []\n",
    "\n",
    "for index, row in austin_geo_df.iterrows():\n",
    "    austin_geocords.append((row['Latitude'], row['Longitude']))\n",
    "    row['Household Income'] = int(row['Household Income'])\n",
    "    house_income.append(row['Household Income'])\n",
    "\n",
    "# Plot Heatmap\n",
    "figure_layout = {\n",
    "    'width': '1000px',\n",
    "    'height': '750px',\n",
    "    'border': '1px solid black',\n",
    "    'padding': '1px',\n",
    "    'margin': '0 auto 0 auto'\n",
    "}\n",
    "fig = gmaps.figure(layout=figure_layout)\n",
    "\n",
    "fig.add_layer(gmaps.heatmap_layer(austin_geocords,house_income))\n",
    "fig"
   ]
  },
  {
   "cell_type": "code",
   "execution_count": 34,
   "metadata": {
    "scrolled": false
   },
   "outputs": [
    {
     "data": {
      "application/vnd.jupyter.widget-view+json": {
       "model_id": "8ced61bbe2344579921cea771df02abd",
       "version_major": 2,
       "version_minor": 0
      },
      "text/plain": [
       "Figure(layout=FigureLayout(border='1px solid black', height='750px', margin='0 auto 0 auto', padding='1px', wi…"
      ]
     },
     "metadata": {},
     "output_type": "display_data"
    }
   ],
   "source": [
    "austin_geocords = []\n",
    "nonwhite = []\n",
    "white = []\n",
    "\n",
    "for index, row in austin_geo_df.iterrows():\n",
    "    austin_geocords.append((row['Latitude'], row['Longitude']))\n",
    "    row['Population (Black Alone)'] = int(row['Population (Black Alone)'])\n",
    "    row['Population'] = int(row['Population'])\n",
    "    row['Population (White Alone)'] = int(row['Population (White Alone)'])\n",
    "    white.append(row['Population (White Alone)'])\n",
    "    nonwhite.append(row['Population'] - row['Population (White Alone)'])\n",
    "\n",
    "# Plot Heatmap\n",
    "figure_layout = {\n",
    "    'width': '1000px',\n",
    "    'height': '750px',\n",
    "    'border': '1px solid black',\n",
    "    'padding': '1px',\n",
    "    'margin': '0 auto 0 auto'\n",
    "}\n",
    "fig = gmaps.figure(layout=figure_layout)\n",
    "\n",
    "fig.add_layer(gmaps.heatmap_layer(austin_geocords,nonwhite))\n",
    "fig"
   ]
  },
  {
   "cell_type": "code",
   "execution_count": 67,
   "metadata": {},
   "outputs": [],
   "source": []
  },
  {
   "cell_type": "code",
   "execution_count": 68,
   "metadata": {},
   "outputs": [
    {
     "name": "stdout",
     "output_type": "stream",
     "text": [
      "The r-squared is: -0.4250384412598117\n"
     ]
    },
    {
     "data": {
      "image/png": "[encoded data removed]",
      "text/plain": [
       "<Figure size 576x432 with 1 Axes>"
      ]
     },
     "metadata": {
      "needs_background": "light"
     },
     "output_type": "display_data"
    }
   ],
   "source": [
    "regress(nonwhite, house_income, 'Household Income of Nonwhite Population by Zip Code (2013)', \n",
    "        'Number of Residents', 'Household Income')"
   ]
  },
  {
   "cell_type": "code",
   "execution_count": 69,
   "metadata": {},
   "outputs": [
    {
     "name": "stdout",
     "output_type": "stream",
     "text": [
      "The r-squared is: -0.06004597628790961\n"
     ]
    },
    {
     "data": {
      "image/png": "[encoded data removed]",
      "text/plain": [
       "<Figure size 576x432 with 1 Axes>"
      ]
     },
     "metadata": {
      "needs_background": "light"
     },
     "output_type": "display_data"
    }
   ],
   "source": [
    "regress(white, house_income, 'Household Income of White Population by Zip Code (2013)', \n",
    "        'Number of Residents', 'Household Income')"
   ]
  },
  {
   "cell_type": "code",
   "execution_count": 70,
   "metadata": {},
   "outputs": [
    {
     "data": {
      "application/vnd.jupyter.widget-view+json": {
       "model_id": "04daa924ad8b44e3b264872aa6bf67e1",
       "version_major": 2,
       "version_minor": 0
      },
      "text/plain": [
       "Figure(layout=FigureLayout(border='1px solid black', height='750px', margin='0 auto 0 auto', padding='1px', wi…"
      ]
     },
     "metadata": {},
     "output_type": "display_data"
    }
   ],
   "source": [
    "austin_geocords = []\n",
    "age = []\n",
    "\n",
    "for index, row in austin_geo_df.iterrows():\n",
    "    austin_geocords.append((row['Latitude'], row['Longitude']))\n",
    "    row['Median Age'] = int(row['Median Age'])\n",
    "    age.append(row['Median Age'])\n",
    "\n",
    "# Plot Heatmap\n",
    "figure_layout = {\n",
    "    'width': '1000px',\n",
    "    'height': '750px',\n",
    "    'border': '1px solid black',\n",
    "    'padding': '1px',\n",
    "    'margin': '0 auto 0 auto'\n",
    "}\n",
    "fig = gmaps.figure(layout=figure_layout)\n",
    "\n",
    "fig.add_layer(gmaps.heatmap_layer(austin_geocords,age))\n",
    "fig"
   ]
  },
  {
   "cell_type": "code",
   "execution_count": 71,
   "metadata": {},
   "outputs": [
    {
     "data": {
      "application/vnd.jupyter.widget-view+json": {
       "model_id": "a5845dc6574648fd9a549c9ef5c41993",
       "version_major": 2,
       "version_minor": 0
      },
      "text/plain": [
       "Figure(layout=FigureLayout(border='1px solid black', height='750px', margin='0 auto 0 auto', padding='1px', wi…"
      ]
     },
     "metadata": {},
     "output_type": "display_data"
    }
   ],
   "source": [
    "austin_geocords = []\n",
    "college = []\n",
    "\n",
    "for index, row in austin_geo_df.iterrows():\n",
    "    austin_geocords.append((row['Latitude'], row['Longitude']))\n",
    "    row[\"Education (Bachelor's)\"] = int(row[\"Education (Bachelor's)\"])\n",
    "    row[\"Education (Master's)\"] = int(row[\"Education (Master's)\"])\n",
    "    row[\"Education (Professional)\"] = int(row[\"Education (Professional)\"])\n",
    "    row[\"Education (Doctorate)\"] = int(row[\"Education (Doctorate)\"])\n",
    "    college.append(row[\"Education (Bachelor's)\"]+row[\"Education (Master's)\"]+row[\"Education (Professional)\"]+row[\"Education (Doctorate)\"])\n",
    "\n",
    "# Plot Heatmap\n",
    "figure_layout = {\n",
    "    'width': '1000px',\n",
    "    'height': '750px',\n",
    "    'border': '1px solid black',\n",
    "    'padding': '1px',\n",
    "    'margin': '0 auto 0 auto'\n",
    "}\n",
    "fig = gmaps.figure(layout=figure_layout)\n",
    "\n",
    "fig.add_layer(gmaps.heatmap_layer(austin_geocords,college))\n",
    "fig"
   ]
  },
  {
   "cell_type": "code",
   "execution_count": 74,
   "metadata": {},
   "outputs": [
    {
     "name": "stdout",
     "output_type": "stream",
     "text": [
      "The r-squared is: 0.2568874396450129\n"
     ]
    },
    {
     "data": {
      "image/png": "[encoded data removed]",
      "text/plain": [
       "<Figure size 576x432 with 1 Axes>"
      ]
     },
     "metadata": {
      "needs_background": "light"
     },
     "output_type": "display_data"
    }
   ],
   "source": [
    "regress(college, house_income, 'Household Income by Upper Educated Population by Zip Code (2013)', \n",
    "        'Number of College-Educated Residents', 'Household Income')"
   ]
  },
  {
   "cell_type": "code",
   "execution_count": 73,
   "metadata": {},
   "outputs": [
    {
     "name": "stdout",
     "output_type": "stream",
     "text": [
      "The r-squared is: 0.055122731633248184\n"
     ]
    },
    {
     "data": {
      "image/png": "[encoded data removed]",
      "text/plain": [
       "<Figure size 576x432 with 1 Axes>"
      ]
     },
     "metadata": {
      "needs_background": "light"
     },
     "output_type": "display_data"
    }
   ],
   "source": [
    "regress(college, poverty, 'Poverty by Upper Education by Zip Code (2013)', \n",
    "        'Number of College-Educated Residents', 'Number Experiencing Poverty')"
   ]
  },
  {
   "cell_type": "code",
   "execution_count": 61,
   "metadata": {
    "scrolled": true
   },
   "outputs": [
    {
     "data": {
      "application/vnd.jupyter.widget-view+json": {
       "model_id": "820a17c143164cd8994bfa584e58c978",
       "version_major": 2,
       "version_minor": 0
      },
      "text/plain": [
       "Figure(layout=FigureLayout(border='1px solid black', height='750px', margin='0 auto 0 auto', padding='1px', wi…"
      ]
     },
     "metadata": {},
     "output_type": "display_data"
    }
   ],
   "source": [
    "austin_geocords = []\n",
    "poverty = []\n",
    "\n",
    "for index, row in austin_geo_df.iterrows():\n",
    "    austin_geocords.append((row['Latitude'], row['Longitude']))\n",
    "    row['Total Poverty Count'] = int(row['Total Poverty Count'])\n",
    "    poverty.append(row['Total Poverty Count'])\n",
    "\n",
    "# Plot Heatmap\n",
    "figure_layout = {\n",
    "    'width': '1000px',\n",
    "    'height': '750px',\n",
    "    'border': '1px solid black',\n",
    "    'padding': '1px',\n",
    "    'margin': '0 auto 0 auto'\n",
    "}\n",
    "fig = gmaps.figure(layout=figure_layout)\n",
    "\n",
    "fig.add_layer(gmaps.heatmap_layer(austin_geocords,poverty))\n",
    "fig"
   ]
  },
  {
   "cell_type": "code",
   "execution_count": 72,
   "metadata": {},
   "outputs": [
    {
     "name": "stdout",
     "output_type": "stream",
     "text": [
      "The r-squared is: 0.7832412509021836\n"
     ]
    },
    {
     "data": {
      "image/png": "[encoded data removed]",
      "text/plain": [
       "<Figure size 576x432 with 1 Axes>"
      ]
     },
     "metadata": {
      "needs_background": "light"
     },
     "output_type": "display_data"
    }
   ],
   "source": [
    "regress(nonwhite, poverty, 'Poverty of Nonwhite Population by Zip Code (2013)', \n",
    "        'Number of Nonwhite Residents', 'Number Experiencing Poverty')"
   ]
  },
  {
   "cell_type": "code",
   "execution_count": 31,
   "metadata": {},
   "outputs": [
    {
     "data": {
      "application/vnd.jupyter.widget-view+json": {
       "model_id": "6ca439946a914d10b2c9fa19a8bd84f5",
       "version_major": 2,
       "version_minor": 0
      },
      "text/plain": [
       "Figure(layout=FigureLayout(border='1px solid black', height='750px', margin='0 auto 0 auto', padding='1px', wi…"
      ]
     },
     "metadata": {},
     "output_type": "display_data"
    }
   ],
   "source": [
    "austin_geocords = []\n",
    "house_years = []\n",
    "\n",
    "for index, row in austin_geo_df.iterrows():\n",
    "    austin_geocords.append((row['Latitude'], row['Longitude']))\n",
    "    row['Median year housing units were built'] = float(row['Median year housing units were built'])\n",
    "    house_years.append(row['Median year housing units were built']-1950)\n",
    "        \n",
    "# Plot Heatmap\n",
    "figure_layout = {\n",
    "    'width': '1000px',\n",
    "    'height': '750px',\n",
    "    'border': '1px solid black',\n",
    "    'padding': '1px',\n",
    "    'margin': '0 auto 0 auto'\n",
    "}\n",
    "fig = gmaps.figure(layout=figure_layout)\n",
    "\n",
    "fig.add_layer(gmaps.heatmap_layer(austin_geocords,house_years))\n",
    "fig\n"
   ]
  },
  {
   "cell_type": "code",
   "execution_count": 78,
   "metadata": {},
   "outputs": [
    {
     "name": "stdout",
     "output_type": "stream",
     "text": [
      "The r-squared is: -0.40970454896293057\n"
     ]
    },
    {
     "data": {
      "image/png": "[encoded data removed]",
      "text/plain": [
       "<Figure size 576x432 with 1 Axes>"
      ]
     },
     "metadata": {
      "needs_background": "light"
     },
     "output_type": "display_data"
    }
   ],
   "source": [
    "regress(house_years, austin_geo_df['Permits Issued (2008-2018)'], 'Age of Housing by Zip Code (2013)', \n",
    "        'Median Age of Housing', 'Number of Construction Permits Issued')"
   ]
  },
  {
   "cell_type": "code",
   "execution_count": null,
   "metadata": {},
   "outputs": [],
   "source": []
  }
 ],
 "metadata": {
  "kernelspec": {
   "display_name": "Python 3",
   "language": "python",
   "name": "python3"
  },
  "language_info": {
   "codemirror_mode": {
    "name": "ipython",
    "version": 3
   },
   "file_extension": ".py",
   "mimetype": "text/x-python",
   "name": "python",
   "nbconvert_exporter": "python",
   "pygments_lexer": "ipython3",
   "version": "3.7.4"
  }
 },
 "nbformat": 4,
 "nbformat_minor": 2
}
