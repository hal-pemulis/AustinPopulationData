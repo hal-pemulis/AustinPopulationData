{
 "cells": [
  {
   "cell_type": "markdown",
   "metadata": {},
   "source": [
    "# Austin data"
   ]
  },
  {
   "cell_type": "code",
   "execution_count": 343,
   "metadata": {},
   "outputs": [],
   "source": [
    "# import libraries\n",
    "import pandas as pd\n",
    "import numpy as np\n",
    "import matplotlib.pyplot as plt\n",
    "import scipy.stats as st\n",
    "import gmaps\n",
    "# # Google developer API key\n",
    "# from config import gkey\n",
    "\n",
    "# # Access maps with unique API key\n",
    "# gmaps.configure(api_key=gkey)"
   ]
  },
  {
   "cell_type": "markdown",
   "metadata": {},
   "source": [
    "# Austin is growing fast!"
   ]
  },
  {
   "cell_type": "code",
   "execution_count": 344,
   "metadata": {},
   "outputs": [],
   "source": [
    "#insert pop graph\n",
    "#insert other city trends"
   ]
  },
  {
   "cell_type": "markdown",
   "metadata": {},
   "source": [
    "# Where construction is happening (2008-2018)"
   ]
  },
  {
   "cell_type": "code",
   "execution_count": 345,
   "metadata": {},
   "outputs": [
    {
     "data": {
      "text/html": [
       "<div>\n",
       "<style scoped>\n",
       "    .dataframe tbody tr th:only-of-type {\n",
       "        vertical-align: middle;\n",
       "    }\n",
       "\n",
       "    .dataframe tbody tr th {\n",
       "        vertical-align: top;\n",
       "    }\n",
       "\n",
       "    .dataframe thead th {\n",
       "        text-align: right;\n",
       "    }\n",
       "</style>\n",
       "<table border=\"1\" class=\"dataframe\">\n",
       "  <thead>\n",
       "    <tr style=\"text-align: right;\">\n",
       "      <th></th>\n",
       "      <th>Zip</th>\n",
       "      <th>City</th>\n",
       "      <th>State</th>\n",
       "      <th>Latitude</th>\n",
       "      <th>Longitude</th>\n",
       "    </tr>\n",
       "  </thead>\n",
       "  <tbody>\n",
       "    <tr>\n",
       "      <td>0</td>\n",
       "      <td>71937</td>\n",
       "      <td>Cove</td>\n",
       "      <td>AR</td>\n",
       "      <td>34.398483</td>\n",
       "      <td>-94.39398</td>\n",
       "    </tr>\n",
       "    <tr>\n",
       "      <td>1</td>\n",
       "      <td>72044</td>\n",
       "      <td>Edgemont</td>\n",
       "      <td>AR</td>\n",
       "      <td>35.624351</td>\n",
       "      <td>-92.16056</td>\n",
       "    </tr>\n",
       "    <tr>\n",
       "      <td>2</td>\n",
       "      <td>56171</td>\n",
       "      <td>Sherburn</td>\n",
       "      <td>MN</td>\n",
       "      <td>43.660847</td>\n",
       "      <td>-94.74357</td>\n",
       "    </tr>\n",
       "    <tr>\n",
       "      <td>3</td>\n",
       "      <td>49430</td>\n",
       "      <td>Lamont</td>\n",
       "      <td>MI</td>\n",
       "      <td>43.010337</td>\n",
       "      <td>-85.89754</td>\n",
       "    </tr>\n",
       "    <tr>\n",
       "      <td>4</td>\n",
       "      <td>52585</td>\n",
       "      <td>Richland</td>\n",
       "      <td>IA</td>\n",
       "      <td>41.194129</td>\n",
       "      <td>-91.98027</td>\n",
       "    </tr>\n",
       "  </tbody>\n",
       "</table>\n",
       "</div>"
      ],
      "text/plain": [
       "     Zip      City State   Latitude  Longitude\n",
       "0  71937      Cove    AR  34.398483  -94.39398\n",
       "1  72044  Edgemont    AR  35.624351  -92.16056\n",
       "2  56171  Sherburn    MN  43.660847  -94.74357\n",
       "3  49430    Lamont    MI  43.010337  -85.89754\n",
       "4  52585  Richland    IA  41.194129  -91.98027"
      ]
     },
     "execution_count": 345,
     "metadata": {},
     "output_type": "execute_result"
    }
   ],
   "source": [
    "# A dataframe to get coordinates from zip codes\n",
    "# Lat, Lng data from https://public.opendatasoft.com\n",
    "path = '../../Resources/GeoData/us-zip-code-latitude-and-longitude.csv'\n",
    "zip_data = pd.DataFrame(pd.read_csv(path, index_col=False))\n",
    "zip_data = zip_data.drop(columns=['Timezone','Daylight savings time flag','geopoint'])\n",
    "zip_data.head()"
   ]
  },
  {
   "cell_type": "code",
   "execution_count": 346,
   "metadata": {},
   "outputs": [
    {
     "data": {
      "text/html": [
       "<div>\n",
       "<style scoped>\n",
       "    .dataframe tbody tr th:only-of-type {\n",
       "        vertical-align: middle;\n",
       "    }\n",
       "\n",
       "    .dataframe tbody tr th {\n",
       "        vertical-align: top;\n",
       "    }\n",
       "\n",
       "    .dataframe thead th {\n",
       "        text-align: right;\n",
       "    }\n",
       "</style>\n",
       "<table border=\"1\" class=\"dataframe\">\n",
       "  <thead>\n",
       "    <tr style=\"text-align: right;\">\n",
       "      <th></th>\n",
       "      <th>Zip</th>\n",
       "      <th>Permits Issued (2008-2018)</th>\n",
       "    </tr>\n",
       "  </thead>\n",
       "  <tbody>\n",
       "    <tr>\n",
       "      <td>0</td>\n",
       "      <td>78704.0</td>\n",
       "      <td>44889</td>\n",
       "    </tr>\n",
       "    <tr>\n",
       "      <td>1</td>\n",
       "      <td>78745.0</td>\n",
       "      <td>34643</td>\n",
       "    </tr>\n",
       "    <tr>\n",
       "      <td>2</td>\n",
       "      <td>78748.0</td>\n",
       "      <td>31675</td>\n",
       "    </tr>\n",
       "    <tr>\n",
       "      <td>3</td>\n",
       "      <td>78723.0</td>\n",
       "      <td>29773</td>\n",
       "    </tr>\n",
       "    <tr>\n",
       "      <td>4</td>\n",
       "      <td>78703.0</td>\n",
       "      <td>28982</td>\n",
       "    </tr>\n",
       "  </tbody>\n",
       "</table>\n",
       "</div>"
      ],
      "text/plain": [
       "       Zip  Permits Issued (2008-2018)\n",
       "0  78704.0                       44889\n",
       "1  78745.0                       34643\n",
       "2  78748.0                       31675\n",
       "3  78723.0                       29773\n",
       "4  78703.0                       28982"
      ]
     },
     "execution_count": 346,
     "metadata": {},
     "output_type": "execute_result"
    }
   ],
   "source": [
    "path2 = '../../Resources/GeoData/permits_by_zip.csv'\n",
    "\n",
    "permits = pd.DataFrame(pd.read_csv(path2, header=None))\n",
    "\n",
    "permits = permits.rename(columns = {0:'Zip', 1:'Permits Issued (2008-2018)'})\n",
    "\n",
    "permits.head()"
   ]
  },
  {
   "cell_type": "code",
   "execution_count": 347,
   "metadata": {},
   "outputs": [
    {
     "data": {
      "text/html": [
       "<div>\n",
       "<style scoped>\n",
       "    .dataframe tbody tr th:only-of-type {\n",
       "        vertical-align: middle;\n",
       "    }\n",
       "\n",
       "    .dataframe tbody tr th {\n",
       "        vertical-align: top;\n",
       "    }\n",
       "\n",
       "    .dataframe thead th {\n",
       "        text-align: right;\n",
       "    }\n",
       "</style>\n",
       "<table border=\"1\" class=\"dataframe\">\n",
       "  <thead>\n",
       "    <tr style=\"text-align: right;\">\n",
       "      <th></th>\n",
       "      <th>Zip</th>\n",
       "      <th>Permits Issued (2008-2018)</th>\n",
       "      <th>City</th>\n",
       "      <th>State</th>\n",
       "      <th>Latitude</th>\n",
       "      <th>Longitude</th>\n",
       "    </tr>\n",
       "  </thead>\n",
       "  <tbody>\n",
       "    <tr>\n",
       "      <td>0</td>\n",
       "      <td>78704.0</td>\n",
       "      <td>44889</td>\n",
       "      <td>Austin</td>\n",
       "      <td>TX</td>\n",
       "      <td>30.246309</td>\n",
       "      <td>-97.76087</td>\n",
       "    </tr>\n",
       "    <tr>\n",
       "      <td>1</td>\n",
       "      <td>78745.0</td>\n",
       "      <td>34643</td>\n",
       "      <td>Austin</td>\n",
       "      <td>TX</td>\n",
       "      <td>30.207559</td>\n",
       "      <td>-97.79575</td>\n",
       "    </tr>\n",
       "    <tr>\n",
       "      <td>2</td>\n",
       "      <td>78748.0</td>\n",
       "      <td>31675</td>\n",
       "      <td>Austin</td>\n",
       "      <td>TX</td>\n",
       "      <td>30.172020</td>\n",
       "      <td>-97.82265</td>\n",
       "    </tr>\n",
       "    <tr>\n",
       "      <td>3</td>\n",
       "      <td>78723.0</td>\n",
       "      <td>29773</td>\n",
       "      <td>Austin</td>\n",
       "      <td>TX</td>\n",
       "      <td>30.306507</td>\n",
       "      <td>-97.68651</td>\n",
       "    </tr>\n",
       "    <tr>\n",
       "      <td>4</td>\n",
       "      <td>78703.0</td>\n",
       "      <td>28982</td>\n",
       "      <td>Austin</td>\n",
       "      <td>TX</td>\n",
       "      <td>30.290907</td>\n",
       "      <td>-97.76277</td>\n",
       "    </tr>\n",
       "  </tbody>\n",
       "</table>\n",
       "</div>"
      ],
      "text/plain": [
       "       Zip  Permits Issued (2008-2018)    City State   Latitude  Longitude\n",
       "0  78704.0                       44889  Austin    TX  30.246309  -97.76087\n",
       "1  78745.0                       34643  Austin    TX  30.207559  -97.79575\n",
       "2  78748.0                       31675  Austin    TX  30.172020  -97.82265\n",
       "3  78723.0                       29773  Austin    TX  30.306507  -97.68651\n",
       "4  78703.0                       28982  Austin    TX  30.290907  -97.76277"
      ]
     },
     "execution_count": 347,
     "metadata": {},
     "output_type": "execute_result"
    }
   ],
   "source": [
    "permits_zip = pd.merge(permits, zip_data, on='Zip',how='left')\n",
    "\n",
    "permits_zip.head()"
   ]
  },
  {
   "cell_type": "code",
   "execution_count": 348,
   "metadata": {},
   "outputs": [
    {
     "data": {
      "text/html": [
       "<div>\n",
       "<style scoped>\n",
       "    .dataframe tbody tr th:only-of-type {\n",
       "        vertical-align: middle;\n",
       "    }\n",
       "\n",
       "    .dataframe tbody tr th {\n",
       "        vertical-align: top;\n",
       "    }\n",
       "\n",
       "    .dataframe thead th {\n",
       "        text-align: right;\n",
       "    }\n",
       "</style>\n",
       "<table border=\"1\" class=\"dataframe\">\n",
       "  <thead>\n",
       "    <tr style=\"text-align: right;\">\n",
       "      <th></th>\n",
       "      <th>Date</th>\n",
       "      <th>RegionName</th>\n",
       "      <th>State</th>\n",
       "      <th>Metro</th>\n",
       "      <th>County</th>\n",
       "      <th>City</th>\n",
       "      <th>SizeRank</th>\n",
       "      <th>Zri</th>\n",
       "      <th>MoM</th>\n",
       "      <th>QoQ</th>\n",
       "      <th>YoY</th>\n",
       "      <th>ZriRecordCnt</th>\n",
       "    </tr>\n",
       "  </thead>\n",
       "  <tbody>\n",
       "    <tr>\n",
       "      <td>0</td>\n",
       "      <td>2020-01-31</td>\n",
       "      <td>60657</td>\n",
       "      <td>IL</td>\n",
       "      <td>Chicago-Naperville-Elgin</td>\n",
       "      <td>Cook County</td>\n",
       "      <td>Chicago</td>\n",
       "      <td>0</td>\n",
       "      <td>1996</td>\n",
       "      <td>-0.0278</td>\n",
       "      <td>-0.0610</td>\n",
       "      <td>-0.0146</td>\n",
       "      <td>32023</td>\n",
       "    </tr>\n",
       "    <tr>\n",
       "      <td>1</td>\n",
       "      <td>2020-01-31</td>\n",
       "      <td>77494</td>\n",
       "      <td>TX</td>\n",
       "      <td>Houston-The Woodlands-Sugar Land</td>\n",
       "      <td>Harris County</td>\n",
       "      <td>Katy</td>\n",
       "      <td>1</td>\n",
       "      <td>1778</td>\n",
       "      <td>0.0013</td>\n",
       "      <td>0.0079</td>\n",
       "      <td>0.0022</td>\n",
       "      <td>43054</td>\n",
       "    </tr>\n",
       "    <tr>\n",
       "      <td>2</td>\n",
       "      <td>2020-01-31</td>\n",
       "      <td>77449</td>\n",
       "      <td>TX</td>\n",
       "      <td>Houston-The Woodlands-Sugar Land</td>\n",
       "      <td>Harris County</td>\n",
       "      <td>Katy</td>\n",
       "      <td>2</td>\n",
       "      <td>1443</td>\n",
       "      <td>-0.0071</td>\n",
       "      <td>0.0247</td>\n",
       "      <td>0.0179</td>\n",
       "      <td>41100</td>\n",
       "    </tr>\n",
       "    <tr>\n",
       "      <td>3</td>\n",
       "      <td>2020-01-31</td>\n",
       "      <td>10002</td>\n",
       "      <td>NY</td>\n",
       "      <td>New York-Newark-Jersey City</td>\n",
       "      <td>New York County</td>\n",
       "      <td>New York</td>\n",
       "      <td>3</td>\n",
       "      <td>3605</td>\n",
       "      <td>-0.0139</td>\n",
       "      <td>-0.0316</td>\n",
       "      <td>0.0223</td>\n",
       "      <td>12425</td>\n",
       "    </tr>\n",
       "    <tr>\n",
       "      <td>4</td>\n",
       "      <td>2020-01-31</td>\n",
       "      <td>77084</td>\n",
       "      <td>TX</td>\n",
       "      <td>Houston-The Woodlands-Sugar Land</td>\n",
       "      <td>Harris County</td>\n",
       "      <td>Houston</td>\n",
       "      <td>4</td>\n",
       "      <td>1438</td>\n",
       "      <td>0.0013</td>\n",
       "      <td>0.0122</td>\n",
       "      <td>0.0216</td>\n",
       "      <td>31001</td>\n",
       "    </tr>\n",
       "  </tbody>\n",
       "</table>\n",
       "</div>"
      ],
      "text/plain": [
       "         Date  RegionName State                             Metro  \\\n",
       "0  2020-01-31       60657    IL          Chicago-Naperville-Elgin   \n",
       "1  2020-01-31       77494    TX  Houston-The Woodlands-Sugar Land   \n",
       "2  2020-01-31       77449    TX  Houston-The Woodlands-Sugar Land   \n",
       "3  2020-01-31       10002    NY       New York-Newark-Jersey City   \n",
       "4  2020-01-31       77084    TX  Houston-The Woodlands-Sugar Land   \n",
       "\n",
       "            County      City  SizeRank   Zri     MoM     QoQ     YoY  \\\n",
       "0      Cook County   Chicago         0  1996 -0.0278 -0.0610 -0.0146   \n",
       "1    Harris County      Katy         1  1778  0.0013  0.0079  0.0022   \n",
       "2    Harris County      Katy         2  1443 -0.0071  0.0247  0.0179   \n",
       "3  New York County  New York         3  3605 -0.0139 -0.0316  0.0223   \n",
       "4    Harris County   Houston         4  1438  0.0013  0.0122  0.0216   \n",
       "\n",
       "   ZriRecordCnt  \n",
       "0         32023  \n",
       "1         43054  \n",
       "2         41100  \n",
       "3         12425  \n",
       "4         31001  "
      ]
     },
     "execution_count": 348,
     "metadata": {},
     "output_type": "execute_result"
    }
   ],
   "source": [
    "path3 = '../../Resources/Zillow_data/Zip_Zri_AllHomesPlusMultifamily_Summary.csv'\n",
    "\n",
    "rent_df = pd.DataFrame(pd.read_csv(path3))\n",
    "\n",
    "rent_df.head()"
   ]
  },
  {
   "cell_type": "code",
   "execution_count": 349,
   "metadata": {},
   "outputs": [
    {
     "data": {
      "application/vnd.jupyter.widget-view+json": {
       "model_id": "2e3143021071463c874c0a1db2fd796a",
       "version_major": 2,
       "version_minor": 0
      },
      "text/plain": [
       "Figure(layout=FigureLayout(border='1px solid black', height='750px', margin='0 auto 0 auto', padding='1px', wi…"
      ]
     },
     "metadata": {},
     "output_type": "display_data"
    }
   ],
   "source": [
    "geocords = []\n",
    "permit_count = []\n",
    "\n",
    "for index, row in permits_zip.iterrows():\n",
    "    geocords.append((row['Latitude'], row['Longitude']))\n",
    "    permit_count.append(row['Permits Issued (2008-2018)'])\n",
    "\n",
    "# Plot Heatmap\n",
    "figure_layout = {\n",
    "    'width': '1000px',\n",
    "    'height': '750px',\n",
    "    'border': '1px solid black',\n",
    "    'padding': '1px',\n",
    "    'margin': '0 auto 0 auto'\n",
    "}\n",
    "fig = gmaps.figure(layout=figure_layout)\n",
    "\n",
    "fig.add_layer(gmaps.heatmap_layer(geocords,permit_count, point_radius = 15))\n",
    "fig"
   ]
  },
  {
   "cell_type": "markdown",
   "metadata": {},
   "source": [
    "# Tax data"
   ]
  },
  {
   "cell_type": "code",
   "execution_count": 355,
   "metadata": {},
   "outputs": [],
   "source": [
    "path_tax_2011 = '../../resources/Tax_Data/IRS_Zip_2011.csv'\n",
    "\n",
    "tax_df_2011 = pd.DataFrame(pd.read_csv(path_tax_2011))\n",
    "\n",
    "tax_df_2011 = tax_df_2011.rename(columns={'ZIPCODE':'Zip',\n",
    "                                'agi_stub':'Tax Bracket',\n",
    "                                'N1':'Number of Returns (2011)',\n",
    "                                'N2':'Number of Exemptions (2011)',\n",
    "                                'A00100':'Adjusted Gross Income (AGI) (2011)'})\n",
    "\n",
    "tax_df_2011 = tax_df_2011.loc[tax_df_2011['Zip']!=0]\n",
    "tax_df_2011 = tax_df_2011.loc[tax_df_2011['Zip']!=99999]\n",
    "tax_df_2011 = tax_df_2011.loc[tax_df_2011['STATE']=='TX']\n",
    "\n",
    "path_tax_2017 = '../../resources/Tax_Data/IRS_Zip_2017.csv'\n",
    "\n",
    "tax_df_2017 = pd.DataFrame(pd.read_csv(path_tax_2016))\n",
    "\n",
    "tax_df_2017 = tax_df_2017.rename(columns={'zipcode':'Zip',\n",
    "                                'agi_stub':'Tax Bracket',\n",
    "                                'N1':'Number of Returns (2017)',\n",
    "                                'N2':'Number of Exemptions (2017)',\n",
    "                                'A00100':'Adjusted Gross Income (AGI) (2017)'})\n",
    "\n",
    "tax_df_2017 = tax_df_2017.loc[tax_df_2017['Zip']!=0]\n",
    "tax_df_2017 = tax_df_2017.loc[tax_df_2017['Zip']!=99999]\n",
    "tax_df_2017 = tax_df_2017.loc[tax_df_2017['STATE']=='TX']\n"
   ]
  },
  {
   "cell_type": "code",
   "execution_count": 356,
   "metadata": {},
   "outputs": [],
   "source": [
    "atx_zips = [78610, 78613, 78617, 78641, 78652, 78653, \n",
    "            78660, 78664, 78681, 78701, 78702, 78703, \n",
    "            78704, 78705, 78712, 78717, 78719, 78721, \n",
    "            78722, 78723, 78724, 78725, 78726, 78727, \n",
    "            78728, 78729, 78730, 78731, 78732, 78733, \n",
    "            78734, 78735, 78736, 78737, 78738, 78739, \n",
    "            78741, 78742, 78744, 78745, 78746, 78747, \n",
    "            78748, 78749, 78750, 78751, 78752, 78753, \n",
    "            78754, 78756, 78757, 78758, 78759]"
   ]
  },
  {
   "cell_type": "code",
   "execution_count": 357,
   "metadata": {},
   "outputs": [],
   "source": [
    "tax_bracks_2011 = {}\n",
    "agi_2011 = {}\n",
    "\n",
    "for index, row in tax_df_2011.iterrows():\n",
    "    \n",
    "    if row['Zip'] in atx_zips:\n",
    "        \n",
    "        if row['Zip'] not in tax_bracks_2011:\n",
    "\n",
    "            tax_bracks_2011[row['Zip']] = {}\n",
    "            agi_2011[row['Zip']] = {}\n",
    "\n",
    "            if row['Tax Bracket'] == 1.0:\n",
    "                tax_bracks_2011[row['Zip']]['<$25,000'] = (row['Number of Returns (2011)']+row['Number of Exemptions (2011)'])\n",
    "                agi_2011[row['Zip']]['<$25,000'] = row['Adjusted Gross Income (AGI) (2011)']\n",
    "\n",
    "\n",
    "        else:\n",
    "\n",
    "\n",
    "            if row['Tax Bracket'] == 2.0:\n",
    "                tax_bracks_2011[row['Zip']]['$50,000'] = (row['Number of Returns (2011)']+row['Number of Exemptions (2011)'])\n",
    "                agi_2011[row['Zip']]['$50,000'] = row['Adjusted Gross Income (AGI) (2011)']\n",
    "            elif row['Tax Bracket'] == 3.0:\n",
    "                tax_bracks_2011[row['Zip']]['$75,000'] = (row['Number of Returns (2011)']+row['Number of Exemptions (2011)'])\n",
    "                agi_2011[row['Zip']]['$75,000'] = row['Adjusted Gross Income (AGI) (2011)']\n",
    "            elif row['Tax Bracket'] == 4.0:\n",
    "                tax_bracks_2011[row['Zip']]['$100,000'] = (row['Number of Returns (2011)']+row['Number of Exemptions (2011)'])\n",
    "                agi_2011[row['Zip']]['$100,000'] = row['Adjusted Gross Income (AGI) (2011)']\n",
    "            elif row['Tax Bracket'] == 5.0:\n",
    "                tax_bracks_2011[row['Zip']]['$200,000'] = (row['Number of Returns (2011)']+row['Number of Exemptions (2011)'])\n",
    "                agi_2011[row['Zip']]['$200,000'] = row['Adjusted Gross Income (AGI) (2011)']\n",
    "            elif row['Tax Bracket'] == 6.0:\n",
    "                tax_bracks_2011[row['Zip']]['$200,000<'] = (row['Number of Returns (2011)']+row['Number of Exemptions (2011)'])\n",
    "                agi_2011[row['Zip']]['$200,000<'] = row['Adjusted Gross Income (AGI) (2011)']            "
   ]
  },
  {
   "cell_type": "code",
   "execution_count": 358,
   "metadata": {},
   "outputs": [],
   "source": [
    "tax_bracks_2017 = {}\n",
    "agi_2017 = {}\n",
    "\n",
    "for index, row in tax_df_2017.iterrows():\n",
    "    \n",
    "    if row['Zip'] in atx_zips:\n",
    "\n",
    "\n",
    "        if row['Zip'] not in tax_bracks_2017:\n",
    "\n",
    "            tax_bracks_2017[row['Zip']] = {}\n",
    "            agi_2017[row['Zip']] = {}\n",
    "\n",
    "            if row['Tax Bracket'] == 1.0:\n",
    "                tax_bracks_2017[row['Zip']]['<$25,000'] = (row['Number of Returns (2017)']+row['Number of Exemptions (2017)'])\n",
    "                agi_2017[row['Zip']]['<$25,000'] = row['Adjusted Gross Income (AGI) (2017)']\n",
    "\n",
    "        else:\n",
    "\n",
    "\n",
    "            if row['Tax Bracket'] == 2.0:\n",
    "                tax_bracks_2017[row['Zip']]['$50,000'] = (row['Number of Returns (2017)']+row['Number of Exemptions (2017)'])\n",
    "                agi_2017[row['Zip']]['$50,000'] = row['Adjusted Gross Income (AGI) (2017)']\n",
    "            elif row['Tax Bracket'] == 3.0:\n",
    "                tax_bracks_2017[row['Zip']]['$75,000'] = (row['Number of Returns (2017)']+row['Number of Exemptions (2017)'])\n",
    "                agi_2017[row['Zip']]['$75,000'] = row['Adjusted Gross Income (AGI) (2017)']\n",
    "            elif row['Tax Bracket'] == 4.0:\n",
    "                tax_bracks_2017[row['Zip']]['$100,000'] = (row['Number of Returns (2017)']+row['Number of Exemptions (2017)'])\n",
    "                agi_2017[row['Zip']]['$100,000'] = row['Adjusted Gross Income (AGI) (2017)']\n",
    "            elif row['Tax Bracket'] == 5.0:\n",
    "                tax_bracks_2017[row['Zip']]['$200,000'] = (row['Number of Returns (2017)']+row['Number of Exemptions (2017)'])\n",
    "                agi_2017[row['Zip']]['$200,000'] = row['Adjusted Gross Income (AGI) (2017)']\n",
    "            elif row['Tax Bracket'] == 6.0:\n",
    "                tax_bracks_2017[row['Zip']]['$200,000<'] = (row['Number of Returns (2017)']+row['Number of Exemptions (2017)'])\n",
    "                agi_2017[row['Zip']]['$200,000<'] = row['Adjusted Gross Income (AGI) (2017)'] "
   ]
  },
  {
   "cell_type": "code",
   "execution_count": 359,
   "metadata": {},
   "outputs": [
    {
     "data": {
      "text/html": [
       "<div>\n",
       "<style scoped>\n",
       "    .dataframe tbody tr th:only-of-type {\n",
       "        vertical-align: middle;\n",
       "    }\n",
       "\n",
       "    .dataframe tbody tr th {\n",
       "        vertical-align: top;\n",
       "    }\n",
       "\n",
       "    .dataframe thead th {\n",
       "        text-align: right;\n",
       "    }\n",
       "</style>\n",
       "<table border=\"1\" class=\"dataframe\">\n",
       "  <thead>\n",
       "    <tr style=\"text-align: right;\">\n",
       "      <th></th>\n",
       "      <th>&lt;$25,000</th>\n",
       "      <th>$50,000</th>\n",
       "      <th>$75,000</th>\n",
       "      <th>$100,000</th>\n",
       "      <th>$200,000</th>\n",
       "      <th>$200,000&lt;</th>\n",
       "    </tr>\n",
       "    <tr>\n",
       "      <th>Zip</th>\n",
       "      <th></th>\n",
       "      <th></th>\n",
       "      <th></th>\n",
       "      <th></th>\n",
       "      <th></th>\n",
       "      <th></th>\n",
       "    </tr>\n",
       "  </thead>\n",
       "  <tbody>\n",
       "    <tr>\n",
       "      <td>78610</td>\n",
       "      <td>10220</td>\n",
       "      <td>11690</td>\n",
       "      <td>8850</td>\n",
       "      <td>7780</td>\n",
       "      <td>12370</td>\n",
       "      <td>2330</td>\n",
       "    </tr>\n",
       "    <tr>\n",
       "      <td>78613</td>\n",
       "      <td>18790</td>\n",
       "      <td>18620</td>\n",
       "      <td>14810</td>\n",
       "      <td>14350</td>\n",
       "      <td>33090</td>\n",
       "      <td>12870</td>\n",
       "    </tr>\n",
       "    <tr>\n",
       "      <td>78617</td>\n",
       "      <td>11860</td>\n",
       "      <td>12500</td>\n",
       "      <td>5300</td>\n",
       "      <td>2230</td>\n",
       "      <td>1400</td>\n",
       "      <td>130</td>\n",
       "    </tr>\n",
       "    <tr>\n",
       "      <td>78641</td>\n",
       "      <td>16240</td>\n",
       "      <td>16540</td>\n",
       "      <td>14230</td>\n",
       "      <td>12760</td>\n",
       "      <td>23690</td>\n",
       "      <td>7620</td>\n",
       "    </tr>\n",
       "    <tr>\n",
       "      <td>78652</td>\n",
       "      <td>1380</td>\n",
       "      <td>1450</td>\n",
       "      <td>1210</td>\n",
       "      <td>1060</td>\n",
       "      <td>1640</td>\n",
       "      <td>360</td>\n",
       "    </tr>\n",
       "  </tbody>\n",
       "</table>\n",
       "</div>"
      ],
      "text/plain": [
       "       <$25,000  $50,000  $75,000  $100,000  $200,000  $200,000<\n",
       "Zip                                                             \n",
       "78610     10220    11690     8850      7780     12370       2330\n",
       "78613     18790    18620    14810     14350     33090      12870\n",
       "78617     11860    12500     5300      2230      1400        130\n",
       "78641     16240    16540    14230     12760     23690       7620\n",
       "78652      1380     1450     1210      1060      1640        360"
      ]
     },
     "execution_count": 359,
     "metadata": {},
     "output_type": "execute_result"
    }
   ],
   "source": [
    "brackets = ['<$25,000','$50,000','$75,000','$100,000','$200,000','$200,000<']\n",
    "\n",
    "atx_tax_2011 = pd.DataFrame(data=tax_bracks_2011)\n",
    "atx_tax_2011['Total Returns and Exemptions'] = atx_tax_2011.sum(axis=1)\n",
    "atx_tax_2011 = atx_tax_2011.T\n",
    "atx_tax_2011 = atx_tax_2011[brackets].reset_index()\n",
    "atx_tax_2011 = atx_tax_2011.rename(columns={'index':'Zip'}).set_index('Zip')\n",
    "\n",
    "atx_tax_2017 = pd.DataFrame(data=tax_bracks_2017)\n",
    "atx_tax_2017['Total Returns and Exemptions'] = atx_tax_2017.sum(axis=1)\n",
    "atx_tax_2017 = atx_tax_2017.T\n",
    "atx_tax_2017 = atx_tax_2017[brackets].reset_index()\n",
    "atx_tax_2017 = atx_tax_2017.rename(columns={'index':'Zip'}).set_index('Zip')\n",
    "\n",
    "atx_agi_2011 = pd.DataFrame(data=agi_2011)\n",
    "atx_agi_2011['Total AGI'] = atx_agi_2011.sum(axis=1)\n",
    "atx_agi_2011 = atx_agi_2011.T\n",
    "atx_agi_2011 = atx_agi_2011[brackets].reset_index()\n",
    "atx_agi_2011 = atx_agi_2011.rename(columns={'index':'Zip'}).set_index('Zip')\n",
    "\n",
    "atx_agi_2017 = pd.DataFrame(data=agi_2017)\n",
    "atx_agi_2017['Total AGI'] = atx_agi_2017.sum(axis=1)\n",
    "atx_agi_2017 = atx_agi_2017.T\n",
    "atx_agi_2017 = atx_agi_2017[brackets].reset_index()\n",
    "atx_agi_2017 = atx_agi_2017.rename(columns={'index':'Zip'}).set_index('Zip')\n",
    "\n",
    "atx_tax_2017 = atx_tax_2017.drop_duplicates()\n",
    "\n",
    "atx_tax_2017.head()"
   ]
  },
  {
   "cell_type": "markdown",
   "metadata": {},
   "source": [
    "# Changes in income (2011 vs. 2017)"
   ]
  },
  {
   "cell_type": "code",
   "execution_count": 360,
   "metadata": {},
   "outputs": [
    {
     "name": "stdout",
     "output_type": "stream",
     "text": [
      "Total 2011 returns and Exemptions: 1852682.0\n",
      "Total 2017 returns and Exemptions: 2035770\n"
     ]
    },
    {
     "data": {
      "image/png": "[encoded data removed]",
      "text/plain": [
       "<Figure size 576x432 with 1 Axes>"
      ]
     },
     "metadata": {
      "needs_background": "light"
     },
     "output_type": "display_data"
    }
   ],
   "source": [
    "total_tax = pd.DataFrame({'2011':atx_tax_2011.loc['Total Returns and Exemptions'],\n",
    "                          '2017':atx_tax_2017.loc['Total Returns and Exemptions']})\n",
    "total_tax.plot(kind='bar',figsize=(8,6))\n",
    "plt.title('Austin Total Tax Returns and Exemptions')\n",
    "plt.xlabel('Tax Bracket')\n",
    "plt.ylabel('Number of Returns/Exemptions')\n",
    "print(f'Total 2011 returns and Exemptions: {round(total_tax[\"2011\"].sum(),0)}')\n",
    "print(f'Total 2017 returns and Exemptions: {total_tax[\"2017\"].sum()}')"
   ]
  },
  {
   "cell_type": "code",
   "execution_count": 361,
   "metadata": {},
   "outputs": [
    {
     "name": "stdout",
     "output_type": "stream",
     "text": [
      "Total 2011 adjusted gross income: 44715147.0\n",
      "Total 2017 adjusted gross income: 61817321\n"
     ]
    },
    {
     "data": {
      "image/png": "[encoded data removed]",
      "text/plain": [
       "<Figure size 576x432 with 1 Axes>"
      ]
     },
     "metadata": {
      "needs_background": "light"
     },
     "output_type": "display_data"
    }
   ],
   "source": [
    "total_agi = pd.DataFrame({'2011':atx_agi_2011.loc['Total AGI'],'2017':atx_agi_2017.loc['Total AGI']})\n",
    "total_agi.plot(kind='bar',figsize=(8,6))\n",
    "plt.title('Austin Total Adjusted Gross Income by Tax Bracket')\n",
    "plt.ylabel('AGI ($)')\n",
    "plt.xlabel('Tax Bracket')\n",
    "print(f'Total 2011 adjusted gross income: {round(total_agi[\"2011\"].sum(),0)}')\n",
    "print(f'Total 2017 adjusted gross income: {total_agi[\"2017\"].sum()}')"
   ]
  },
  {
   "cell_type": "markdown",
   "metadata": {},
   "source": [
    "# Income and demographic trends by zip code"
   ]
  },
  {
   "cell_type": "code",
   "execution_count": 362,
   "metadata": {},
   "outputs": [],
   "source": [
    "path_pop = '../../Resources/Census.gov/By_Year/Merged_datasets/Austin_population_merged.csv'\n",
    "demog_df = pd.DataFrame(pd.read_csv(path_pop))\n",
    "demog_df = demog_df.rename(columns={'Zipcode':'Zip'})\n",
    "\n",
    "\n",
    "path_pov = '../../Resources/Census.gov/By_Year/Merged_datasets/Austin_poverty_merged.csv'\n",
    "pov_df = pd.DataFrame(pd.read_csv(path_pov))\n",
    "pov_df = pov_df.rename(columns={'Zipcode':'Zip'})\n",
    "\n",
    "\n",
    "path_edu = '../../Resources/Census.gov/By_Year/Merged_datasets/Austin_education_merged.csv'\n",
    "edu_df = pd.DataFrame(pd.read_csv(path_edu))\n",
    "edu_df = edu_df.rename(columns={'Zipcode':'Zip'})\n",
    "\n",
    "housing_path = '../../Resources/Census.gov/By_Year/Merged_datasets/Austin_housing_merged.csv'\n",
    "housing_df = pd.DataFrame(pd.read_csv(housing_path))\n",
    "housing_df = housing_df.rename(columns={'Zipcode':'Zip'})"
   ]
  },
  {
   "cell_type": "code",
   "execution_count": 363,
   "metadata": {},
   "outputs": [
    {
     "data": {
      "text/html": [
       "<div>\n",
       "<style scoped>\n",
       "    .dataframe tbody tr th:only-of-type {\n",
       "        vertical-align: middle;\n",
       "    }\n",
       "\n",
       "    .dataframe tbody tr th {\n",
       "        vertical-align: top;\n",
       "    }\n",
       "\n",
       "    .dataframe thead th {\n",
       "        text-align: right;\n",
       "    }\n",
       "</style>\n",
       "<table border=\"1\" class=\"dataframe\">\n",
       "  <thead>\n",
       "    <tr style=\"text-align: right;\">\n",
       "      <th></th>\n",
       "      <th>Zip</th>\n",
       "      <th>City</th>\n",
       "      <th>State</th>\n",
       "      <th>Latitude</th>\n",
       "      <th>Longitude</th>\n",
       "      <th>Unnamed: 0_x</th>\n",
       "      <th>Median Age_2011</th>\n",
       "      <th>Population_2011</th>\n",
       "      <th>Population (White Alone)_2011</th>\n",
       "      <th>Population (Black Alone)_2011</th>\n",
       "      <th>...</th>\n",
       "      <th>Median year housing units were built_2017</th>\n",
       "      <th>Median contract rent_2017</th>\n",
       "      <th>Median gross rent (contract rent plus utilities)_2017</th>\n",
       "      <th>Median value (dollars) for Owner-Occupied housing units_2017</th>\n",
       "      <th>Median Selected Monthly Owner Costs (Dollars) by Mortgage Status_2017</th>\n",
       "      <th>Median year housing units were built_2018</th>\n",
       "      <th>Median contract rent_2018</th>\n",
       "      <th>Median gross rent (contract rent plus utilities)_2018</th>\n",
       "      <th>Median value (dollars) for Owner-Occupied housing units_2018</th>\n",
       "      <th>Median Selected Monthly Owner Costs (Dollars) by Mortgage Status_2018</th>\n",
       "    </tr>\n",
       "  </thead>\n",
       "  <tbody>\n",
       "    <tr>\n",
       "      <td>581</td>\n",
       "      <td>78701</td>\n",
       "      <td>Austin</td>\n",
       "      <td>TX</td>\n",
       "      <td>30.271270</td>\n",
       "      <td>-97.74103</td>\n",
       "      <td>9.0</td>\n",
       "      <td>33.1</td>\n",
       "      <td>5084.0</td>\n",
       "      <td>4097.0</td>\n",
       "      <td>397.0</td>\n",
       "      <td>...</td>\n",
       "      <td>2004.0</td>\n",
       "      <td>1755.0</td>\n",
       "      <td>1847.0</td>\n",
       "      <td>476700.0</td>\n",
       "      <td>3086.0</td>\n",
       "      <td>2004.0</td>\n",
       "      <td>1873.0</td>\n",
       "      <td>1950.0</td>\n",
       "      <td>435400.0</td>\n",
       "      <td>2680.0</td>\n",
       "    </tr>\n",
       "    <tr>\n",
       "      <td>1016</td>\n",
       "      <td>78705</td>\n",
       "      <td>Austin</td>\n",
       "      <td>TX</td>\n",
       "      <td>30.292424</td>\n",
       "      <td>-97.73856</td>\n",
       "      <td>13.0</td>\n",
       "      <td>20.8</td>\n",
       "      <td>29247.0</td>\n",
       "      <td>21882.0</td>\n",
       "      <td>976.0</td>\n",
       "      <td>...</td>\n",
       "      <td>1984.0</td>\n",
       "      <td>1124.0</td>\n",
       "      <td>1198.0</td>\n",
       "      <td>417800.0</td>\n",
       "      <td>2732.0</td>\n",
       "      <td>1984.0</td>\n",
       "      <td>1176.0</td>\n",
       "      <td>1238.0</td>\n",
       "      <td>444700.0</td>\n",
       "      <td>2788.0</td>\n",
       "    </tr>\n",
       "    <tr>\n",
       "      <td>1645</td>\n",
       "      <td>78727</td>\n",
       "      <td>Austin</td>\n",
       "      <td>TX</td>\n",
       "      <td>30.425652</td>\n",
       "      <td>-97.71419</td>\n",
       "      <td>23.0</td>\n",
       "      <td>31.6</td>\n",
       "      <td>28075.0</td>\n",
       "      <td>19598.0</td>\n",
       "      <td>2358.0</td>\n",
       "      <td>...</td>\n",
       "      <td>1993.0</td>\n",
       "      <td>1083.0</td>\n",
       "      <td>1219.0</td>\n",
       "      <td>249700.0</td>\n",
       "      <td>1738.0</td>\n",
       "      <td>1994.0</td>\n",
       "      <td>1141.0</td>\n",
       "      <td>1274.0</td>\n",
       "      <td>271200.0</td>\n",
       "      <td>1796.0</td>\n",
       "    </tr>\n",
       "    <tr>\n",
       "      <td>3209</td>\n",
       "      <td>78652</td>\n",
       "      <td>Manchaca</td>\n",
       "      <td>TX</td>\n",
       "      <td>30.128480</td>\n",
       "      <td>-97.84380</td>\n",
       "      <td>4.0</td>\n",
       "      <td>39.1</td>\n",
       "      <td>4256.0</td>\n",
       "      <td>3765.0</td>\n",
       "      <td>131.0</td>\n",
       "      <td>...</td>\n",
       "      <td>1991.0</td>\n",
       "      <td>1121.0</td>\n",
       "      <td>1231.0</td>\n",
       "      <td>239500.0</td>\n",
       "      <td>1698.0</td>\n",
       "      <td>2000.0</td>\n",
       "      <td>1242.0</td>\n",
       "      <td>1346.0</td>\n",
       "      <td>280100.0</td>\n",
       "      <td>1823.0</td>\n",
       "    </tr>\n",
       "    <tr>\n",
       "      <td>3643</td>\n",
       "      <td>78660</td>\n",
       "      <td>Pflugerville</td>\n",
       "      <td>TX</td>\n",
       "      <td>30.450122</td>\n",
       "      <td>-97.62300</td>\n",
       "      <td>6.0</td>\n",
       "      <td>31.6</td>\n",
       "      <td>67630.0</td>\n",
       "      <td>41989.0</td>\n",
       "      <td>10067.0</td>\n",
       "      <td>...</td>\n",
       "      <td>2002.0</td>\n",
       "      <td>1132.0</td>\n",
       "      <td>1312.0</td>\n",
       "      <td>198500.0</td>\n",
       "      <td>1626.0</td>\n",
       "      <td>2003.0</td>\n",
       "      <td>1202.0</td>\n",
       "      <td>1355.0</td>\n",
       "      <td>214600.0</td>\n",
       "      <td>1700.0</td>\n",
       "    </tr>\n",
       "  </tbody>\n",
       "</table>\n",
       "<p>5 rows × 273 columns</p>\n",
       "</div>"
      ],
      "text/plain": [
       "        Zip          City State   Latitude  Longitude  Unnamed: 0_x  \\\n",
       "581   78701        Austin    TX  30.271270  -97.74103           9.0   \n",
       "1016  78705        Austin    TX  30.292424  -97.73856          13.0   \n",
       "1645  78727        Austin    TX  30.425652  -97.71419          23.0   \n",
       "3209  78652      Manchaca    TX  30.128480  -97.84380           4.0   \n",
       "3643  78660  Pflugerville    TX  30.450122  -97.62300           6.0   \n",
       "\n",
       "      Median Age_2011  Population_2011  Population (White Alone)_2011  \\\n",
       "581              33.1           5084.0                         4097.0   \n",
       "1016             20.8          29247.0                        21882.0   \n",
       "1645             31.6          28075.0                        19598.0   \n",
       "3209             39.1           4256.0                         3765.0   \n",
       "3643             31.6          67630.0                        41989.0   \n",
       "\n",
       "      Population (Black Alone)_2011  ...  \\\n",
       "581                           397.0  ...   \n",
       "1016                          976.0  ...   \n",
       "1645                         2358.0  ...   \n",
       "3209                          131.0  ...   \n",
       "3643                        10067.0  ...   \n",
       "\n",
       "      Median year housing units were built_2017  Median contract rent_2017  \\\n",
       "581                                      2004.0                     1755.0   \n",
       "1016                                     1984.0                     1124.0   \n",
       "1645                                     1993.0                     1083.0   \n",
       "3209                                     1991.0                     1121.0   \n",
       "3643                                     2002.0                     1132.0   \n",
       "\n",
       "      Median gross rent (contract rent plus utilities)_2017  \\\n",
       "581                                              1847.0       \n",
       "1016                                             1198.0       \n",
       "1645                                             1219.0       \n",
       "3209                                             1231.0       \n",
       "3643                                             1312.0       \n",
       "\n",
       "      Median value (dollars) for Owner-Occupied housing units_2017  \\\n",
       "581                                            476700.0              \n",
       "1016                                           417800.0              \n",
       "1645                                           249700.0              \n",
       "3209                                           239500.0              \n",
       "3643                                           198500.0              \n",
       "\n",
       "      Median Selected Monthly Owner Costs (Dollars) by Mortgage Status_2017  \\\n",
       "581                                              3086.0                       \n",
       "1016                                             2732.0                       \n",
       "1645                                             1738.0                       \n",
       "3209                                             1698.0                       \n",
       "3643                                             1626.0                       \n",
       "\n",
       "      Median year housing units were built_2018  Median contract rent_2018  \\\n",
       "581                                      2004.0                     1873.0   \n",
       "1016                                     1984.0                     1176.0   \n",
       "1645                                     1994.0                     1141.0   \n",
       "3209                                     2000.0                     1242.0   \n",
       "3643                                     2003.0                     1202.0   \n",
       "\n",
       "      Median gross rent (contract rent plus utilities)_2018  \\\n",
       "581                                              1950.0       \n",
       "1016                                             1238.0       \n",
       "1645                                             1274.0       \n",
       "3209                                             1346.0       \n",
       "3643                                             1355.0       \n",
       "\n",
       "      Median value (dollars) for Owner-Occupied housing units_2018  \\\n",
       "581                                            435400.0              \n",
       "1016                                           444700.0              \n",
       "1645                                           271200.0              \n",
       "3209                                           280100.0              \n",
       "3643                                           214600.0              \n",
       "\n",
       "      Median Selected Monthly Owner Costs (Dollars) by Mortgage Status_2018  \n",
       "581                                              2680.0                      \n",
       "1016                                             2788.0                      \n",
       "1645                                             1796.0                      \n",
       "3209                                             1823.0                      \n",
       "3643                                             1700.0                      \n",
       "\n",
       "[5 rows x 273 columns]"
      ]
     },
     "execution_count": 363,
     "metadata": {},
     "output_type": "execute_result"
    }
   ],
   "source": [
    "austin_geo_df = pd.merge(zip_data,demog_df,on='Zip',how='left')\n",
    "\n",
    "austin_geo_df = pd.merge(austin_geo_df,pov_df,on='Zip',how='left')\n",
    "\n",
    "austin_geo_df = pd.merge(austin_geo_df,edu_df,on='Zip',how='left')\n",
    "\n",
    "austin_geo_df = pd.merge(austin_geo_df,housing_df,on='Zip',how='left')\n",
    "\n",
    "\n",
    "austin_geo_df = austin_geo_df.dropna(how='any')\n",
    "\n",
    "austin_geo_df = austin_geo_df.loc[austin_geo_df['Household Income_2011'] != -666666666.0]\n",
    "austin_geo_df = austin_geo_df.loc[austin_geo_df['Household Income_2012'] != -666666666.0]\n",
    "austin_geo_df = austin_geo_df.loc[austin_geo_df['Household Income_2013'] != -666666666.0]\n",
    "austin_geo_df = austin_geo_df.loc[austin_geo_df['Household Income_2014'] != -666666666.0]\n",
    "austin_geo_df = austin_geo_df.loc[austin_geo_df['Household Income_2015'] != -666666666.0]\n",
    "austin_geo_df = austin_geo_df.loc[austin_geo_df['Household Income_2016'] != -666666666.0]\n",
    "austin_geo_df = austin_geo_df.loc[austin_geo_df['Household Income_2017'] != -666666666.0]\n",
    "austin_geo_df = austin_geo_df.loc[austin_geo_df['Household Income_2018'] != -666666666.0]\n",
    "\n",
    "\n",
    "\n",
    "\n",
    "\n",
    "# austin_geo_df.to_csv('../../Resources/All_2013_Census_Data.csv')\n",
    "\n",
    "austin_geo_df.head()"
   ]
  },
  {
   "cell_type": "code",
   "execution_count": 371,
   "metadata": {},
   "outputs": [],
   "source": [
    "# A function to create linear regression plots\n",
    "def regress(x, y, title, xlab, ylab):\n",
    "    \n",
    "    # Calculates linear regression\n",
    "    (slope, intercept, rvalue, pvalue, stderr) = st.linregress(x,y)\n",
    "    x = np.asarray(x, dtype=np.float64)\n",
    "    regress_values = x * slope + intercept\n",
    "\n",
    "    # Plots scatter plot and regresion\n",
    "    plt.figure(figsize=(8, 6))\n",
    "    plt.scatter(x,y)\n",
    "    plt.plot(x,regress_values,\"r-\")\n",
    "\n",
    "    # Annotates graph with equation\n",
    "    line_eq = \"y = \" + str(round(slope,2)) + \"x + \" + str(round(intercept,2))\n",
    "    plt.annotate(line_eq,xy=(min(x),min(y)),fontsize=15,color=\"red\")\n",
    "    plt.xlabel(xlab)\n",
    "    plt.ylabel(ylab)\n",
    "    plt.title(title)\n",
    "    \n",
    "    plt.savefig(f'../../Output_Data/{title}.png',dpi=100)\n",
    "\n",
    "    # Prints r squared value from linregress function\n",
    "    print(f'The r-squared is: {rvalue}')"
   ]
  },
  {
   "cell_type": "code",
   "execution_count": 365,
   "metadata": {},
   "outputs": [
    {
     "name": "stdout",
     "output_type": "stream",
     "text": [
      "Topic: household income\n",
      "Year (2011-2018): 2011\n"
     ]
    },
    {
     "data": {
      "application/vnd.jupyter.widget-view+json": {
       "model_id": "2e3143021071463c874c0a1db2fd796a",
       "version_major": 2,
       "version_minor": 0
      },
      "text/plain": [
       "Figure(layout=FigureLayout(border='1px solid black', height='750px', margin='0 auto 0 auto', padding='1px', wi…"
      ]
     },
     "metadata": {},
     "output_type": "display_data"
    }
   ],
   "source": [
    "# A function to plot a heatmap from cleaned census data based on user input\n",
    "def plot_heatmap():\n",
    "\n",
    "    topic = input('Topic: ').title()\n",
    "    year = input('Year (2011-2018): ')\n",
    "    topic_year = (f'{topic}_{year}')\n",
    "    austin_geocords = []\n",
    "    topic_weight = []\n",
    "\n",
    "    for index, row in austin_geo_df.iterrows():\n",
    "        austin_geocords.append((row['Latitude'], row['Longitude']))\n",
    "        topic_weight.append(row[topic_year])\n",
    "\n",
    "    # Plot Heatmap\n",
    "    figure_layout = {\n",
    "        'width': '1000px',\n",
    "        'height': '750px',\n",
    "        'border': '1px solid black',\n",
    "        'padding': '1px',\n",
    "        'margin': '0 auto 0 auto'\n",
    "    }\n",
    "    fig = gmaps.figure(layout=figure_layout)\n",
    "\n",
    "    fig.add_layer(gmaps.heatmap_layer(austin_geocords,topic_weight, point_radius = 20))\n",
    "\n",
    "plot_heatmap()\n",
    "fig"
   ]
  },
  {
   "cell_type": "markdown",
   "metadata": {},
   "source": [
    "### Household income (2011 vs. 2018)"
   ]
  },
  {
   "cell_type": "code",
   "execution_count": 366,
   "metadata": {},
   "outputs": [
    {
     "data": {
      "application/vnd.jupyter.widget-view+json": {
       "model_id": "8ef71bc40d3849f2b56ed1158cbc0567",
       "version_major": 2,
       "version_minor": 0
      },
      "text/plain": [
       "Figure(layout=FigureLayout(border='1px solid black', height='750px', margin='0 auto 0 auto', padding='1px', wi…"
      ]
     },
     "metadata": {},
     "output_type": "display_data"
    }
   ],
   "source": [
    "austin_geocords = []\n",
    "house_income_2011 = []\n",
    "house_income_2012 = []\n",
    "\n",
    "\n",
    "for index, row in austin_geo_df.iterrows():\n",
    "    austin_geocords.append((row['Latitude'], row['Longitude']))\n",
    "    house_income_2011.append(row['Household Income_2011'])\n",
    "    house_income_2012.append(row['Household Income_2011'])\n",
    "\n",
    "# Plot Heatmap\n",
    "figure_layout = {\n",
    "    'width': '1000px',\n",
    "    'height': '750px',\n",
    "    'border': '1px solid black',\n",
    "    'padding': '1px',\n",
    "    'margin': '0 auto 0 auto'\n",
    "}\n",
    "fig = gmaps.figure(layout=figure_layout)\n",
    "\n",
    "fig.add_layer(gmaps.heatmap_layer(austin_geocords,house_income_2011, point_radius = 20))\n",
    "\n",
    "fig\n",
    "\n",
    "# heatmap_layer.max_intensity = 100\n",
    "# heatmap_layer.point_radius = 5"
   ]
  },
  {
   "cell_type": "code",
   "execution_count": 367,
   "metadata": {},
   "outputs": [
    {
     "data": {
      "application/vnd.jupyter.widget-view+json": {
       "model_id": "73f7c73887054de88d82c4149dacfd45",
       "version_major": 2,
       "version_minor": 0
      },
      "text/plain": [
       "Figure(layout=FigureLayout(border='1px solid black', height='750px', margin='0 auto 0 auto', padding='1px', wi…"
      ]
     },
     "metadata": {},
     "output_type": "display_data"
    }
   ],
   "source": [
    "house_income_2018 = []\n",
    "\n",
    "for index, row in austin_geo_df.iterrows():\n",
    "    house_income_2018.append(row['Household Income_2018'])\n",
    "\n",
    "# Plot Heatmap\n",
    "figure_layout = {\n",
    "    'width': '1000px',\n",
    "    'height': '750px',\n",
    "    'border': '1px solid black',\n",
    "    'padding': '1px',\n",
    "    'margin': '0 auto 0 auto'\n",
    "}\n",
    "fig = gmaps.figure(layout=figure_layout)\n",
    "\n",
    "fig.add_layer(gmaps.heatmap_layer(austin_geocords,house_income_2018, point_radius = 20))\n",
    "fig"
   ]
  },
  {
   "cell_type": "markdown",
   "metadata": {},
   "source": [
    "### Where people live (2011 vs. 2018)"
   ]
  },
  {
   "cell_type": "code",
   "execution_count": 368,
   "metadata": {
    "scrolled": false
   },
   "outputs": [
    {
     "data": {
      "application/vnd.jupyter.widget-view+json": {
       "model_id": "971c3c1c80b945f38b81a96ded87b77d",
       "version_major": 2,
       "version_minor": 0
      },
      "text/plain": [
       "Figure(layout=FigureLayout(border='1px solid black', height='750px', margin='0 auto 0 auto', padding='1px', wi…"
      ]
     },
     "metadata": {},
     "output_type": "display_data"
    }
   ],
   "source": [
    "nonwhite_2011 = []\n",
    "white_2011 = []\n",
    "\n",
    "for index, row in austin_geo_df.iterrows():\n",
    "    white_2011.append(row['Population (White Alone)_2011'])\n",
    "    nonwhite_2011.append(row['Population_2011'] - row['Population (White Alone)_2011'])\n",
    "\n",
    "# Plot Heatmap\n",
    "figure_layout = {\n",
    "    'width': '1000px',\n",
    "    'height': '750px',\n",
    "    'border': '1px solid black',\n",
    "    'padding': '1px',\n",
    "    'margin': '0 auto 0 auto'\n",
    "}\n",
    "fig = gmaps.figure(layout=figure_layout)\n",
    "\n",
    "fig.add_layer(gmaps.heatmap_layer(austin_geocords,nonwhite_2011, point_radius = 20))\n",
    "fig\n",
    "\n"
   ]
  },
  {
   "cell_type": "code",
   "execution_count": 369,
   "metadata": {},
   "outputs": [
    {
     "data": {
      "application/vnd.jupyter.widget-view+json": {
       "model_id": "3782f130bd934325b6c8021a6c804b9d",
       "version_major": 2,
       "version_minor": 0
      },
      "text/plain": [
       "Figure(layout=FigureLayout(border='1px solid black', height='750px', margin='0 auto 0 auto', padding='1px', wi…"
      ]
     },
     "metadata": {},
     "output_type": "display_data"
    }
   ],
   "source": [
    "nonwhite_2018 = []\n",
    "white_2018 = []\n",
    "\n",
    "for index, row in austin_geo_df.iterrows():\n",
    "    white_2018.append(row['Population (White Alone)_2018'])\n",
    "    nonwhite_2018.append(row['Population_2018'] - row['Population (White Alone)_2018'])\n",
    "\n",
    "# Plot Heatmap\n",
    "figure_layout = {\n",
    "    'width': '1000px',\n",
    "    'height': '750px',\n",
    "    'border': '1px solid black',\n",
    "    'padding': '1px',\n",
    "    'margin': '0 auto 0 auto'\n",
    "}\n",
    "fig = gmaps.figure(layout=figure_layout)\n",
    "\n",
    "fig.add_layer(gmaps.heatmap_layer(austin_geocords,nonwhite_2018, point_radius = 20))\n",
    "fig"
   ]
  },
  {
   "cell_type": "markdown",
   "metadata": {},
   "source": [
    "### Household income by ethnicity (2011 vs. 2018)"
   ]
  },
  {
   "cell_type": "code",
   "execution_count": 372,
   "metadata": {},
   "outputs": [
    {
     "name": "stdout",
     "output_type": "stream",
     "text": [
      "The r-squared is: -0.381606970521929\n"
     ]
    },
    {
     "data": {
      "image/png": "[encoded data removed]",
      "text/plain": [
       "<Figure size 576x432 with 1 Axes>"
      ]
     },
     "metadata": {
      "needs_background": "light"
     },
     "output_type": "display_data"
    }
   ],
   "source": [
    "regress(nonwhite_2011, house_income_2011, 'Household Income of Nonwhite Population by Zip Code (2011)', \n",
    "        'Number of Residents', 'Household Income')"
   ]
  },
  {
   "cell_type": "code",
   "execution_count": 373,
   "metadata": {},
   "outputs": [
    {
     "name": "stdout",
     "output_type": "stream",
     "text": [
      "The r-squared is: 0.05163137063658843\n"
     ]
    },
    {
     "data": {
      "image/png": "[encoded data removed]",
      "text/plain": [
       "<Figure size 576x432 with 1 Axes>"
      ]
     },
     "metadata": {
      "needs_background": "light"
     },
     "output_type": "display_data"
    }
   ],
   "source": [
    "regress(white_2011, house_income_2011, 'Household Income of White Population by Zip Code (2011)', \n",
    "        'Number of Residents', 'Household Income')"
   ]
  },
  {
   "cell_type": "code",
   "execution_count": 374,
   "metadata": {},
   "outputs": [
    {
     "name": "stdout",
     "output_type": "stream",
     "text": [
      "The r-squared is: -0.37705264755797624\n"
     ]
    },
    {
     "data": {
      "image/png": "[encoded data removed]",
      "text/plain": [
       "<Figure size 576x432 with 1 Axes>"
      ]
     },
     "metadata": {
      "needs_background": "light"
     },
     "output_type": "display_data"
    }
   ],
   "source": [
    "regress(nonwhite_2018, house_income_2018, 'Household Income of White Population by Zip Code (2011)', \n",
    "        'Number of Residents', 'Household Income')"
   ]
  },
  {
   "cell_type": "code",
   "execution_count": 375,
   "metadata": {},
   "outputs": [
    {
     "name": "stdout",
     "output_type": "stream",
     "text": [
      "The r-squared is: -0.03839031902243443\n"
     ]
    },
    {
     "data": {
      "image/png": "[encoded data removed]",
      "text/plain": [
       "<Figure size 576x432 with 1 Axes>"
      ]
     },
     "metadata": {
      "needs_background": "light"
     },
     "output_type": "display_data"
    }
   ],
   "source": [
    "regress(white_2018, house_income_2018, 'Household Income of White Population by Zip Code (2018)', \n",
    "        'Number of Residents', 'Household Income')"
   ]
  },
  {
   "cell_type": "markdown",
   "metadata": {},
   "source": [
    "### How old is Austin (2011 vs. 2018) "
   ]
  },
  {
   "cell_type": "code",
   "execution_count": 376,
   "metadata": {},
   "outputs": [
    {
     "data": {
      "application/vnd.jupyter.widget-view+json": {
       "model_id": "a3859a3e8de248868ce950c1613ec5b7",
       "version_major": 2,
       "version_minor": 0
      },
      "text/plain": [
       "Figure(layout=FigureLayout(border='1px solid black', height='750px', margin='0 auto 0 auto', padding='1px', wi…"
      ]
     },
     "metadata": {},
     "output_type": "display_data"
    }
   ],
   "source": [
    "age_2011 = []\n",
    "\n",
    "for index, row in austin_geo_df.iterrows():\n",
    "    age_2011.append(row['Median Age_2011'])\n",
    "\n",
    "# Plot Heatmap\n",
    "figure_layout = {\n",
    "    'width': '1000px',\n",
    "    'height': '750px',\n",
    "    'border': '1px solid black',\n",
    "    'padding': '1px',\n",
    "    'margin': '0 auto 0 auto'\n",
    "}\n",
    "fig = gmaps.figure(layout=figure_layout)\n",
    "\n",
    "fig.add_layer(gmaps.heatmap_layer(austin_geocords,age_2011, point_radius = 20))\n",
    "fig"
   ]
  },
  {
   "cell_type": "code",
   "execution_count": 377,
   "metadata": {
    "scrolled": true
   },
   "outputs": [
    {
     "data": {
      "application/vnd.jupyter.widget-view+json": {
       "model_id": "cd5dbd56458b45018ef9c555f47b3b6d",
       "version_major": 2,
       "version_minor": 0
      },
      "text/plain": [
       "Figure(layout=FigureLayout(border='1px solid black', height='750px', margin='0 auto 0 auto', padding='1px', wi…"
      ]
     },
     "metadata": {},
     "output_type": "display_data"
    }
   ],
   "source": [
    "age_2018 = []\n",
    "\n",
    "for index, row in austin_geo_df.iterrows():\n",
    "    age_2018.append(row['Median Age_2018'])\n",
    "\n",
    "# Plot Heatmap\n",
    "figure_layout = {\n",
    "    'width': '1000px',\n",
    "    'height': '750px',\n",
    "    'border': '1px solid black',\n",
    "    'padding': '1px',\n",
    "    'margin': '0 auto 0 auto'\n",
    "}\n",
    "fig = gmaps.figure(layout=figure_layout)\n",
    "\n",
    "fig.add_layer(gmaps.heatmap_layer(austin_geocords,age_2018, point_radius = 20))\n",
    "fig"
   ]
  },
  {
   "cell_type": "markdown",
   "metadata": {},
   "source": [
    "### Where do college-educated residents live? (2012 vs. 2018)"
   ]
  },
  {
   "cell_type": "code",
   "execution_count": 378,
   "metadata": {},
   "outputs": [
    {
     "data": {
      "application/vnd.jupyter.widget-view+json": {
       "model_id": "481f1cf734b546298c4100bd172fb71b",
       "version_major": 2,
       "version_minor": 0
      },
      "text/plain": [
       "Figure(layout=FigureLayout(border='1px solid black', height='750px', margin='0 auto 0 auto', padding='1px', wi…"
      ]
     },
     "metadata": {},
     "output_type": "display_data"
    }
   ],
   "source": [
    "college_2012 = []\n",
    "\n",
    "for index, row in austin_geo_df.iterrows():\n",
    "    college_2012.append(row[\"Education (Bachelor's)_2012\"]+row[\"Education (Master's)_2012\"]+row[\"Education (Doctorate)_2012\"])\n",
    "\n",
    "# Plot Heatmap\n",
    "figure_layout = {\n",
    "    'width': '1000px',\n",
    "    'height': '750px',\n",
    "    'border': '1px solid black',\n",
    "    'padding': '1px',\n",
    "    'margin': '0 auto 0 auto'\n",
    "}\n",
    "fig = gmaps.figure(layout=figure_layout)\n",
    "\n",
    "fig.add_layer(gmaps.heatmap_layer(austin_geocords,college_2012, point_radius = 20))\n",
    "fig"
   ]
  },
  {
   "cell_type": "code",
   "execution_count": 379,
   "metadata": {
    "scrolled": true
   },
   "outputs": [
    {
     "data": {
      "application/vnd.jupyter.widget-view+json": {
       "model_id": "8f11c4d6176747e2991e01a3394aade8",
       "version_major": 2,
       "version_minor": 0
      },
      "text/plain": [
       "Figure(layout=FigureLayout(border='1px solid black', height='750px', margin='0 auto 0 auto', padding='1px', wi…"
      ]
     },
     "metadata": {},
     "output_type": "display_data"
    }
   ],
   "source": [
    "college_2018 = []\n",
    "\n",
    "for index, row in austin_geo_df.iterrows():\n",
    "    college_2018.append(row[\"Education (Bachelor's)_2018\"]+row[\"Education (Master's)_2018\"]+row[\"Education (Doctorate)_2018\"])\n",
    "\n",
    "# Plot Heatmap\n",
    "figure_layout = {\n",
    "    'width': '1000px',\n",
    "    'height': '750px',\n",
    "    'border': '1px solid black',\n",
    "    'padding': '1px',\n",
    "    'margin': '0 auto 0 auto'\n",
    "}\n",
    "fig = gmaps.figure(layout=figure_layout)\n",
    "\n",
    "fig.add_layer(gmaps.heatmap_layer(austin_geocords,college_2018, point_radius = 20))\n",
    "fig"
   ]
  },
  {
   "cell_type": "markdown",
   "metadata": {},
   "source": [
    "### The relationship between education and household income (2012 vs. 2018)"
   ]
  },
  {
   "cell_type": "code",
   "execution_count": 380,
   "metadata": {},
   "outputs": [
    {
     "name": "stdout",
     "output_type": "stream",
     "text": [
      "The r-squared is: 0.2890537694398412\n"
     ]
    },
    {
     "data": {
      "image/png": "[encoded data removed]",
      "text/plain": [
       "<Figure size 576x432 with 1 Axes>"
      ]
     },
     "metadata": {
      "needs_background": "light"
     },
     "output_type": "display_data"
    }
   ],
   "source": [
    "regress(college_2012, house_income_2012, 'Household Income by Upper Educated Population by Zip Code (2012)', \n",
    "        'Number of College-Educated Residents', 'Household Income')"
   ]
  },
  {
   "cell_type": "code",
   "execution_count": 381,
   "metadata": {
    "scrolled": true
   },
   "outputs": [
    {
     "name": "stdout",
     "output_type": "stream",
     "text": [
      "The r-squared is: 0.1910539844212248\n"
     ]
    },
    {
     "data": {
      "image/png": "[encoded data removed]",
      "text/plain": [
       "<Figure size 576x432 with 1 Axes>"
      ]
     },
     "metadata": {
      "needs_background": "light"
     },
     "output_type": "display_data"
    }
   ],
   "source": [
    "regress(college_2018, house_income_2018, 'Household Income by Upper Educated Population by Zip Code (2018)', \n",
    "        'Number of College-Educated Residents', 'Household Income')"
   ]
  },
  {
   "cell_type": "markdown",
   "metadata": {},
   "source": [
    "### What areas of Austin are most impoverished? (2011 vs. 2018) "
   ]
  },
  {
   "cell_type": "code",
   "execution_count": 382,
   "metadata": {
    "scrolled": true
   },
   "outputs": [
    {
     "data": {
      "application/vnd.jupyter.widget-view+json": {
       "model_id": "7cb23a7607044c13b0f8d73da1dc08ba",
       "version_major": 2,
       "version_minor": 0
      },
      "text/plain": [
       "Figure(layout=FigureLayout(border='1px solid black', height='750px', margin='0 auto 0 auto', padding='1px', wi…"
      ]
     },
     "metadata": {},
     "output_type": "display_data"
    }
   ],
   "source": [
    "poverty_2011 = []\n",
    "\n",
    "for index, row in austin_geo_df.iterrows():\n",
    "    poverty_2011.append(row['Total Poverty Count_2011'])\n",
    "\n",
    "# Plot Heatmap\n",
    "figure_layout = {\n",
    "    'width': '1000px',\n",
    "    'height': '750px',\n",
    "    'border': '1px solid black',\n",
    "    'padding': '1px',\n",
    "    'margin': '0 auto 0 auto'\n",
    "}\n",
    "fig = gmaps.figure(layout=figure_layout)\n",
    "\n",
    "fig.add_layer(gmaps.heatmap_layer(austin_geocords,poverty_2011, point_radius = 20))\n",
    "fig"
   ]
  },
  {
   "cell_type": "code",
   "execution_count": 383,
   "metadata": {},
   "outputs": [
    {
     "data": {
      "application/vnd.jupyter.widget-view+json": {
       "model_id": "10faead83ede4c72981ba17909543be1",
       "version_major": 2,
       "version_minor": 0
      },
      "text/plain": [
       "Figure(layout=FigureLayout(border='1px solid black', height='750px', margin='0 auto 0 auto', padding='1px', wi…"
      ]
     },
     "metadata": {},
     "output_type": "display_data"
    }
   ],
   "source": [
    "poverty_2018 = []\n",
    "\n",
    "for index, row in austin_geo_df.iterrows():\n",
    "    poverty_2018.append(row['Total Poverty Count_2018'])\n",
    "\n",
    "# Plot Heatmap\n",
    "figure_layout = {\n",
    "    'width': '1000px',\n",
    "    'height': '750px',\n",
    "    'border': '1px solid black',\n",
    "    'padding': '1px',\n",
    "    'margin': '0 auto 0 auto'\n",
    "}\n",
    "fig = gmaps.figure(layout=figure_layout)\n",
    "\n",
    "fig.add_layer(gmaps.heatmap_layer(austin_geocords,poverty_2018, point_radius = 20))\n",
    "fig"
   ]
  },
  {
   "cell_type": "markdown",
   "metadata": {},
   "source": [
    "### The relationship between ethnicity and poverty (2011 vs. 2018) "
   ]
  },
  {
   "cell_type": "code",
   "execution_count": 384,
   "metadata": {
    "scrolled": true
   },
   "outputs": [
    {
     "name": "stdout",
     "output_type": "stream",
     "text": [
      "The r-squared is: 0.812594438138699\n"
     ]
    },
    {
     "data": {
      "image/png": "[encoded data removed]",
      "text/plain": [
       "<Figure size 576x432 with 1 Axes>"
      ]
     },
     "metadata": {
      "needs_background": "light"
     },
     "output_type": "display_data"
    }
   ],
   "source": [
    "regress(nonwhite_2011, poverty_2011, 'Poverty of Nonwhite Population by Zip Code (2011)', \n",
    "        'Number of Nonwhite Residents', 'Number Experiencing Poverty')"
   ]
  },
  {
   "cell_type": "code",
   "execution_count": 385,
   "metadata": {},
   "outputs": [
    {
     "name": "stdout",
     "output_type": "stream",
     "text": [
      "The r-squared is: 0.6939233287357903\n"
     ]
    },
    {
     "data": {
      "image/png": "[encoded data removed]",
      "text/plain": [
       "<Figure size 576x432 with 1 Axes>"
      ]
     },
     "metadata": {
      "needs_background": "light"
     },
     "output_type": "display_data"
    }
   ],
   "source": [
    "regress(nonwhite_2018, poverty_2018, 'Poverty of Nonwhite Population by Zip Code (2018)', \n",
    "        'Number of Nonwhite Residents', 'Number Experiencing Poverty')"
   ]
  },
  {
   "cell_type": "code",
   "execution_count": null,
   "metadata": {},
   "outputs": [],
   "source": []
  },
  {
   "cell_type": "markdown",
   "metadata": {},
   "source": [
    "# What do Austinites do?"
   ]
  },
  {
   "cell_type": "code",
   "execution_count": 386,
   "metadata": {},
   "outputs": [],
   "source": [
    "#insert company information"
   ]
  }
 ],
 "metadata": {
  "kernelspec": {
   "display_name": "Python 3",
   "language": "python",
   "name": "python3"
  },
  "language_info": {
   "codemirror_mode": {
    "name": "ipython",
    "version": 3
   },
   "file_extension": ".py",
   "mimetype": "text/x-python",
   "name": "python",
   "nbconvert_exporter": "python",
   "pygments_lexer": "ipython3",
   "version": "3.7.4"
  }
 },
 "nbformat": 4,
 "nbformat_minor": 2
}
