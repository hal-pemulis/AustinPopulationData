{
 "cells": [
  {
   "cell_type": "code",
   "execution_count": 1,
   "metadata": {},
   "outputs": [],
   "source": [
    "# Dependencies\n",
    "import numpy as np\n",
    "import pandas as pd\n",
    "import matplotlib.pyplot as plt\n",
    "import requests\n",
    "from census import Census\n",
    "\n",
    "# Set variable to hold year\n",
    "year = 2018\n",
    "\n",
    "# Census API Key\n",
    "from api_key import api_key\n",
    "c = Census(api_key, year=year)"
   ]
  },
  {
   "cell_type": "markdown",
   "metadata": {},
   "source": [
    "## US Data\n",
    "#### Get Data for all US"
   ]
  },
  {
   "cell_type": "markdown",
   "metadata": {},
   "source": [
    "Get US Population Data"
   ]
  },
  {
   "cell_type": "code",
   "execution_count": 2,
   "metadata": {},
   "outputs": [],
   "source": [
    "# Run API Call for Population Data\n",
    "us_pop_data = c.acs5.get((\"NAME\", \"B01003_001E\", \"B02001_002E\", \"B02001_003E\",\n",
    "                      \"B02001_004E\", \"B02001_005E\", \"B02001_006E\", \"B02001_008E\",                                             \n",
    "                      \"B01002_001E\",\"B19013_001E\",                       \n",
    "                      \"B19301_001E\", \"B23025_004E\", \"B23025_005E\"), \n",
    "                      {'for': 'zip code tabulation area:*'})\n",
    "\n",
    "# Convert to DataFrame\n",
    "us_pop_df = pd.DataFrame(us_pop_data)"
   ]
  },
  {
   "cell_type": "code",
   "execution_count": 3,
   "metadata": {},
   "outputs": [
    {
     "data": {
      "text/html": [
       "<div>\n",
       "<style scoped>\n",
       "    .dataframe tbody tr th:only-of-type {\n",
       "        vertical-align: middle;\n",
       "    }\n",
       "\n",
       "    .dataframe tbody tr th {\n",
       "        vertical-align: top;\n",
       "    }\n",
       "\n",
       "    .dataframe thead th {\n",
       "        text-align: right;\n",
       "    }\n",
       "</style>\n",
       "<table border=\"1\" class=\"dataframe\">\n",
       "  <thead>\n",
       "    <tr style=\"text-align: right;\">\n",
       "      <th></th>\n",
       "      <th>Median Age</th>\n",
       "      <th>Population</th>\n",
       "      <th>Population (White Alone)</th>\n",
       "      <th>Population (Black Alone)</th>\n",
       "      <th>Population (American Indian or Alaskan Native Alone)</th>\n",
       "      <th>Population (Asian Alone)</th>\n",
       "      <th>Population (Native Hawaiian and Other Pacific Islander Alone)</th>\n",
       "      <th>Population (Two or more races)</th>\n",
       "      <th>Household Income</th>\n",
       "      <th>Per Capita Income</th>\n",
       "      <th>Employed</th>\n",
       "      <th>Unemployed</th>\n",
       "      <th>NAME</th>\n",
       "      <th>Zipcode</th>\n",
       "      <th>Year</th>\n",
       "    </tr>\n",
       "  </thead>\n",
       "  <tbody>\n",
       "    <tr>\n",
       "      <th>0</th>\n",
       "      <td>46.2</td>\n",
       "      <td>8642.0</td>\n",
       "      <td>8226.0</td>\n",
       "      <td>256.0</td>\n",
       "      <td>2.0</td>\n",
       "      <td>21.0</td>\n",
       "      <td>0.0</td>\n",
       "      <td>137.0</td>\n",
       "      <td>42826.0</td>\n",
       "      <td>24329.0</td>\n",
       "      <td>3564.0</td>\n",
       "      <td>342.0</td>\n",
       "      <td>ZCTA5 43964</td>\n",
       "      <td>43964</td>\n",
       "      <td>2018</td>\n",
       "    </tr>\n",
       "    <tr>\n",
       "      <th>1</th>\n",
       "      <td>35.2</td>\n",
       "      <td>51116.0</td>\n",
       "      <td>13583.0</td>\n",
       "      <td>32929.0</td>\n",
       "      <td>25.0</td>\n",
       "      <td>1054.0</td>\n",
       "      <td>0.0</td>\n",
       "      <td>1251.0</td>\n",
       "      <td>48647.0</td>\n",
       "      <td>26775.0</td>\n",
       "      <td>25800.0</td>\n",
       "      <td>2533.0</td>\n",
       "      <td>ZCTA5 28216</td>\n",
       "      <td>28216</td>\n",
       "      <td>2018</td>\n",
       "    </tr>\n",
       "    <tr>\n",
       "      <th>2</th>\n",
       "      <td>38.8</td>\n",
       "      <td>71605.0</td>\n",
       "      <td>51272.0</td>\n",
       "      <td>6346.0</td>\n",
       "      <td>200.0</td>\n",
       "      <td>10533.0</td>\n",
       "      <td>0.0</td>\n",
       "      <td>2276.0</td>\n",
       "      <td>105885.0</td>\n",
       "      <td>51740.0</td>\n",
       "      <td>37198.0</td>\n",
       "      <td>1595.0</td>\n",
       "      <td>ZCTA5 28277</td>\n",
       "      <td>28277</td>\n",
       "      <td>2018</td>\n",
       "    </tr>\n",
       "    <tr>\n",
       "      <th>3</th>\n",
       "      <td>35.6</td>\n",
       "      <td>27286.0</td>\n",
       "      <td>14515.0</td>\n",
       "      <td>8672.0</td>\n",
       "      <td>7.0</td>\n",
       "      <td>1709.0</td>\n",
       "      <td>53.0</td>\n",
       "      <td>1740.0</td>\n",
       "      <td>90282.0</td>\n",
       "      <td>38536.0</td>\n",
       "      <td>15182.0</td>\n",
       "      <td>856.0</td>\n",
       "      <td>ZCTA5 28278</td>\n",
       "      <td>28278</td>\n",
       "      <td>2018</td>\n",
       "    </tr>\n",
       "    <tr>\n",
       "      <th>4</th>\n",
       "      <td>35.1</td>\n",
       "      <td>29414.0</td>\n",
       "      <td>14358.0</td>\n",
       "      <td>11486.0</td>\n",
       "      <td>187.0</td>\n",
       "      <td>1185.0</td>\n",
       "      <td>132.0</td>\n",
       "      <td>1721.0</td>\n",
       "      <td>39896.0</td>\n",
       "      <td>27452.0</td>\n",
       "      <td>11384.0</td>\n",
       "      <td>805.0</td>\n",
       "      <td>ZCTA5 28303</td>\n",
       "      <td>28303</td>\n",
       "      <td>2018</td>\n",
       "    </tr>\n",
       "  </tbody>\n",
       "</table>\n",
       "</div>"
      ],
      "text/plain": [
       "   Median Age  Population  Population (White Alone)  Population (Black Alone)  \\\n",
       "0        46.2      8642.0                    8226.0                     256.0   \n",
       "1        35.2     51116.0                   13583.0                   32929.0   \n",
       "2        38.8     71605.0                   51272.0                    6346.0   \n",
       "3        35.6     27286.0                   14515.0                    8672.0   \n",
       "4        35.1     29414.0                   14358.0                   11486.0   \n",
       "\n",
       "   Population (American Indian or Alaskan Native Alone)  \\\n",
       "0                                                2.0      \n",
       "1                                               25.0      \n",
       "2                                              200.0      \n",
       "3                                                7.0      \n",
       "4                                              187.0      \n",
       "\n",
       "   Population (Asian Alone)  \\\n",
       "0                      21.0   \n",
       "1                    1054.0   \n",
       "2                   10533.0   \n",
       "3                    1709.0   \n",
       "4                    1185.0   \n",
       "\n",
       "   Population (Native Hawaiian and Other Pacific Islander Alone)  \\\n",
       "0                                                0.0               \n",
       "1                                                0.0               \n",
       "2                                                0.0               \n",
       "3                                               53.0               \n",
       "4                                              132.0               \n",
       "\n",
       "   Population (Two or more races)  Household Income  Per Capita Income  \\\n",
       "0                           137.0           42826.0            24329.0   \n",
       "1                          1251.0           48647.0            26775.0   \n",
       "2                          2276.0          105885.0            51740.0   \n",
       "3                          1740.0           90282.0            38536.0   \n",
       "4                          1721.0           39896.0            27452.0   \n",
       "\n",
       "   Employed  Unemployed         NAME Zipcode  Year  \n",
       "0    3564.0       342.0  ZCTA5 43964   43964  2018  \n",
       "1   25800.0      2533.0  ZCTA5 28216   28216  2018  \n",
       "2   37198.0      1595.0  ZCTA5 28277   28277  2018  \n",
       "3   15182.0       856.0  ZCTA5 28278   28278  2018  \n",
       "4   11384.0       805.0  ZCTA5 28303   28303  2018  "
      ]
     },
     "execution_count": 3,
     "metadata": {},
     "output_type": "execute_result"
    }
   ],
   "source": [
    "# Column Reordering\n",
    "us_pop_df = us_pop_df.rename(columns={\n",
    "                                  \"zip code tabulation area\": \"Zipcode\",\n",
    "                                  \"B01003_001E\": \"Population\",\n",
    "                                  \"B02001_002E\": \"Population (White Alone)\",\n",
    "                                  \"B02001_003E\": \"Population (Black Alone)\", \n",
    "                                  \"B02001_004E\": \"Population (American Indian or Alaskan Native Alone)\",\n",
    "                                  \"B02001_005E\": \"Population (Asian Alone)\",\n",
    "                                  \"B02001_006E\": \"Population (Native Hawaiian and Other Pacific Islander Alone)\",\n",
    "                                  \"B02001_008E\": \"Population (Two or more races)\",\n",
    "                                  \"B01002_001E\": \"Median Age\",\n",
    "                                  \"B19013_001E\": \"Household Income\",\n",
    "                                  \"B19301_001E\": \"Per Capita Income\",\n",
    "                                  \"B23025_004E\": \"Employed\",\n",
    "                                  \"B23025_005E\": \"Unemployed\"})\n",
    "\n",
    "# Add column for year\n",
    "us_pop_df[\"Year\"] = year\n",
    "\n",
    "us_pop_df.head()"
   ]
  },
  {
   "cell_type": "markdown",
   "metadata": {},
   "source": [
    "Get US Poverty Data"
   ]
  },
  {
   "cell_type": "code",
   "execution_count": 4,
   "metadata": {},
   "outputs": [],
   "source": [
    "# Run API Call for Poverty Data\n",
    "us_poverty_data = c.acs5.get((\"NAME\", \"B17001_002E\", \"B17001_003E\", \"B17001_017E\",\n",
    "                      \"B17001A_002E\", \"B17001B_002E\", \"B17001C_002E\", \"B17001D_002E\",\n",
    "                      \"B17001E_002E\", \"B17001G_002E\"), \n",
    "                      {'for': 'zip code tabulation area:*'})\n",
    "\n",
    "# Convert to DataFrame\n",
    "us_poverty_df = pd.DataFrame(us_poverty_data)"
   ]
  },
  {
   "cell_type": "code",
   "execution_count": 5,
   "metadata": {},
   "outputs": [],
   "source": [
    "try:\n",
    "    # Column Reordering\n",
    "    us_poverty_df = us_poverty_df.rename(columns={\n",
    "                                      \"zip code tabulation area\": \"Zipcode\",\n",
    "                                      \"B17001_002E\": \"Total Poverty Count\",\n",
    "                                      \"B17001_003E\": \"Poverty Male\",\n",
    "                                      \"B17001_017E\": \"Poverty Female\",\n",
    "                                      \"B17001A_002E\": \"Poverty White\",\n",
    "                                      \"B17001B_002E\": \"Poverty Black\",\n",
    "                                      \"B17001C_002E\": \"Poverty American Indian\",\n",
    "                                      \"B17001D_002E\": \"Poverty Asian\",\n",
    "                                      \"B17001E_002E\": \"Poverty Hispanic\",\n",
    "                                      \"B17001G_002E\": \"Poverty Two or More Races\"})\n",
    "\n",
    "    # Create dictionary to add year\n",
    "    Year_dict = {\n",
    "        \n",
    "    }\n",
    "    \n",
    "    # Add row for year\n",
    "    us_poverty_df.append(year)\n",
    "\n",
    "    us_poverty_df.head()\n",
    "except:\n",
    "    print(f\"No data available for {year}.\")"
   ]
  },
  {
   "cell_type": "markdown",
   "metadata": {},
   "source": [
    "Get Housing Data"
   ]
  },
  {
   "cell_type": "code",
   "execution_count": 6,
   "metadata": {},
   "outputs": [],
   "source": [
    "# Run API Call for Housing Data\n",
    "us_housing_data = c.acs5.get((\"NAME\", \"B25035_001E\", \"B25058_001E\", \n",
    "                              \"B25064_001E\", \"B25077_001E\", \"B25088_002E\"), \n",
    "                              {'for': 'zip code tabulation area:*'})\n",
    "\n",
    "# Convert to DataFrame\n",
    "us_housing_df = pd.DataFrame(us_housing_data)"
   ]
  },
  {
   "cell_type": "code",
   "execution_count": 7,
   "metadata": {},
   "outputs": [],
   "source": [
    "try:\n",
    "    # Column Reordering\n",
    "    us_housing_df = us_housing_df.rename(columns={\n",
    "                                      \"zip code tabulation area\": \"Zipcode\",\n",
    "                                      \"B25035_001E\": \"Median year housing units were built\",\n",
    "                                      \"B25058_001E\": \"Median contract rent\",\n",
    "                                      \"B25064_001E\": \"Median gross rent (contract rent plus utilities)\",\n",
    "                                      \"B25077_001E\": \"Median value (dollars) for Owner-Occupied housing units\",\n",
    "                                      \"B25088_002E\": \"Median Selected Monthly Owner Costs (Dollars) by Mortgage Status\"})\n",
    "\n",
    "    # Add column for year\n",
    "    us_housing_df[\"Year\"] = year\n",
    "\n",
    "    us_housing_df.head()\n",
    "except:\n",
    "    print(f\"No data available for {year}.\")"
   ]
  },
  {
   "cell_type": "markdown",
   "metadata": {},
   "source": [
    "Get Education Data"
   ]
  },
  {
   "cell_type": "code",
   "execution_count": 8,
   "metadata": {},
   "outputs": [],
   "source": [
    "try:\n",
    "    # Run API Call for Housing Data\n",
    "    us_education_data = c.acs5.get((\"NAME\", \"B15003_002E\", \"B15003_017E\", \"B15003_018E\", \n",
    "                                    \"B15003_021E\", \"B15003_022E\", \"B15003_023E\", \n",
    "                                    \"B15003_024E,\" \"B15003_025E\"), \n",
    "                                    {'for': 'zip code tabulation area:*'})\n",
    "\n",
    "    # Convert to DataFrame\n",
    "    us_education_df = pd.DataFrame(us_education_data)\n",
    "\n",
    "except:\n",
    "    print(f\"No data available for {year}.\")"
   ]
  },
  {
   "cell_type": "code",
   "execution_count": 9,
   "metadata": {},
   "outputs": [],
   "source": [
    "try:\n",
    "    # Column Reordering\n",
    "    us_education_df = us_education_df.rename(columns={\n",
    "                                      \"zip code tabulation area\": \"Zipcode\",\n",
    "                                      \"B15003_002E\": \"Education (No Schooling)\",\n",
    "                                      \"B15003_017E\": \"Education (High School)\",\n",
    "                                      \"B15003_018E\": \"Education (GED)\",\n",
    "                                      \"B15003_021E\": \"Education (Associate's)\",\n",
    "                                      \"B15003_022E\": \"Education (Bachelor's)\",\n",
    "                                      \"B15003_023E\": \"Education (Master's)\",\n",
    "                                      \"B15003_024E\": \"Education (Professional)\",\n",
    "                                      \"B15003_025E\": \"Education (Doctorate)\"})\n",
    "\n",
    "    # Add column for year\n",
    "    us_education_df[\"Year\"] = year\n",
    "\n",
    "    us_education_df.head()\n",
    "except:\n",
    "    print(f\"No data available for {year}.\")"
   ]
  },
  {
   "cell_type": "markdown",
   "metadata": {},
   "source": [
    "## Austin Data\n",
    "#### Filter out Data for Austin Zip codes"
   ]
  },
  {
   "cell_type": "code",
   "execution_count": 10,
   "metadata": {},
   "outputs": [],
   "source": [
    "# Create a list of Austin zip codes\n",
    "Austin_zip_codes = [\"78610\", \"78613\", \"78617\", \"78641\", \"78652\", \"78653\", \"78660\", \"78664\", \"78681\", \n",
    "                    \"78701\", \"78702\", \"78703\", \"78704\", \"78705\", \"78712\", \"78717\", \"78719\", \"78721\", \n",
    "                    \"78722\", \"78723\", \"78724\", \"78725\", \"78726\", \"78727\", \"78728\", \"78729\", \"78730\", \n",
    "                    \"78731\", \"78732\", \"78733\", \"78734\", \"78735\", \"78736\", \"78737\", \"78738\", \"78739\", \n",
    "                    \"78741\", \"78742\", \"78744\", \"78745\", \"78746\", \"78747\", \"78748\", \"78749\", \"78750\", \n",
    "                    \"78751\", \"78752\", \"78753\", \"78754\", \"78756\", \"78757\", \"78758\", \"78759\"]"
   ]
  },
  {
   "cell_type": "markdown",
   "metadata": {},
   "source": [
    "Filter out Austin Population Data"
   ]
  },
  {
   "cell_type": "code",
   "execution_count": 11,
   "metadata": {
    "scrolled": true
   },
   "outputs": [],
   "source": [
    "try:\n",
    "    # Filter out rows where zipcode is in Austin\n",
    "    Austin_pop = us_pop_df[us_pop_df[\"Zipcode\"].isin(Austin_zip_codes)]\n",
    "\n",
    "    # Set zipcode as index\n",
    "    Austin_pop = Austin_pop.set_index(\"Zipcode\")\n",
    "\n",
    "    # Drop \"NAME column\"\n",
    "    Austin_pop = Austin_pop.drop(\"NAME\", axis=1)\n",
    "\n",
    "    Austin_pop.head()\n",
    "except:\n",
    "    print(f\"No data available for {year}.\")"
   ]
  },
  {
   "cell_type": "code",
   "execution_count": 12,
   "metadata": {},
   "outputs": [],
   "source": [
    "# Save as CSV\n",
    "Austin_pop.to_csv(f\"../Resources/Census.gov/By_Year/Austin_population_{year}.csv\", encoding=\"utf-8\")"
   ]
  },
  {
   "cell_type": "markdown",
   "metadata": {},
   "source": [
    "Filter out Austin Poverty Data"
   ]
  },
  {
   "cell_type": "code",
   "execution_count": 13,
   "metadata": {},
   "outputs": [],
   "source": [
    "try:\n",
    "    # Filter out rows where zipcode is in Austin\n",
    "    Austin_poverty = us_poverty_df[us_poverty_df[\"Zipcode\"].isin(Austin_zip_codes)]\n",
    "\n",
    "    # Set zipcode as index\n",
    "    Austin_poverty = Austin_poverty.set_index(\"Zipcode\")\n",
    "\n",
    "    # Drop \"NAME column\"\n",
    "    Austin_poverty = Austin_poverty.drop(\"NAME\", axis=1)\n",
    "\n",
    "    Austin_poverty.head()\n",
    "except:\n",
    "    print(f\"No data available for {year}.\")"
   ]
  },
  {
   "cell_type": "code",
   "execution_count": 14,
   "metadata": {},
   "outputs": [],
   "source": [
    "# Save as CSV\n",
    "Austin_poverty.to_csv(f\"../Resources/Census.gov/By_Year/Austin_poverty_{year}.csv\", encoding=\"utf-8\")"
   ]
  },
  {
   "cell_type": "markdown",
   "metadata": {},
   "source": [
    "Filter out Austin Housing Data"
   ]
  },
  {
   "cell_type": "code",
   "execution_count": 15,
   "metadata": {},
   "outputs": [],
   "source": [
    "try:\n",
    "    # Filter out rows where zipcode is in Austin\n",
    "    Austin_housing = us_housing_df[us_housing_df[\"Zipcode\"].isin(Austin_zip_codes)]\n",
    "\n",
    "    # Set zipcode as index\n",
    "    Austin_housing = Austin_housing.set_index(\"Zipcode\")\n",
    "\n",
    "    # Drop \"NAME column\"\n",
    "    Austin_housing = Austin_housing.drop(\"NAME\", axis=1)\n",
    "\n",
    "    Austin_housing.head()\n",
    "except:\n",
    "    print(f\"No data available for {year}.\")"
   ]
  },
  {
   "cell_type": "code",
   "execution_count": 16,
   "metadata": {},
   "outputs": [],
   "source": [
    "# Save as CSV\n",
    "Austin_housing.to_csv(f\"../Resources/Census.gov/By_Year/Austin_housing_{year}.csv\", encoding=\"utf-8\")"
   ]
  },
  {
   "cell_type": "markdown",
   "metadata": {},
   "source": [
    "Filter out Austin Education Data"
   ]
  },
  {
   "cell_type": "code",
   "execution_count": 17,
   "metadata": {},
   "outputs": [],
   "source": [
    "try:\n",
    "    # Filter out rows where zipcode is in Austin\n",
    "    Austin_education = us_education_df[us_education_df[\"Zipcode\"].isin(Austin_zip_codes)]\n",
    "\n",
    "    # Set zipcode as index\n",
    "    Austin_education = Austin_education.set_index(\"Zipcode\")\n",
    "\n",
    "    # Drop \"NAME column\"\n",
    "    Austin_education = Austin_education.drop(\"NAME\", axis=1)\n",
    "\n",
    "    Austin_education.head()\n",
    "except:\n",
    "    print(f\"No data available for {year}.\")"
   ]
  },
  {
   "cell_type": "code",
   "execution_count": 18,
   "metadata": {},
   "outputs": [],
   "source": [
    "try:\n",
    "    # Save as CSV\n",
    "    Austin_education.to_csv(f\"../Resources/Census.gov/By_Year/Austin_education_{year}.csv\", encoding=\"utf-8\")\n",
    "except:\n",
    "    print(f\"No data available for {year}.\")"
   ]
  },
  {
   "cell_type": "code",
   "execution_count": null,
   "metadata": {},
   "outputs": [],
   "source": []
  }
 ],
 "metadata": {
  "kernelspec": {
   "display_name": "Python 3",
   "language": "python",
   "name": "python3"
  },
  "language_info": {
   "codemirror_mode": {
    "name": "ipython",
    "version": 3
   },
   "file_extension": ".py",
   "mimetype": "text/x-python",
   "name": "python",
   "nbconvert_exporter": "python",
   "pygments_lexer": "ipython3",
   "version": "3.7.1"
  }
 },
 "nbformat": 4,
 "nbformat_minor": 2
}
