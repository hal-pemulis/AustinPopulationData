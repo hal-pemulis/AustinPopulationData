{
 "cells": [
  {
   "cell_type": "code",
   "execution_count": 1,
   "metadata": {},
   "outputs": [],
   "source": [
    "# Dependencies\n",
    "import numpy as np\n",
    "import pandas as pd\n",
    "import matplotlib.pyplot as plt\n",
    "%matplotlib notebook"
   ]
  },
  {
   "cell_type": "code",
   "execution_count": 2,
   "metadata": {},
   "outputs": [
    {
     "data": {
      "text/html": [
       "<div>\n",
       "<style scoped>\n",
       "    .dataframe tbody tr th:only-of-type {\n",
       "        vertical-align: middle;\n",
       "    }\n",
       "\n",
       "    .dataframe tbody tr th {\n",
       "        vertical-align: top;\n",
       "    }\n",
       "\n",
       "    .dataframe thead th {\n",
       "        text-align: right;\n",
       "    }\n",
       "</style>\n",
       "<table border=\"1\" class=\"dataframe\">\n",
       "  <thead>\n",
       "    <tr style=\"text-align: right;\">\n",
       "      <th></th>\n",
       "      <th>Zipcode</th>\n",
       "      <th>Education (No Schooling)_2012</th>\n",
       "      <th>Education (High School)_2012</th>\n",
       "      <th>Education (GED)_2012</th>\n",
       "      <th>Education (Associate's)_2012</th>\n",
       "      <th>Education (Bachelor's)_2012</th>\n",
       "      <th>Education (Master's)_2012</th>\n",
       "      <th>Education (Master's)_2012.1</th>\n",
       "      <th>Education (Doctorate)_2012</th>\n",
       "      <th>Education (No Schooling)_2013</th>\n",
       "      <th>...</th>\n",
       "      <th>Female_2017</th>\n",
       "      <th>Poverty White_2018</th>\n",
       "      <th>Poverty Black_2018</th>\n",
       "      <th>Poverty American Indian_2018</th>\n",
       "      <th>Poverty Asian_2018</th>\n",
       "      <th>Poverty Hispanic_2018</th>\n",
       "      <th>Poverty Two or More Races_2018</th>\n",
       "      <th>Total Poverty Count_2018</th>\n",
       "      <th>Poverty Male_2018</th>\n",
       "      <th>Female_2018</th>\n",
       "    </tr>\n",
       "  </thead>\n",
       "  <tbody>\n",
       "    <tr>\n",
       "      <th>0</th>\n",
       "      <td>78610</td>\n",
       "      <td>40</td>\n",
       "      <td>2859</td>\n",
       "      <td>606</td>\n",
       "      <td>1093</td>\n",
       "      <td>3750</td>\n",
       "      <td>1135</td>\n",
       "      <td>112</td>\n",
       "      <td>104</td>\n",
       "      <td>34</td>\n",
       "      <td>...</td>\n",
       "      <td>1466</td>\n",
       "      <td>2081</td>\n",
       "      <td>72</td>\n",
       "      <td>0</td>\n",
       "      <td>0</td>\n",
       "      <td>11</td>\n",
       "      <td>16</td>\n",
       "      <td>2381</td>\n",
       "      <td>1024</td>\n",
       "      <td>1357</td>\n",
       "    </tr>\n",
       "    <tr>\n",
       "      <th>1</th>\n",
       "      <td>78613</td>\n",
       "      <td>122</td>\n",
       "      <td>5852</td>\n",
       "      <td>998</td>\n",
       "      <td>3123</td>\n",
       "      <td>13532</td>\n",
       "      <td>3759</td>\n",
       "      <td>781</td>\n",
       "      <td>513</td>\n",
       "      <td>78</td>\n",
       "      <td>...</td>\n",
       "      <td>1589</td>\n",
       "      <td>2984</td>\n",
       "      <td>70</td>\n",
       "      <td>0</td>\n",
       "      <td>244</td>\n",
       "      <td>0</td>\n",
       "      <td>222</td>\n",
       "      <td>3617</td>\n",
       "      <td>1763</td>\n",
       "      <td>1854</td>\n",
       "    </tr>\n",
       "    <tr>\n",
       "      <th>2</th>\n",
       "      <td>78617</td>\n",
       "      <td>459</td>\n",
       "      <td>2564</td>\n",
       "      <td>735</td>\n",
       "      <td>503</td>\n",
       "      <td>1089</td>\n",
       "      <td>118</td>\n",
       "      <td>20</td>\n",
       "      <td>0</td>\n",
       "      <td>474</td>\n",
       "      <td>...</td>\n",
       "      <td>2621</td>\n",
       "      <td>1785</td>\n",
       "      <td>316</td>\n",
       "      <td>16</td>\n",
       "      <td>14</td>\n",
       "      <td>0</td>\n",
       "      <td>71</td>\n",
       "      <td>4022</td>\n",
       "      <td>1661</td>\n",
       "      <td>2361</td>\n",
       "    </tr>\n",
       "    <tr>\n",
       "      <th>3</th>\n",
       "      <td>78641</td>\n",
       "      <td>328</td>\n",
       "      <td>5425</td>\n",
       "      <td>1430</td>\n",
       "      <td>2635</td>\n",
       "      <td>6670</td>\n",
       "      <td>1942</td>\n",
       "      <td>277</td>\n",
       "      <td>226</td>\n",
       "      <td>405</td>\n",
       "      <td>...</td>\n",
       "      <td>2204</td>\n",
       "      <td>3335</td>\n",
       "      <td>481</td>\n",
       "      <td>0</td>\n",
       "      <td>69</td>\n",
       "      <td>0</td>\n",
       "      <td>109</td>\n",
       "      <td>4027</td>\n",
       "      <td>1873</td>\n",
       "      <td>2154</td>\n",
       "    </tr>\n",
       "    <tr>\n",
       "      <th>4</th>\n",
       "      <td>78652</td>\n",
       "      <td>27</td>\n",
       "      <td>685</td>\n",
       "      <td>46</td>\n",
       "      <td>180</td>\n",
       "      <td>1049</td>\n",
       "      <td>247</td>\n",
       "      <td>17</td>\n",
       "      <td>3</td>\n",
       "      <td>25</td>\n",
       "      <td>...</td>\n",
       "      <td>237</td>\n",
       "      <td>554</td>\n",
       "      <td>14</td>\n",
       "      <td>0</td>\n",
       "      <td>0</td>\n",
       "      <td>0</td>\n",
       "      <td>0</td>\n",
       "      <td>568</td>\n",
       "      <td>290</td>\n",
       "      <td>278</td>\n",
       "    </tr>\n",
       "  </tbody>\n",
       "</table>\n",
       "<p>5 rows × 265 columns</p>\n",
       "</div>"
      ],
      "text/plain": [
       "   Zipcode  Education (No Schooling)_2012  Education (High School)_2012  \\\n",
       "0    78610                             40                          2859   \n",
       "1    78613                            122                          5852   \n",
       "2    78617                            459                          2564   \n",
       "3    78641                            328                          5425   \n",
       "4    78652                             27                           685   \n",
       "\n",
       "   Education (GED)_2012  Education (Associate's)_2012  \\\n",
       "0                   606                          1093   \n",
       "1                   998                          3123   \n",
       "2                   735                           503   \n",
       "3                  1430                          2635   \n",
       "4                    46                           180   \n",
       "\n",
       "   Education (Bachelor's)_2012  Education (Master's)_2012  \\\n",
       "0                         3750                       1135   \n",
       "1                        13532                       3759   \n",
       "2                         1089                        118   \n",
       "3                         6670                       1942   \n",
       "4                         1049                        247   \n",
       "\n",
       "   Education (Master's)_2012.1  Education (Doctorate)_2012  \\\n",
       "0                          112                         104   \n",
       "1                          781                         513   \n",
       "2                           20                           0   \n",
       "3                          277                         226   \n",
       "4                           17                           3   \n",
       "\n",
       "   Education (No Schooling)_2013     ...       Female_2017  \\\n",
       "0                             34     ...              1466   \n",
       "1                             78     ...              1589   \n",
       "2                            474     ...              2621   \n",
       "3                            405     ...              2204   \n",
       "4                             25     ...               237   \n",
       "\n",
       "   Poverty White_2018  Poverty Black_2018  Poverty American Indian_2018  \\\n",
       "0                2081                  72                             0   \n",
       "1                2984                  70                             0   \n",
       "2                1785                 316                            16   \n",
       "3                3335                 481                             0   \n",
       "4                 554                  14                             0   \n",
       "\n",
       "   Poverty Asian_2018  Poverty Hispanic_2018  Poverty Two or More Races_2018  \\\n",
       "0                   0                     11                              16   \n",
       "1                 244                      0                             222   \n",
       "2                  14                      0                              71   \n",
       "3                  69                      0                             109   \n",
       "4                   0                      0                               0   \n",
       "\n",
       "   Total Poverty Count_2018  Poverty Male_2018  Female_2018  \n",
       "0                      2381               1024         1357  \n",
       "1                      3617               1763         1854  \n",
       "2                      4022               1661         2361  \n",
       "3                      4027               1873         2154  \n",
       "4                       568                290          278  \n",
       "\n",
       "[5 rows x 265 columns]"
      ]
     },
     "execution_count": 2,
     "metadata": {},
     "output_type": "execute_result"
    }
   ],
   "source": [
    "# Import CSV file of education data\n",
    "Austin_file = \"../Resources/Census.gov/By_Year/Merged_datasets/Austin_census_merged_clean.csv\"\n",
    "\n",
    "pop_csv = pd.read_csv(Austin_file)\n",
    "\n",
    "Austin_df = pd.DataFrame(pop_csv)\n",
    "Austin_df.head()"
   ]
  },
  {
   "cell_type": "markdown",
   "metadata": {},
   "source": [
    "### Population Growth\n",
    "\n"
   ]
  },
  {
   "cell_type": "code",
   "execution_count": 3,
   "metadata": {},
   "outputs": [
    {
     "data": {
      "image/png": "[encoded data removed]",
      "text/plain": [
       "<Figure size 432x288 with 1 Axes>"
      ]
     },
     "metadata": {
      "needs_background": "light"
     },
     "output_type": "display_data"
    }
   ],
   "source": [
    "# Populations\n",
    "populations = [Austin_df[\"Population_2011\"].sum(), Austin_df[\"Population_2012\"].sum(), Austin_df[\"Population_2013\"].sum(), \n",
    "               Austin_df[\"Population_2014\"].sum(), Austin_df[\"Population_2015\"].sum(), Austin_df[\"Population_2016\"].sum(),\n",
    "               Austin_df[\"Population_2017\"].sum(), Austin_df[\"Population_2018\"].sum()]\n",
    "\n",
    "years = [\"2011\", \"2012\", \"2013\", \"2014\", \"2015\", \"2016\", \"2017\", \"2018\"]\n",
    "\n",
    "# Generate line plot\n",
    "plt.plot(years, populations, marker=\"x\", label=\"Total Population\")\n",
    "plt.title(\"Austin Population Over Time\")\n",
    "plt.xlabel(\"Year\")\n",
    "plt.ylabel(\"Number of Persons\")\n",
    "plt.xlim(-1, 8)\n",
    "plt.ylim(1200000, 1600000)\n",
    "\n",
    "\n",
    "plt.legend()\n",
    "plt.savefig(\"../Output_Data/Demographics/Population_growth_line.png\")"
   ]
  },
  {
   "cell_type": "code",
   "execution_count": 4,
   "metadata": {},
   "outputs": [],
   "source": [
    "total_df = Austin_df[[\"Population_2011\", \"Population_2012\", \"Population_2013\",\n",
    "                       \"Population_2014\", \"Population_2015\", \"Population_2016\",\n",
    "                       \"Population_2017\", \"Population_2018\"]]"
   ]
  },
  {
   "cell_type": "code",
   "execution_count": 5,
   "metadata": {},
   "outputs": [],
   "source": [
    "total_df = total_df.transpose()"
   ]
  },
  {
   "cell_type": "code",
   "execution_count": 6,
   "metadata": {},
   "outputs": [
    {
     "data": {
      "image/png": "[encoded data removed]",
      "text/plain": [
       "<Figure size 432x288 with 1 Axes>"
      ]
     },
     "metadata": {
      "needs_background": "light"
     },
     "output_type": "display_data"
    }
   ],
   "source": [
    "total_df[\"Sum\"] = total_df.sum(axis=1)\n",
    "Sum = total_df[\"Sum\"]\n",
    "Sum.plot(kind=\"bar\")\n",
    "\n",
    "# Set tick locations and names\n",
    "plt.xticks(rotation=45)\n",
    "\n",
    "# Set a Title and labels\n",
    "plt.title(\"Austin Population Growth\")\n",
    "plt.xlabel(\"Year\")\n",
    "plt.ylabel(\"Number of People\")\n",
    "\n",
    "plt.savefig(\"../Output_Data/Demographics/Population_growth_bar.png\")"
   ]
  },
  {
   "cell_type": "markdown",
   "metadata": {},
   "source": [
    "### Population Distribution"
   ]
  },
  {
   "cell_type": "code",
   "execution_count": 7,
   "metadata": {},
   "outputs": [],
   "source": [
    "# Transpose data\n",
    "Austin_df = Austin_df.transpose()"
   ]
  },
  {
   "cell_type": "code",
   "execution_count": 8,
   "metadata": {},
   "outputs": [],
   "source": [
    "# Define function to pull population total for a given year\n",
    "\n",
    "def pop_year(year):\n",
    "    # Set year to input\n",
    "    year = year\n",
    "    \n",
    "    # Pull race/ethnic group data for that year\n",
    "    white_year = Austin_df.loc[f\"Population (White Alone)_{year}\"].sum()\n",
    "    black_year = Austin_df.loc[f\"Population (Black Alone)_{year}\"].sum()\n",
    "    indian_year = Austin_df.loc[f\"Population (American Indian or Alaskan Native Alone)_{year}\"].sum()\n",
    "    asian_year = Austin_df.loc[f\"Population (Asian Alone)_{year}\"].sum()\n",
    "    hawaiian_year = Austin_df.loc[f\"Population (Native Hawaiian and Other Pacific Islander Alone)_{year}\"].sum()\n",
    "    \n",
    "    other = indian_year + hawaiian_year\n",
    "    \n",
    "    # join to a list\n",
    "    year_list = [white_year, black_year, asian_year, other]\n",
    "    \n",
    "    return year_list"
   ]
  },
  {
   "cell_type": "code",
   "execution_count": 9,
   "metadata": {},
   "outputs": [],
   "source": [
    "# Define function to make a bar graph to show disribution for a given year\n",
    "\n",
    "def pop_graph_year(year):\n",
    "    # Set year to input\n",
    "    year = year\n",
    "\n",
    "    # Set data to plot\n",
    "    labels = [\"White\", \"Black\", \"Asian\", \"Other\"]\n",
    "    size = pop_year(year)\n",
    "\n",
    "    # Set colors\n",
    "    colors = [\"tab:blue\", \"tab:orange\", \"tab:green\", \"tab:red\", \"tab:purple\"]\n",
    "\n",
    "    # Create plot\n",
    "    plt.bar(labels, size, align=\"center\", color=colors, width=0.8)\n",
    "\n",
    "    # Set a Title and labels\n",
    "    plt.title(f\"Austin Population Distribution {year}\")\n",
    "    plt.xlabel(\"Race/Ethnicity\")\n",
    "    plt.ylabel(\"Number of People\")\n",
    "\n",
    "    return"
   ]
  },
  {
   "cell_type": "code",
   "execution_count": 10,
   "metadata": {},
   "outputs": [
    {
     "data": {
      "image/png": "[encoded data removed]",
      "text/plain": [
       "<Figure size 432x288 with 1 Axes>"
      ]
     },
     "metadata": {
      "needs_background": "light"
     },
     "output_type": "display_data"
    }
   ],
   "source": [
    "pop_graph_year(2011)\n",
    "plt.savefig(\"../Output_Data/Demographics/Population_distribution_2011.png\")"
   ]
  },
  {
   "cell_type": "code",
   "execution_count": 11,
   "metadata": {},
   "outputs": [
    {
     "data": {
      "image/png": "[encoded data removed]",
      "text/plain": [
       "<Figure size 432x288 with 1 Axes>"
      ]
     },
     "metadata": {
      "needs_background": "light"
     },
     "output_type": "display_data"
    }
   ],
   "source": [
    "pop_graph_year(2018)\n",
    "plt.savefig(\"../Output_Data/Demographics/Population_distribution_2018.png\")"
   ]
  },
  {
   "cell_type": "markdown",
   "metadata": {},
   "source": [
    "### Poverty"
   ]
  },
  {
   "cell_type": "code",
   "execution_count": 12,
   "metadata": {},
   "outputs": [],
   "source": [
    "# Define function to pull poverty count for a given year\n",
    "\n",
    "def poverty_year(year):\n",
    "    # Set year to input\n",
    "    year = year\n",
    "    \n",
    "    # Pull race/ethnic group data for that year\n",
    "    white_year = Austin_df.loc[f\"Poverty White_{year}\"].sum()\n",
    "    black_year = Austin_df.loc[f\"Poverty Black_{year}\"].sum()\n",
    "    indian_year = Austin_df.loc[f\"Poverty American Indian_{year}\"].sum()\n",
    "    asian_year = Austin_df.loc[f\"Poverty Asian_{year}\"].sum()\n",
    "    hispanic_year = Austin_df.loc[f\"Poverty Hispanic_{year}\"].sum()\n",
    "    biracial_year = Austin_df.loc[f\"Poverty Two or More Races_{year}\"].sum()\n",
    "    \n",
    "    # join to a list\n",
    "    year_list = [white_year, black_year, asian_year, indian_year, hispanic_year, biracial_year]\n",
    "    \n",
    "    return year_list"
   ]
  },
  {
   "cell_type": "code",
   "execution_count": 13,
   "metadata": {},
   "outputs": [],
   "source": [
    "# Define function to make a bar graph to show poverty disribution for a given year\n",
    "\n",
    "def poverty_graph_year(year):\n",
    "    # Set year to input\n",
    "    year = year\n",
    "\n",
    "    # Set data to plot\n",
    "    labels = [\"White\", \"Black\", \"Asian\", \"Am. Ind.\", \"Hispanic\", \"Biracial\"]\n",
    "    size = poverty_year(year)\n",
    "\n",
    "    # Set colors\n",
    "    colors = [\"tab:blue\", \"tab:orange\", \"tab:green\", \"tab:red\", \"tab:purple\", \"tab:pink\", \"tab:gray\"]\n",
    "\n",
    "    # Create plot\n",
    "    plt.bar(labels, size, align=\"center\", color=colors, width=0.8)\n",
    "\n",
    "    # Set a Title and labels\n",
    "    plt.title(f\"Austin Poverty Distribution by Race {year}\")\n",
    "    plt.xlabel(\"Race/Ethnicity\")\n",
    "    plt.ylabel(\"Number of People\")\n",
    "\n",
    "    return"
   ]
  },
  {
   "cell_type": "code",
   "execution_count": 14,
   "metadata": {},
   "outputs": [
    {
     "data": {
      "image/png": "[encoded data removed]",
      "text/plain": [
       "<Figure size 432x288 with 1 Axes>"
      ]
     },
     "metadata": {
      "needs_background": "light"
     },
     "output_type": "display_data"
    }
   ],
   "source": [
    "poverty_graph_year(2011)\n",
    "plt.savefig(\"../Output_Data/Demographics/Poverty_distribution_2011.png\")"
   ]
  },
  {
   "cell_type": "code",
   "execution_count": 15,
   "metadata": {},
   "outputs": [
    {
     "data": {
      "image/png": "[encoded data removed]",
      "text/plain": [
       "<Figure size 432x288 with 1 Axes>"
      ]
     },
     "metadata": {
      "needs_background": "light"
     },
     "output_type": "display_data"
    }
   ],
   "source": [
    "poverty_graph_year(2018)\n",
    "plt.savefig(\"../Output_Data/Demographics/Poverty_distribution_2018.png\")"
   ]
  },
  {
   "cell_type": "code",
   "execution_count": 16,
   "metadata": {},
   "outputs": [],
   "source": [
    "# Calculate percentage living in poverty by race\n",
    "def poverty_percent(race, year):\n",
    "    \n",
    "    # Set variable to hold sum of selected race living below poverty line\n",
    "    poverty = Austin_df.loc[f\"Poverty {race}_{year}\"].sum()\n",
    "\n",
    "    # Set variable to hold total of selected race \n",
    "    total = Austin_df.loc[f\"Population ({race} Alone)_{year}\"].sum()\n",
    "    \n",
    "    # Calculate percent living below poverty line\n",
    "    percent = round((poverty/total), 2)*100\n",
    "    \n",
    "    return percent"
   ]
  },
  {
   "cell_type": "code",
   "execution_count": null,
   "metadata": {},
   "outputs": [],
   "source": []
  },
  {
   "cell_type": "code",
   "execution_count": null,
   "metadata": {},
   "outputs": [],
   "source": []
  },
  {
   "cell_type": "code",
   "execution_count": 17,
   "metadata": {},
   "outputs": [],
   "source": [
    "# Define a function to graph poverty levels over time\n",
    "\n",
    "def poverty_stats(year):\n",
    "    # Calculate poverty stats by race/ethnicity\n",
    "    white_poverty = poverty_percent(\"White\", year)\n",
    "    black_poverty = poverty_percent(\"Black\", year)\n",
    "    asian_poverty = poverty_percent(\"Asian\", year)\n",
    "    \n",
    "    # Calculate total poverty\n",
    "    total_poverty = Austin_df.loc[f\"Total Poverty Count_{year}\"].sum()\n",
    "    total_year = Austin_df.loc[f\"Population_{year}\"].sum()\n",
    "    \n",
    "    # Calculate total poverty percent\n",
    "    total_percent = round((total_poverty/total_year), 2)*100\n",
    "    \n",
    "    # Join all poverty stats to a list\n",
    "    \n",
    "    poverty_year = [total_percent, white_poverty, black_poverty, asian_poverty]\n",
    "    \n",
    "    return poverty_year"
   ]
  },
  {
   "cell_type": "code",
   "execution_count": 23,
   "metadata": {},
   "outputs": [
    {
     "data": {
      "image/png": "[encoded data removed]",
      "text/plain": [
       "<Figure size 432x288 with 1 Axes>"
      ]
     },
     "metadata": {
      "needs_background": "light"
     },
     "output_type": "display_data"
    },
    {
     "data": {
      "text/plain": [
       "<Figure size 432x288 with 0 Axes>"
      ]
     },
     "metadata": {},
     "output_type": "display_data"
    }
   ],
   "source": [
    "\n",
    "\n",
    "\n",
    "# Set variables to hold poverty dat\n",
    "poverty_data = poverty_stats(2018)\n",
    "\n",
    "# Set data to plot\n",
    "labels = [\"Total\", \"White\", \"Black\", \"Asian\"]\n",
    "\n",
    "# Set colors\n",
    "colors = [\"tab:blue\", \"tab:orange\", \"tab:green\", \"tab:red\", \"tab:purple\"]\n",
    "\n",
    "# Create plot\n",
    "plt.bar(labels, poverty_data, align=\"center\", color=colors, width=0.8)\n",
    "\n",
    "# Set a Title and labels\n",
    "plt.title(f\"Austin Poverty Distribution 2018\")\n",
    "plt.xlabel(\"Race/Ethnicity\")\n",
    "plt.ylabel(\"Percentage experiencing poverty (%)\")\n",
    "\n",
    "# Set x limit\n",
    "# plt.xlim(-1, 5)\n",
    "# plt.ylim(-1, 1)\n",
    "\n",
    "plt.show()\n",
    "\n",
    "plt.savefig(\"../Output_Data/Demographics/Poverty_distribution_2018.png\")"
   ]
  },
  {
   "cell_type": "code",
   "execution_count": null,
   "metadata": {},
   "outputs": [],
   "source": []
  },
  {
   "cell_type": "code",
   "execution_count": 20,
   "metadata": {},
   "outputs": [],
   "source": [
    "# define function to get all poverty data by year\n",
    "\n",
    "def poverty_race_year(race):\n",
    "    \n",
    "    poverty_list = []\n",
    "\n",
    "    for year in range(2011, 2019):\n",
    "        if race == \"Total\":\n",
    "            # Calculate total poverty\n",
    "            total_poverty = Austin_df.loc[f\"Total Poverty Count_{year}\"].sum()\n",
    "            total_year = Austin_df.loc[f\"Population_{year}\"].sum()\n",
    "\n",
    "            # Calculate total poverty percent\n",
    "            total_percent = round((total_poverty/total_year), 2)*100\n",
    "            stat = total_percent\n",
    "            \n",
    "        else:\n",
    "            stat = poverty_percent(race, year)\n",
    "        \n",
    "        # Append stat to list\n",
    "        poverty_list.append(stat)\n",
    "    \n",
    "    return poverty_list\n"
   ]
  },
  {
   "cell_type": "code",
   "execution_count": null,
   "metadata": {},
   "outputs": [],
   "source": []
  },
  {
   "cell_type": "code",
   "execution_count": null,
   "metadata": {},
   "outputs": [],
   "source": []
  },
  {
   "cell_type": "code",
   "execution_count": 21,
   "metadata": {},
   "outputs": [],
   "source": [
    "# Create a graph showing poverty level changes over time \n",
    "\n",
    "# Enter year data\n",
    "poverty_white = poverty_race_year(\"White\")\n",
    "poverty_black = poverty_race_year(\"Black\")\n",
    "poverty_asian = poverty_race_year(\"Asian\")\n",
    "poverty_total = poverty_race_year(\"Total\")\n",
    "\n",
    "years = [\"2011\", \"2012\", \"2013\", \"2014\", \"2015\", \"2016\", \"2017\", \"2018\"]"
   ]
  },
  {
   "cell_type": "code",
   "execution_count": 22,
   "metadata": {},
   "outputs": [
    {
     "data": {
      "image/png": "[encoded data removed]",
      "text/plain": [
       "<Figure size 432x288 with 1 Axes>"
      ]
     },
     "metadata": {
      "needs_background": "light"
     },
     "output_type": "display_data"
    }
   ],
   "source": [
    "# Set handles\n",
    "white, = plt.plot(years, poverty_white, marker=\"+\", label=\"White\")\n",
    "black, = plt.plot(years, poverty_black, marker=\"x\", label=\"Black\")\n",
    "asian, = plt.plot(years, poverty_asian, marker=\"s\", label=\"Asian\")\n",
    "total, = plt.plot(years, poverty_total, marker=\"^\", label=\"Total\")\n",
    "\n",
    "# Set legend to where the chart thinks is best\n",
    "plt.legend(handles=[white, black, asian, total], loc=\"best\")\n",
    "\n",
    "# Set labels\n",
    "plt.title(\"Austin Poverty Rates Over Time\")\n",
    "plt.xlabel(\"Year\")\n",
    "plt.ylabel(\"Rate\")\n",
    "\n",
    "plt.savefig(\"../Output_Data/Demographics/Poverty_rates_over_time.png\")"
   ]
  },
  {
   "cell_type": "code",
   "execution_count": null,
   "metadata": {},
   "outputs": [],
   "source": []
  },
  {
   "cell_type": "code",
   "execution_count": null,
   "metadata": {},
   "outputs": [],
   "source": []
  },
  {
   "cell_type": "code",
   "execution_count": null,
   "metadata": {},
   "outputs": [],
   "source": []
  },
  {
   "cell_type": "code",
   "execution_count": null,
   "metadata": {},
   "outputs": [],
   "source": []
  },
  {
   "cell_type": "code",
   "execution_count": null,
   "metadata": {},
   "outputs": [],
   "source": []
  },
  {
   "cell_type": "code",
   "execution_count": null,
   "metadata": {},
   "outputs": [],
   "source": []
  },
  {
   "cell_type": "code",
   "execution_count": null,
   "metadata": {},
   "outputs": [],
   "source": []
  },
  {
   "cell_type": "code",
   "execution_count": null,
   "metadata": {},
   "outputs": [],
   "source": []
  },
  {
   "cell_type": "code",
   "execution_count": null,
   "metadata": {},
   "outputs": [],
   "source": []
  },
  {
   "cell_type": "code",
   "execution_count": null,
   "metadata": {},
   "outputs": [],
   "source": []
  },
  {
   "cell_type": "code",
   "execution_count": null,
   "metadata": {},
   "outputs": [],
   "source": []
  },
  {
   "cell_type": "code",
   "execution_count": null,
   "metadata": {},
   "outputs": [],
   "source": []
  },
  {
   "cell_type": "code",
   "execution_count": null,
   "metadata": {},
   "outputs": [],
   "source": []
  },
  {
   "cell_type": "code",
   "execution_count": null,
   "metadata": {},
   "outputs": [],
   "source": []
  },
  {
   "cell_type": "code",
   "execution_count": null,
   "metadata": {},
   "outputs": [],
   "source": []
  },
  {
   "cell_type": "code",
   "execution_count": null,
   "metadata": {},
   "outputs": [],
   "source": []
  },
  {
   "cell_type": "code",
   "execution_count": null,
   "metadata": {},
   "outputs": [],
   "source": []
  },
  {
   "cell_type": "code",
   "execution_count": null,
   "metadata": {},
   "outputs": [],
   "source": []
  },
  {
   "cell_type": "code",
   "execution_count": null,
   "metadata": {},
   "outputs": [],
   "source": []
  },
  {
   "cell_type": "code",
   "execution_count": null,
   "metadata": {},
   "outputs": [],
   "source": []
  },
  {
   "cell_type": "code",
   "execution_count": null,
   "metadata": {},
   "outputs": [],
   "source": []
  },
  {
   "cell_type": "code",
   "execution_count": null,
   "metadata": {},
   "outputs": [],
   "source": []
  },
  {
   "cell_type": "code",
   "execution_count": null,
   "metadata": {},
   "outputs": [],
   "source": []
  }
 ],
 "metadata": {
  "kernelspec": {
   "display_name": "Python 3",
   "language": "python",
   "name": "python3"
  },
  "language_info": {
   "codemirror_mode": {
    "name": "ipython",
    "version": 3
   },
   "file_extension": ".py",
   "mimetype": "text/x-python",
   "name": "python",
   "nbconvert_exporter": "python",
   "pygments_lexer": "ipython3",
   "version": "3.7.1"
  }
 },
 "nbformat": 4,
 "nbformat_minor": 2
}
