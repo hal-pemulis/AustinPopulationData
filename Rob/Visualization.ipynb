{
 "cells": [
  {
   "cell_type": "code",
   "execution_count": 57,
   "metadata": {},
   "outputs": [],
   "source": [
    "# Dependencies\n",
    "import numpy as np\n",
    "import pandas as pd\n",
    "import matplotlib.pyplot as plt"
   ]
  },
  {
   "cell_type": "code",
   "execution_count": 58,
   "metadata": {},
   "outputs": [
    {
     "data": {
      "text/html": [
       "<div>\n",
       "<style scoped>\n",
       "    .dataframe tbody tr th:only-of-type {\n",
       "        vertical-align: middle;\n",
       "    }\n",
       "\n",
       "    .dataframe tbody tr th {\n",
       "        vertical-align: top;\n",
       "    }\n",
       "\n",
       "    .dataframe thead th {\n",
       "        text-align: right;\n",
       "    }\n",
       "</style>\n",
       "<table border=\"1\" class=\"dataframe\">\n",
       "  <thead>\n",
       "    <tr style=\"text-align: right;\">\n",
       "      <th></th>\n",
       "      <th>Zipcode</th>\n",
       "      <th>Education (No Schooling)_2012</th>\n",
       "      <th>Education (High School)_2012</th>\n",
       "      <th>Education (GED)_2012</th>\n",
       "      <th>Education (Associate's)_2012</th>\n",
       "      <th>Education (Bachelor's)_2012</th>\n",
       "      <th>Education (Master's)_2012</th>\n",
       "      <th>Education (Master's)_2012.1</th>\n",
       "      <th>Education (Doctorate)_2012</th>\n",
       "      <th>Education (No Schooling)_2013</th>\n",
       "      <th>...</th>\n",
       "      <th>Female_2017</th>\n",
       "      <th>Poverty White_2018</th>\n",
       "      <th>Poverty Black_2018</th>\n",
       "      <th>Poverty American Indian_2018</th>\n",
       "      <th>Poverty Asian_2018</th>\n",
       "      <th>Poverty Hispanic_2018</th>\n",
       "      <th>Poverty Two or More Races_2018</th>\n",
       "      <th>Total Poverty Count_2018</th>\n",
       "      <th>Poverty Male_2018</th>\n",
       "      <th>Female_2018</th>\n",
       "    </tr>\n",
       "  </thead>\n",
       "  <tbody>\n",
       "    <tr>\n",
       "      <th>0</th>\n",
       "      <td>78610</td>\n",
       "      <td>40</td>\n",
       "      <td>2859</td>\n",
       "      <td>606</td>\n",
       "      <td>1093</td>\n",
       "      <td>3750</td>\n",
       "      <td>1135</td>\n",
       "      <td>112</td>\n",
       "      <td>104</td>\n",
       "      <td>34</td>\n",
       "      <td>...</td>\n",
       "      <td>1466</td>\n",
       "      <td>2081</td>\n",
       "      <td>72</td>\n",
       "      <td>0</td>\n",
       "      <td>0</td>\n",
       "      <td>11</td>\n",
       "      <td>16</td>\n",
       "      <td>2381</td>\n",
       "      <td>1024</td>\n",
       "      <td>1357</td>\n",
       "    </tr>\n",
       "    <tr>\n",
       "      <th>1</th>\n",
       "      <td>78613</td>\n",
       "      <td>122</td>\n",
       "      <td>5852</td>\n",
       "      <td>998</td>\n",
       "      <td>3123</td>\n",
       "      <td>13532</td>\n",
       "      <td>3759</td>\n",
       "      <td>781</td>\n",
       "      <td>513</td>\n",
       "      <td>78</td>\n",
       "      <td>...</td>\n",
       "      <td>1589</td>\n",
       "      <td>2984</td>\n",
       "      <td>70</td>\n",
       "      <td>0</td>\n",
       "      <td>244</td>\n",
       "      <td>0</td>\n",
       "      <td>222</td>\n",
       "      <td>3617</td>\n",
       "      <td>1763</td>\n",
       "      <td>1854</td>\n",
       "    </tr>\n",
       "    <tr>\n",
       "      <th>2</th>\n",
       "      <td>78617</td>\n",
       "      <td>459</td>\n",
       "      <td>2564</td>\n",
       "      <td>735</td>\n",
       "      <td>503</td>\n",
       "      <td>1089</td>\n",
       "      <td>118</td>\n",
       "      <td>20</td>\n",
       "      <td>0</td>\n",
       "      <td>474</td>\n",
       "      <td>...</td>\n",
       "      <td>2621</td>\n",
       "      <td>1785</td>\n",
       "      <td>316</td>\n",
       "      <td>16</td>\n",
       "      <td>14</td>\n",
       "      <td>0</td>\n",
       "      <td>71</td>\n",
       "      <td>4022</td>\n",
       "      <td>1661</td>\n",
       "      <td>2361</td>\n",
       "    </tr>\n",
       "    <tr>\n",
       "      <th>3</th>\n",
       "      <td>78641</td>\n",
       "      <td>328</td>\n",
       "      <td>5425</td>\n",
       "      <td>1430</td>\n",
       "      <td>2635</td>\n",
       "      <td>6670</td>\n",
       "      <td>1942</td>\n",
       "      <td>277</td>\n",
       "      <td>226</td>\n",
       "      <td>405</td>\n",
       "      <td>...</td>\n",
       "      <td>2204</td>\n",
       "      <td>3335</td>\n",
       "      <td>481</td>\n",
       "      <td>0</td>\n",
       "      <td>69</td>\n",
       "      <td>0</td>\n",
       "      <td>109</td>\n",
       "      <td>4027</td>\n",
       "      <td>1873</td>\n",
       "      <td>2154</td>\n",
       "    </tr>\n",
       "    <tr>\n",
       "      <th>4</th>\n",
       "      <td>78652</td>\n",
       "      <td>27</td>\n",
       "      <td>685</td>\n",
       "      <td>46</td>\n",
       "      <td>180</td>\n",
       "      <td>1049</td>\n",
       "      <td>247</td>\n",
       "      <td>17</td>\n",
       "      <td>3</td>\n",
       "      <td>25</td>\n",
       "      <td>...</td>\n",
       "      <td>237</td>\n",
       "      <td>554</td>\n",
       "      <td>14</td>\n",
       "      <td>0</td>\n",
       "      <td>0</td>\n",
       "      <td>0</td>\n",
       "      <td>0</td>\n",
       "      <td>568</td>\n",
       "      <td>290</td>\n",
       "      <td>278</td>\n",
       "    </tr>\n",
       "  </tbody>\n",
       "</table>\n",
       "<p>5 rows × 265 columns</p>\n",
       "</div>"
      ],
      "text/plain": [
       "   Zipcode  Education (No Schooling)_2012  Education (High School)_2012  \\\n",
       "0    78610                             40                          2859   \n",
       "1    78613                            122                          5852   \n",
       "2    78617                            459                          2564   \n",
       "3    78641                            328                          5425   \n",
       "4    78652                             27                           685   \n",
       "\n",
       "   Education (GED)_2012  Education (Associate's)_2012  \\\n",
       "0                   606                          1093   \n",
       "1                   998                          3123   \n",
       "2                   735                           503   \n",
       "3                  1430                          2635   \n",
       "4                    46                           180   \n",
       "\n",
       "   Education (Bachelor's)_2012  Education (Master's)_2012  \\\n",
       "0                         3750                       1135   \n",
       "1                        13532                       3759   \n",
       "2                         1089                        118   \n",
       "3                         6670                       1942   \n",
       "4                         1049                        247   \n",
       "\n",
       "   Education (Master's)_2012.1  Education (Doctorate)_2012  \\\n",
       "0                          112                         104   \n",
       "1                          781                         513   \n",
       "2                           20                           0   \n",
       "3                          277                         226   \n",
       "4                           17                           3   \n",
       "\n",
       "   Education (No Schooling)_2013     ...       Female_2017  \\\n",
       "0                             34     ...              1466   \n",
       "1                             78     ...              1589   \n",
       "2                            474     ...              2621   \n",
       "3                            405     ...              2204   \n",
       "4                             25     ...               237   \n",
       "\n",
       "   Poverty White_2018  Poverty Black_2018  Poverty American Indian_2018  \\\n",
       "0                2081                  72                             0   \n",
       "1                2984                  70                             0   \n",
       "2                1785                 316                            16   \n",
       "3                3335                 481                             0   \n",
       "4                 554                  14                             0   \n",
       "\n",
       "   Poverty Asian_2018  Poverty Hispanic_2018  Poverty Two or More Races_2018  \\\n",
       "0                   0                     11                              16   \n",
       "1                 244                      0                             222   \n",
       "2                  14                      0                              71   \n",
       "3                  69                      0                             109   \n",
       "4                   0                      0                               0   \n",
       "\n",
       "   Total Poverty Count_2018  Poverty Male_2018  Female_2018  \n",
       "0                      2381               1024         1357  \n",
       "1                      3617               1763         1854  \n",
       "2                      4022               1661         2361  \n",
       "3                      4027               1873         2154  \n",
       "4                       568                290          278  \n",
       "\n",
       "[5 rows x 265 columns]"
      ]
     },
     "execution_count": 58,
     "metadata": {},
     "output_type": "execute_result"
    }
   ],
   "source": [
    "# Import CSV file of education data\n",
    "Austin_file = \"../Resources/Census.gov/By_Year/Merged_datasets/Austin_census_merged_clean.csv\"\n",
    "\n",
    "pop_csv = pd.read_csv(Austin_file)\n",
    "\n",
    "Austin_df = pd.DataFrame(pop_csv)\n",
    "Austin_df.head()"
   ]
  },
  {
   "cell_type": "markdown",
   "metadata": {},
   "source": [
    "### Line chart\n",
    "\n"
   ]
  },
  {
   "cell_type": "code",
   "execution_count": 3,
   "metadata": {},
   "outputs": [
    {
     "data": {
      "text/plain": [
       "<matplotlib.legend.Legend at 0x277f9bd4438>"
      ]
     },
     "execution_count": 3,
     "metadata": {},
     "output_type": "execute_result"
    },
    {
     "data": {
      "image/png": "[encoded data removed]",
      "text/plain": [
       "<Figure size 432x288 with 1 Axes>"
      ]
     },
     "metadata": {
      "needs_background": "light"
     },
     "output_type": "display_data"
    }
   ],
   "source": [
    "# Populations\n",
    "populations = [population_df[\"Population_2011\"].sum(), population_df[\"Population_2012\"].sum(), population_df[\"Population_2013\"].sum(), \n",
    "               population_df[\"Population_2014\"].sum(), population_df[\"Population_2015\"].sum(), population_df[\"Population_2016\"].sum(),\n",
    "               population_df[\"Population_2017\"].sum(), population_df[\"Population_2018\"].sum()]\n",
    "\n",
    "years = [\"2011\", \"2012\", \"2013\", \"2014\", \"2015\", \"2016\", \"2017\", \"2018\"]\n",
    "\n",
    "# Generate line plot\n",
    "plt.plot(years, populations, marker=\"x\", label=\"Total Population\")\n",
    "plt.title(\"Austin Population Over Time\")\n",
    "plt.xlabel(\"Year\")\n",
    "plt.ylabel(\"Number of Persons\")\n",
    "\n",
    "plt.legend()"
   ]
  },
  {
   "cell_type": "code",
   "execution_count": 4,
   "metadata": {},
   "outputs": [
    {
     "data": {
      "text/plain": [
       "1268143"
      ]
     },
     "execution_count": 4,
     "metadata": {},
     "output_type": "execute_result"
    }
   ],
   "source": [
    "population_df[\"Population_2011\"].sum()"
   ]
  },
  {
   "cell_type": "markdown",
   "metadata": {},
   "source": [
    "### Bar graph"
   ]
  },
  {
   "cell_type": "code",
   "execution_count": 5,
   "metadata": {},
   "outputs": [
    {
     "data": {
      "text/plain": [
       "<BarContainer object of 8 artists>"
      ]
     },
     "execution_count": 5,
     "metadata": {},
     "output_type": "execute_result"
    },
    {
     "data": {
      "image/png": "[encoded data removed]",
      "text/plain": [
       "<Figure size 432x288 with 1 Axes>"
      ]
     },
     "metadata": {
      "needs_background": "light"
     },
     "output_type": "display_data"
    }
   ],
   "source": [
    "\n",
    "\n",
    "years = [\"2011\", \"2012\", \"2013\", \"2014\", \"2015\", \"2016\", \"2017\", \"2018\"]\n",
    "\n",
    "Total_pop = [population_df[\"Population_2011\"].sum(), population_df[\"Population_2012\"].sum(), population_df[\"Population_2013\"].sum(), \n",
    "           population_df[\"Population_2014\"].sum(), population_df[\"Population_2015\"].sum(), population_df[\"Population_2016\"].sum(),\n",
    "           population_df[\"Population_2017\"].sum(), population_df[\"Population_2018\"].sum()]\n",
    "\n",
    "white_pop = [population_df[\"Population (White Alone)_2011\"].sum(), population_df[\"Population (White Alone)_2012\"].sum(), population_df[\"Population (White Alone)_2013\"].sum(), \n",
    "           population_df[\"Population (White Alone)_2014\"].sum(), population_df[\"Population (White Alone)_2015\"].sum(), population_df[\"Population (White Alone)_2016\"].sum(),\n",
    "           population_df[\"Population (White Alone)_2017\"].sum(), population_df[\"Population (White Alone)_2018\"].sum()]\n",
    "\n",
    "black_pop = [population_df[\"Population (Black Alone)_2011\"].sum(), population_df[\"Population (Black Alone)_2012\"].sum(), population_df[\"Population (Black Alone)_2013\"].sum(), \n",
    "           population_df[\"Population (Black Alone)_2014\"].sum(), population_df[\"Population (Black Alone)_2015\"].sum(), population_df[\"Population (Black Alone)_2016\"].sum(),\n",
    "           population_df[\"Population (Black Alone)_2017\"].sum(), population_df[\"Population (Black Alone)_2018\"].sum()]\n",
    "\n",
    "\n",
    "\n",
    "plt.bar(years, Total_pop, align=\"center\")"
   ]
  },
  {
   "cell_type": "code",
   "execution_count": 6,
   "metadata": {},
   "outputs": [
    {
     "data": {
      "text/plain": [
       "[100904, 104777, 105214, 107619, 110813, 112653, 114470, 118304]"
      ]
     },
     "execution_count": 6,
     "metadata": {},
     "output_type": "execute_result"
    }
   ],
   "source": [
    "black = [population_df[\"Population (Black Alone)_2011\"].sum(), population_df[\"Population (Black Alone)_2012\"].sum(), population_df[\"Population (Black Alone)_2013\"].sum(), \n",
    "           population_df[\"Population (Black Alone)_2014\"].sum(), population_df[\"Population (Black Alone)_2015\"].sum(), population_df[\"Population (Black Alone)_2016\"].sum(),\n",
    "           population_df[\"Population (Black Alone)_2017\"].sum(), population_df[\"Population (Black Alone)_2018\"].sum()]\n",
    "black"
   ]
  },
  {
   "cell_type": "code",
   "execution_count": 59,
   "metadata": {},
   "outputs": [
    {
     "data": {
      "text/plain": [
       "<matplotlib.axes._subplots.AxesSubplot at 0x277fbd3e2b0>"
      ]
     },
     "execution_count": 59,
     "metadata": {},
     "output_type": "execute_result"
    },
    {
     "data": {
      "image/png": "[encoded data removed]",
      "text/plain": [
       "<Figure size 432x288 with 1 Axes>"
      ]
     },
     "metadata": {
      "needs_background": "light"
     },
     "output_type": "display_data"
    }
   ],
   "source": [
    "total_df = Austin_df[[\"Population_2011\", \"Population_2012\", \"Population_2013\",\n",
    "                       \"Population_2014\", \"Population_2015\", \"Population_2016\",\n",
    "                       \"Population_2017\", \"Population_2018\"]]\n",
    "\n",
    "total_df.plot(kind=\"bar\")"
   ]
  },
  {
   "cell_type": "code",
   "execution_count": 60,
   "metadata": {},
   "outputs": [],
   "source": [
    "total_df = total_df.transpose()"
   ]
  },
  {
   "cell_type": "code",
   "execution_count": 61,
   "metadata": {},
   "outputs": [
    {
     "data": {
      "text/plain": [
       "Text(0, 0.5, 'Number of People')"
      ]
     },
     "execution_count": 61,
     "metadata": {},
     "output_type": "execute_result"
    },
    {
     "data": {
      "image/png": "[encoded data removed]",
      "text/plain": [
       "<Figure size 432x288 with 1 Axes>"
      ]
     },
     "metadata": {
      "needs_background": "light"
     },
     "output_type": "display_data"
    }
   ],
   "source": [
    "total_df[\"Sum\"] = total_df.sum(axis=1)\n",
    "Sum = total_df[\"Sum\"]\n",
    "Sum.plot(kind=\"bar\")\n",
    "\n",
    "# Set tick locations and names\n",
    "plt.xticks(rotation=45)\n",
    "\n",
    "# Set a Title and labels\n",
    "plt.title(\"Austin Population Growth\")\n",
    "plt.xlabel(\"Year\")\n",
    "plt.ylabel(\"Number of People\")"
   ]
  },
  {
   "cell_type": "markdown",
   "metadata": {},
   "source": [
    "### Population Distribution"
   ]
  },
  {
   "cell_type": "code",
   "execution_count": 65,
   "metadata": {},
   "outputs": [],
   "source": [
    "# Transpose data\n",
    "Austin_df = Austin_df.transpose()"
   ]
  },
  {
   "cell_type": "code",
   "execution_count": 66,
   "metadata": {},
   "outputs": [],
   "source": [
    "# Define function to pull population total for a given year\n",
    "\n",
    "def pop_year(year):\n",
    "    # Set year to input\n",
    "    year = year\n",
    "    \n",
    "    # Pull race/ethnic group data for that year\n",
    "    white_year = Austin_df.loc[f\"Population (White Alone)_{year}\"].sum()\n",
    "    black_year = Austin_df.loc[f\"Population (Black Alone)_{year}\"].sum()\n",
    "    indian_year = Austin_df.loc[f\"Population (American Indian or Alaskan Native Alone)_{year}\"].sum()\n",
    "    asian_year = Austin_df.loc[f\"Population (Asian Alone)_{year}\"].sum()\n",
    "    hawaiian_year = Austin_df.loc[f\"Population (Native Hawaiian and Other Pacific Islander Alone)_{year}\"].sum()\n",
    "    \n",
    "    other = indian_year + hawaiian_year\n",
    "    \n",
    "    # join to a list\n",
    "    year_list = [white_year, black_year, asian_year, other]\n",
    "    \n",
    "    return year_list"
   ]
  },
  {
   "cell_type": "code",
   "execution_count": 67,
   "metadata": {},
   "outputs": [
    {
     "data": {
      "text/plain": [
       "[903179.0, 100904.0, 75585.0, 7984.0]"
      ]
     },
     "execution_count": 67,
     "metadata": {},
     "output_type": "execute_result"
    }
   ],
   "source": [
    "year_list = pop_year(2011)\n",
    "year_list"
   ]
  },
  {
   "cell_type": "code",
   "execution_count": 68,
   "metadata": {},
   "outputs": [
    {
     "data": {
      "text/plain": [
       "Text(0, 0.5, 'Number of People')"
      ]
     },
     "execution_count": 68,
     "metadata": {},
     "output_type": "execute_result"
    },
    {
     "data": {
      "image/png": "[encoded data removed]",
      "text/plain": [
       "<Figure size 432x288 with 1 Axes>"
      ]
     },
     "metadata": {
      "needs_background": "light"
     },
     "output_type": "display_data"
    }
   ],
   "source": [
    "# Set data to plot\n",
    "labels = [\"White\", \"Black\", \"Asian\", \"Other\"]\n",
    "size_2011 = pop_year(2011)\n",
    "\n",
    "# Set colors\n",
    "colors = [\"tab:blue\", \"tab:green\", \"tab:red\", \"tab:purple\"]\n",
    "\n",
    "# Create plot\n",
    "plt.bar(labels, size_2011, align=\"center\", color=colors, width=0.8)\n",
    "\n",
    "# Set a Title and labels\n",
    "plt.title(\"Austin Population Distribution 2011\")\n",
    "plt.xlabel(\"Race/Ethnicity\")\n",
    "plt.ylabel(\"Number of People\")"
   ]
  },
  {
   "cell_type": "code",
   "execution_count": 69,
   "metadata": {},
   "outputs": [],
   "source": [
    "# Define function to make a bar graph to show disribution for a given year\n",
    "\n",
    "def bar_graph_year(year):\n",
    "    # Set year to input\n",
    "    year = year\n",
    "\n",
    "    # Set data to plot\n",
    "    labels = [\"White\", \"Black\", \"Asian\", \"Other\"]\n",
    "    size = pop_year(year)\n",
    "\n",
    "    # Set colors\n",
    "    colors = [\"tab:blue\", \"tab:orange\", \"tab:green\", \"tab:red\", \"tab:purple\"]\n",
    "\n",
    "    # Create plot\n",
    "    plt.bar(labels, size, align=\"center\", color=colors, width=0.8)\n",
    "\n",
    "    # Set a Title and labels\n",
    "    plt.title(f\"Austin Population Distribution {year}\")\n",
    "    plt.xlabel(\"Race/Ethnicity\")\n",
    "    plt.ylabel(\"Number of People\")\n",
    "\n",
    "    return"
   ]
  },
  {
   "cell_type": "code",
   "execution_count": 70,
   "metadata": {},
   "outputs": [
    {
     "data": {
      "image/png": "[encoded data removed]",
      "text/plain": [
       "<Figure size 432x288 with 1 Axes>"
      ]
     },
     "metadata": {
      "needs_background": "light"
     },
     "output_type": "display_data"
    }
   ],
   "source": [
    "bar_graph_year(2011)"
   ]
  },
  {
   "cell_type": "code",
   "execution_count": 71,
   "metadata": {},
   "outputs": [
    {
     "data": {
      "image/png": "[encoded data removed]",
      "text/plain": [
       "<Figure size 432x288 with 1 Axes>"
      ]
     },
     "metadata": {
      "needs_background": "light"
     },
     "output_type": "display_data"
    }
   ],
   "source": [
    "bar_graph_year(2012)"
   ]
  },
  {
   "cell_type": "code",
   "execution_count": 72,
   "metadata": {},
   "outputs": [
    {
     "data": {
      "image/png": "[encoded data removed]",
      "text/plain": [
       "<Figure size 432x288 with 1 Axes>"
      ]
     },
     "metadata": {
      "needs_background": "light"
     },
     "output_type": "display_data"
    }
   ],
   "source": [
    "bar_graph_year(2013)"
   ]
  },
  {
   "cell_type": "code",
   "execution_count": 73,
   "metadata": {},
   "outputs": [
    {
     "data": {
      "image/png": "[encoded data removed]",
      "text/plain": [
       "<Figure size 432x288 with 1 Axes>"
      ]
     },
     "metadata": {
      "needs_background": "light"
     },
     "output_type": "display_data"
    }
   ],
   "source": [
    "bar_graph_year(2013)"
   ]
  },
  {
   "cell_type": "code",
   "execution_count": 74,
   "metadata": {},
   "outputs": [
    {
     "data": {
      "image/png": "[encoded data removed]",
      "text/plain": [
       "<Figure size 432x288 with 1 Axes>"
      ]
     },
     "metadata": {
      "needs_background": "light"
     },
     "output_type": "display_data"
    }
   ],
   "source": [
    "bar_graph_year(2014)"
   ]
  },
  {
   "cell_type": "code",
   "execution_count": null,
   "metadata": {},
   "outputs": [],
   "source": []
  },
  {
   "cell_type": "code",
   "execution_count": null,
   "metadata": {},
   "outputs": [],
   "source": []
  },
  {
   "cell_type": "markdown",
   "metadata": {},
   "source": [
    "### Population Distribution "
   ]
  },
  {
   "cell_type": "code",
   "execution_count": null,
   "metadata": {},
   "outputs": [],
   "source": []
  },
  {
   "cell_type": "code",
   "execution_count": null,
   "metadata": {},
   "outputs": [],
   "source": []
  },
  {
   "cell_type": "code",
   "execution_count": null,
   "metadata": {},
   "outputs": [],
   "source": [
    "test = population_df[[population_df[\"Population_2011\"].sum(), population_df[\"Population_2012\"].sum()]]"
   ]
  },
  {
   "cell_type": "code",
   "execution_count": null,
   "metadata": {},
   "outputs": [],
   "source": []
  }
 ],
 "metadata": {
  "kernelspec": {
   "display_name": "Python 3",
   "language": "python",
   "name": "python3"
  },
  "language_info": {
   "codemirror_mode": {
    "name": "ipython",
    "version": 3
   },
   "file_extension": ".py",
   "mimetype": "text/x-python",
   "name": "python",
   "nbconvert_exporter": "python",
   "pygments_lexer": "ipython3",
   "version": "3.7.1"
  }
 },
 "nbformat": 4,
 "nbformat_minor": 2
}
