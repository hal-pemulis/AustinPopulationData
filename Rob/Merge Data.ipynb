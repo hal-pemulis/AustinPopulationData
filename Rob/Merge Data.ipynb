{
 "cells": [
  {
   "cell_type": "code",
   "execution_count": 1,
   "metadata": {},
   "outputs": [],
   "source": [
    "# Dependencies\n",
    "import numpy as np\n",
    "import pandas as pd\n",
    "import matplotlib.pyplot as plt"
   ]
  },
  {
   "cell_type": "markdown",
   "metadata": {},
   "source": [
    "### Clean Education Data"
   ]
  },
  {
   "cell_type": "code",
   "execution_count": null,
   "metadata": {},
   "outputs": [],
   "source": [
    "# Import CSV files for education data\n",
    "edu_file_2012 = \"../Resources/Census.gov/By_Year/Austin_education/Austin_education_2012.csv\"\n",
    "edu_file_2013 = \"../Resources/Census.gov/By_Year/Austin_education/Austin_education_2013.csv\"\n",
    "edu_file_2014 = \"../Resources/Census.gov/By_Year/Austin_education/Austin_education_2014.csv\"\n",
    "edu_file_2015 = \"../Resources/Census.gov/By_Year/Austin_education/Austin_education_2015.csv\"\n",
    "edu_file_2016 = \"../Resources/Census.gov/By_Year/Austin_education/Austin_education_2016.csv\"\n",
    "edu_file_2017 = \"../Resources/Census.gov/By_Year/Austin_education/Austin_education_2017.csv\"\n",
    "edu_file_2018 = \"../Resources/Census.gov/By_Year/Austin_education/Austin_education_2018.csv\"\n",
    "\n",
    "# Read CSVs\n",
    "ed_csv_2012 = pd.read_csv(edu_file_2012)\n",
    "ed_csv_2013 = pd.read_csv(edu_file_2013)\n",
    "ed_csv_2014 = pd.read_csv(edu_file_2014)\n",
    "ed_csv_2015 = pd.read_csv(edu_file_2015)\n",
    "ed_csv_2016 = pd.read_csv(edu_file_2016)\n",
    "ed_csv_2017 = pd.read_csv(edu_file_2017)\n",
    "ed_csv_2018 = pd.read_csv(edu_file_2018)"
   ]
  }
 ],
 "metadata": {
  "kernelspec": {
   "display_name": "Python 3",
   "language": "python",
   "name": "python3"
  },
  "language_info": {
   "codemirror_mode": {
    "name": "ipython",
    "version": 3
   },
   "file_extension": ".py",
   "mimetype": "text/x-python",
   "name": "python",
   "nbconvert_exporter": "python",
   "pygments_lexer": "ipython3",
   "version": "3.7.1"
  }
 },
 "nbformat": 4,
 "nbformat_minor": 2
}
